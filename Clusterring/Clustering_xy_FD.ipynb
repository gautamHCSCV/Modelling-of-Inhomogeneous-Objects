{
  "cells": [
    {
      "cell_type": "code",
      "source": [
        "!pip install catboost"
      ],
      "metadata": {
        "colab": {
          "base_uri": "https://localhost:8080/"
        },
        "id": "LnsEmHULy0sz",
        "outputId": "c248b971-6316-4854-c0ec-428aa7e96af8"
      },
      "execution_count": 1,
      "outputs": [
        {
          "output_type": "stream",
          "name": "stdout",
          "text": [
            "Looking in indexes: https://pypi.org/simple, https://us-python.pkg.dev/colab-wheels/public/simple/\n",
            "Collecting catboost\n",
            "  Downloading catboost-1.2-cp310-cp310-manylinux2014_x86_64.whl (98.6 MB)\n",
            "\u001b[2K     \u001b[90m━━━━━━━━━━━━━━━━━━━━━━━━━━━━━━━━━━━━━━━━\u001b[0m \u001b[32m98.6/98.6 MB\u001b[0m \u001b[31m5.5 MB/s\u001b[0m eta \u001b[36m0:00:00\u001b[0m\n",
            "\u001b[?25hRequirement already satisfied: graphviz in /usr/local/lib/python3.10/dist-packages (from catboost) (0.20.1)\n",
            "Requirement already satisfied: matplotlib in /usr/local/lib/python3.10/dist-packages (from catboost) (3.7.1)\n",
            "Requirement already satisfied: numpy>=1.16.0 in /usr/local/lib/python3.10/dist-packages (from catboost) (1.22.4)\n",
            "Requirement already satisfied: pandas>=0.24 in /usr/local/lib/python3.10/dist-packages (from catboost) (1.5.3)\n",
            "Requirement already satisfied: scipy in /usr/local/lib/python3.10/dist-packages (from catboost) (1.10.1)\n",
            "Requirement already satisfied: plotly in /usr/local/lib/python3.10/dist-packages (from catboost) (5.13.1)\n",
            "Requirement already satisfied: six in /usr/local/lib/python3.10/dist-packages (from catboost) (1.16.0)\n",
            "Requirement already satisfied: python-dateutil>=2.8.1 in /usr/local/lib/python3.10/dist-packages (from pandas>=0.24->catboost) (2.8.2)\n",
            "Requirement already satisfied: pytz>=2020.1 in /usr/local/lib/python3.10/dist-packages (from pandas>=0.24->catboost) (2022.7.1)\n",
            "Requirement already satisfied: contourpy>=1.0.1 in /usr/local/lib/python3.10/dist-packages (from matplotlib->catboost) (1.0.7)\n",
            "Requirement already satisfied: cycler>=0.10 in /usr/local/lib/python3.10/dist-packages (from matplotlib->catboost) (0.11.0)\n",
            "Requirement already satisfied: fonttools>=4.22.0 in /usr/local/lib/python3.10/dist-packages (from matplotlib->catboost) (4.39.3)\n",
            "Requirement already satisfied: kiwisolver>=1.0.1 in /usr/local/lib/python3.10/dist-packages (from matplotlib->catboost) (1.4.4)\n",
            "Requirement already satisfied: packaging>=20.0 in /usr/local/lib/python3.10/dist-packages (from matplotlib->catboost) (23.1)\n",
            "Requirement already satisfied: pillow>=6.2.0 in /usr/local/lib/python3.10/dist-packages (from matplotlib->catboost) (8.4.0)\n",
            "Requirement already satisfied: pyparsing>=2.3.1 in /usr/local/lib/python3.10/dist-packages (from matplotlib->catboost) (3.0.9)\n",
            "Requirement already satisfied: tenacity>=6.2.0 in /usr/local/lib/python3.10/dist-packages (from plotly->catboost) (8.2.2)\n",
            "Installing collected packages: catboost\n",
            "Successfully installed catboost-1.2\n"
          ]
        }
      ]
    },
    {
      "cell_type": "code",
      "execution_count": 2,
      "metadata": {
        "id": "-VjuA1WW4ond"
      },
      "outputs": [],
      "source": [
        "import pandas as pd\n",
        "import numpy as np\n",
        "import os\n",
        "import csv\n",
        "from datetime import datetime\n",
        "from catboost import CatBoostRegressor\n",
        "import matplotlib.pyplot as plt\n",
        "from sklearn.ensemble import RandomForestRegressor\n",
        "from sklearn.linear_model import LinearRegression\n",
        "from sklearn.metrics import mean_squared_error\n",
        "from sklearn.model_selection import train_test_split\n",
        "\n",
        "import warnings\n",
        "warnings.filterwarnings('ignore')"
      ]
    },
    {
      "cell_type": "code",
      "execution_count": 3,
      "metadata": {
        "colab": {
          "base_uri": "https://localhost:8080/"
        },
        "id": "yUMtK4IG4pAT",
        "outputId": "1c1b63ae-48b9-4b0a-9585-81802d38321d"
      },
      "outputs": [
        {
          "output_type": "stream",
          "name": "stdout",
          "text": [
            "Mounted at /content/drive\n"
          ]
        }
      ],
      "source": [
        "from google.colab import drive\n",
        "drive.mount('/content/drive')"
      ]
    },
    {
      "cell_type": "markdown",
      "metadata": {
        "id": "HfwZrWmClg6r"
      },
      "source": [
        "# Models Estimation"
      ]
    },
    {
      "cell_type": "code",
      "source": [
        "path = '/content/drive/MyDrive/Virtual env/z_inhomogenous_modeling/ecoflex_181221_rf_rd_data/'\n",
        "path1 = '/content/drive/MyDrive/Virtual env/z_inhomogenous_modeling/x_y_data_all_points/'\n",
        "train_path = '/content/drive/MyDrive/Virtual env/z_inhomogenous_modeling/percep_fbl_rf_rd_seperately_data/'\n",
        "\n",
        "path2 = '/content/drive/MyDrive/Virtual env/z_inhomogenous_modeling/'\n",
        "arr = np.array(pd.read_csv(path2+'x_y_value_for_all_points.csv', names = ['x','y']))\n",
        "print(arr.shape)\n",
        "arr[:5]"
      ],
      "metadata": {
        "colab": {
          "base_uri": "https://localhost:8080/"
        },
        "id": "ucUPauxyNhNS",
        "outputId": "d396679f-0ca8-4483-a9a9-6f9d3841700e"
      },
      "execution_count": 7,
      "outputs": [
        {
          "output_type": "stream",
          "name": "stdout",
          "text": [
            "(200, 2)\n"
          ]
        },
        {
          "output_type": "execute_result",
          "data": {
            "text/plain": [
              "array([[-0.0005, -0.026 ],\n",
              "       [-0.0005,  0.017 ],\n",
              "       [-0.0008,  0.0183],\n",
              "       [-0.0009, -0.0115],\n",
              "       [-0.0009,  0.0066]])"
            ]
          },
          "metadata": {},
          "execution_count": 7
        }
      ]
    },
    {
      "cell_type": "code",
      "source": [
        "from sklearn.cluster import KMeans\n",
        "k_values = range(1, 11)\n",
        "\n",
        "# Perform k-means clustering for each k value\n",
        "inertia_values = []\n",
        "for k in k_values:\n",
        "    kmeans = KMeans(n_clusters=k)\n",
        "    kmeans.fit(arr)\n",
        "    inertia_values.append(kmeans.inertia_)\n",
        "\n",
        "# Plot the inertia values against the number of clusters\n",
        "plt.plot(k_values, inertia_values, 'bx-')\n",
        "plt.xlabel('Number of Clusters (k)')\n",
        "plt.ylabel('Inertia')\n",
        "plt.title('Elbow Method for Optimal k')\n",
        "plt.show()"
      ],
      "metadata": {
        "colab": {
          "base_uri": "https://localhost:8080/",
          "height": 472
        },
        "id": "Zt9_E6leNhPt",
        "outputId": "43debca0-fb88-4d56-8300-63fde63d5091"
      },
      "execution_count": 8,
      "outputs": [
        {
          "output_type": "display_data",
          "data": {
            "text/plain": [
              "<Figure size 640x480 with 1 Axes>"
            ],
            "image/png": "[encoded data removed]"
          },
          "metadata": {}
        }
      ]
    },
    {
      "cell_type": "code",
      "source": [
        "kmeans = KMeans(n_clusters=5)\n",
        "kmeans.fit(arr)\n",
        "kmeans.cluster_centers_"
      ],
      "metadata": {
        "colab": {
          "base_uri": "https://localhost:8080/"
        },
        "id": "qV6h2XhMNhSF",
        "outputId": "4e3f3c5e-520b-45bd-d422-bca97912ce0e"
      },
      "execution_count": 9,
      "outputs": [
        {
          "output_type": "execute_result",
          "data": {
            "text/plain": [
              "array([[ 0.01478   , -0.014034  ],\n",
              "       [-0.01118718,  0.00201538],\n",
              "       [-0.01482857,  0.0219    ],\n",
              "       [-0.01369512, -0.02020976],\n",
              "       [ 0.01110408,  0.01444898]])"
            ]
          },
          "metadata": {},
          "execution_count": 9
        }
      ]
    },
    {
      "cell_type": "code",
      "source": [
        "from collections import defaultdict\n",
        "d = defaultdict(lambda: [])\n",
        "for i in range(200):\n",
        "    label = kmeans.predict([arr[i]])[0]\n",
        "    d[label].append(i)\n",
        "\n",
        "for i in range(5):\n",
        "    print(d[i])"
      ],
      "metadata": {
        "colab": {
          "base_uri": "https://localhost:8080/"
        },
        "id": "3VidKKl6QOag",
        "outputId": "2cc6f19f-01a3-4e49-a622-97014cfe7fd2"
      },
      "execution_count": 19,
      "outputs": [
        {
          "output_type": "stream",
          "name": "stdout",
          "text": [
            "[108, 110, 111, 114, 118, 121, 124, 126, 131, 132, 133, 135, 136, 137, 138, 141, 142, 143, 144, 147, 148, 149, 151, 152, 154, 155, 158, 161, 164, 169, 170, 173, 176, 178, 179, 180, 181, 182, 185, 186, 187, 188, 190, 192, 194, 195, 196, 197, 198, 199]\n",
            "[4, 6, 7, 8, 10, 12, 13, 14, 17, 18, 21, 23, 24, 25, 29, 32, 34, 39, 41, 42, 43, 45, 46, 48, 50, 64, 67, 68, 69, 73, 75, 78, 81, 89, 92, 93, 94, 100, 104]\n",
            "[5, 9, 15, 19, 28, 36, 51, 52, 55, 58, 62, 63, 65, 66, 70, 79, 85, 90, 96, 97, 99]\n",
            "[0, 3, 11, 16, 20, 22, 26, 27, 30, 31, 33, 35, 37, 38, 40, 44, 47, 49, 53, 54, 56, 57, 59, 60, 61, 71, 72, 74, 76, 77, 80, 82, 83, 84, 86, 87, 88, 91, 95, 98, 105]\n",
            "[1, 2, 101, 102, 103, 106, 107, 109, 112, 113, 115, 116, 117, 119, 120, 122, 123, 125, 127, 128, 129, 130, 134, 139, 140, 145, 146, 150, 153, 156, 157, 159, 160, 162, 163, 165, 166, 167, 168, 171, 172, 174, 175, 177, 183, 184, 189, 191, 193]\n"
          ]
        }
      ]
    },
    {
      "cell_type": "code",
      "source": [
        "from scipy.linalg import norm\n",
        "\n",
        "def dist(i):\n",
        "    at = -1\n",
        "    mini = 10\n",
        "    for j in range(len(d[i])):\n",
        "        dis = ((arr[d[i][j]][0]- kmeans.cluster_centers_[i][0])**2 + (arr[d[i][j]][1]- kmeans.cluster_centers_[i][1])**2)**0.5\n",
        "        if dis <mini:\n",
        "            mini = dis \n",
        "            at = j\n",
        "    print(f'{d[i][at]+1} is the master node of {i}th cluster')\n",
        "    print(arr[d[i][at]], kmeans.cluster_centers_[i],'\\n')\n",
        "for i in range(5):\n",
        "    dist(i)"
      ],
      "metadata": {
        "colab": {
          "base_uri": "https://localhost:8080/"
        },
        "id": "oqtI7_3kQOc8",
        "outputId": "0acf3a53-0c66-42b5-c79f-c4f4514eddac"
      },
      "execution_count": 27,
      "outputs": [
        {
          "output_type": "stream",
          "name": "stdout",
          "text": [
            "162 is the master node of 0th cluster\n",
            "[ 0.0159 -0.0166] [ 0.01478  -0.014034] \n",
            "\n",
            "40 is the master node of 1th cluster\n",
            "[-0.0103  0.0031] [-0.01118718  0.00201538] \n",
            "\n",
            "52 is the master node of 2th cluster\n",
            "[-0.014   0.0232] [-0.01482857  0.0219    ] \n",
            "\n",
            "45 is the master node of 3th cluster\n",
            "[-0.0122 -0.0208] [-0.01369512 -0.02020976] \n",
            "\n",
            "147 is the master node of 4th cluster\n",
            "[0.0119 0.0134] [0.01110408 0.01444898] \n",
            "\n"
          ]
        }
      ]
    },
    {
      "cell_type": "markdown",
      "source": [
        "# Training and Evaluation of Clusters"
      ],
      "metadata": {
        "id": "vs4XGc9iYnQe"
      }
    },
    {
      "cell_type": "code",
      "source": [
        "x1 = np.array(pd.read_csv(path+f'{162}_pos_ecoflex_181221_derivative_data.csv')) # fractional derivatives\n",
        "y1 = np.array(pd.read_csv(path+f'{162}_force_ecoflex_181221_derivative_data.csv'))\n",
        "l = len(y1)\n",
        "arr = np.array(pd.read_csv(path1+f'{162}_x_y_pos_vel_ecoflex_181221_data.csv'))[:l,:2] # x and y values\n",
        "x2 = np.concatenate([x1,arr], axis = 1)\n",
        "rf = RandomForestRegressor()\n",
        "rf.fit(x2,y1)"
      ],
      "metadata": {
        "colab": {
          "base_uri": "https://localhost:8080/",
          "height": 74
        },
        "id": "Y6XQFXNtUQgy",
        "outputId": "bdec9f30-4378-4bbc-94cb-a876c9fdc243"
      },
      "execution_count": 32,
      "outputs": [
        {
          "output_type": "execute_result",
          "data": {
            "text/plain": [
              "RandomForestRegressor()"
            ],
            "text/html": [
              "<style>#sk-container-id-1 {color: black;background-color: white;}#sk-container-id-1 pre{padding: 0;}#sk-container-id-1 div.sk-toggleable {background-color: white;}#sk-container-id-1 label.sk-toggleable__label {cursor: pointer;display: block;width: 100%;margin-bottom: 0;padding: 0.3em;box-sizing: border-box;text-align: center;}#sk-container-id-1 label.sk-toggleable__label-arrow:before {content: \"▸\";float: left;margin-right: 0.25em;color: #696969;}#sk-container-id-1 label.sk-toggleable__label-arrow:hover:before {color: black;}#sk-container-id-1 div.sk-estimator:hover label.sk-toggleable__label-arrow:before {color: black;}#sk-container-id-1 div.sk-toggleable__content {max-height: 0;max-width: 0;overflow: hidden;text-align: left;background-color: #f0f8ff;}#sk-container-id-1 div.sk-toggleable__content pre {margin: 0.2em;color: black;border-radius: 0.25em;background-color: #f0f8ff;}#sk-container-id-1 input.sk-toggleable__control:checked~div.sk-toggleable__content {max-height: 200px;max-width: 100%;overflow: auto;}#sk-container-id-1 input.sk-toggleable__control:checked~label.sk-toggleable__label-arrow:before {content: \"▾\";}#sk-container-id-1 div.sk-estimator input.sk-toggleable__control:checked~label.sk-toggleable__label {background-color: #d4ebff;}#sk-container-id-1 div.sk-label input.sk-toggleable__control:checked~label.sk-toggleable__label {background-color: #d4ebff;}#sk-container-id-1 input.sk-hidden--visually {border: 0;clip: rect(1px 1px 1px 1px);clip: rect(1px, 1px, 1px, 1px);height: 1px;margin: -1px;overflow: hidden;padding: 0;position: absolute;width: 1px;}#sk-container-id-1 div.sk-estimator {font-family: monospace;background-color: #f0f8ff;border: 1px dotted black;border-radius: 0.25em;box-sizing: border-box;margin-bottom: 0.5em;}#sk-container-id-1 div.sk-estimator:hover {background-color: #d4ebff;}#sk-container-id-1 div.sk-parallel-item::after {content: \"\";width: 100%;border-bottom: 1px solid gray;flex-grow: 1;}#sk-container-id-1 div.sk-label:hover label.sk-toggleable__label {background-color: #d4ebff;}#sk-container-id-1 div.sk-serial::before {content: \"\";position: absolute;border-left: 1px solid gray;box-sizing: border-box;top: 0;bottom: 0;left: 50%;z-index: 0;}#sk-container-id-1 div.sk-serial {display: flex;flex-direction: column;align-items: center;background-color: white;padding-right: 0.2em;padding-left: 0.2em;position: relative;}#sk-container-id-1 div.sk-item {position: relative;z-index: 1;}#sk-container-id-1 div.sk-parallel {display: flex;align-items: stretch;justify-content: center;background-color: white;position: relative;}#sk-container-id-1 div.sk-item::before, #sk-container-id-1 div.sk-parallel-item::before {content: \"\";position: absolute;border-left: 1px solid gray;box-sizing: border-box;top: 0;bottom: 0;left: 50%;z-index: -1;}#sk-container-id-1 div.sk-parallel-item {display: flex;flex-direction: column;z-index: 1;position: relative;background-color: white;}#sk-container-id-1 div.sk-parallel-item:first-child::after {align-self: flex-end;width: 50%;}#sk-container-id-1 div.sk-parallel-item:last-child::after {align-self: flex-start;width: 50%;}#sk-container-id-1 div.sk-parallel-item:only-child::after {width: 0;}#sk-container-id-1 div.sk-dashed-wrapped {border: 1px dashed gray;margin: 0 0.4em 0.5em 0.4em;box-sizing: border-box;padding-bottom: 0.4em;background-color: white;}#sk-container-id-1 div.sk-label label {font-family: monospace;font-weight: bold;display: inline-block;line-height: 1.2em;}#sk-container-id-1 div.sk-label-container {text-align: center;}#sk-container-id-1 div.sk-container {/* jupyter's `normalize.less` sets `[hidden] { display: none; }` but bootstrap.min.css set `[hidden] { display: none !important; }` so we also need the `!important` here to be able to override the default hidden behavior on the sphinx rendered scikit-learn.org. See: https://github.com/scikit-learn/scikit-learn/issues/21755 */display: inline-block !important;position: relative;}#sk-container-id-1 div.sk-text-repr-fallback {display: none;}</style><div id=\"sk-container-id-1\" class=\"sk-top-container\"><div class=\"sk-text-repr-fallback\"><pre>RandomForestRegressor()</pre><b>In a Jupyter environment, please rerun this cell to show the HTML representation or trust the notebook. <br />On GitHub, the HTML representation is unable to render, please try loading this page with nbviewer.org.</b></div><div class=\"sk-container\" hidden><div class=\"sk-item\"><div class=\"sk-estimator sk-toggleable\"><input class=\"sk-toggleable__control sk-hidden--visually\" id=\"sk-estimator-id-1\" type=\"checkbox\" checked><label for=\"sk-estimator-id-1\" class=\"sk-toggleable__label sk-toggleable__label-arrow\">RandomForestRegressor</label><div class=\"sk-toggleable__content\"><pre>RandomForestRegressor()</pre></div></div></div></div></div>"
            ]
          },
          "metadata": {},
          "execution_count": 32
        }
      ]
    },
    {
      "cell_type": "code",
      "source": [
        "error = []\n",
        "array = np.array(d[0])+1\n",
        "for i in array:\n",
        "    arr = np.array(pd.read_csv(path1+f'{i}_x_y_pos_vel_ecoflex_181221_data.csv'))[:,:2] # x and y values\n",
        "    x1 = np.array(pd.read_csv(path+f'{i}_pos_ecoflex_181221_derivative_data.csv')) # fractional derivatives\n",
        "    y1 = np.array(pd.read_csv(path+f'{i}_force_ecoflex_181221_derivative_data.csv'))\n",
        "    x2 = np.concatenate([x1,arr], axis = 1)\n",
        "    y_pred = rf.predict(x2)\n",
        "    statement = f'For point: {i}, Error: {mean_squared_error(y_pred, y1)**0.5}\\n'\n",
        "    #print(f'For point: {i}, Error: {mean_squared_error(y_pred, y1)**0.5}')\n",
        "    error.append(mean_squared_error(y_pred, y1)**0.5)\n",
        "    with open('results.txt','a') as f:\n",
        "        f.write(statement)\n",
        "print(sum(error)/len(error))\n",
        "print(max(error), min(error))"
      ],
      "metadata": {
        "colab": {
          "base_uri": "https://localhost:8080/"
        },
        "id": "9VnRREEZRtfg",
        "outputId": "aa45c321-d806-4886-c2c4-2d0e544f684c"
      },
      "execution_count": 33,
      "outputs": [
        {
          "output_type": "stream",
          "name": "stdout",
          "text": [
            "0.38808968997829024\n"
          ]
        }
      ]
    },
    {
      "cell_type": "code",
      "source": [
        "x1 = np.array(pd.read_csv(path+f'{40}_pos_ecoflex_181221_derivative_data.csv')) # fractional derivatives\n",
        "y1 = np.array(pd.read_csv(path+f'{40}_force_ecoflex_181221_derivative_data.csv'))\n",
        "l = len(y1)\n",
        "arr = np.array(pd.read_csv(path1+f'{40}_x_y_pos_vel_ecoflex_181221_data.csv'))[:l,:2] # x and y values\n",
        "x2 = np.concatenate([x1,arr], axis = 1)\n",
        "rf = RandomForestRegressor()\n",
        "rf.fit(x2,y1)\n",
        "\n",
        "error = []\n",
        "array = np.array(d[1])+1\n",
        "for i in array:\n",
        "    arr = np.array(pd.read_csv(path1+f'{i}_x_y_pos_vel_ecoflex_181221_data.csv'))[:,:2] # x and y values\n",
        "    x1 = np.array(pd.read_csv(path+f'{i}_pos_ecoflex_181221_derivative_data.csv')) # fractional derivatives\n",
        "    y1 = np.array(pd.read_csv(path+f'{i}_force_ecoflex_181221_derivative_data.csv'))\n",
        "    x2 = np.concatenate([x1,arr], axis = 1)\n",
        "    y_pred = rf.predict(x2)\n",
        "    statement = f'For point: {i}, Error: {mean_squared_error(y_pred, y1)**0.5}\\n'\n",
        "    #print(f'For point: {i}, Error: {mean_squared_error(y_pred, y1)**0.5}')\n",
        "    error.append(mean_squared_error(y_pred, y1)**0.5)\n",
        "    with open('results.txt','a') as f:\n",
        "        f.write(statement)\n",
        "print(sum(error)/len(error))\n",
        "print(max(error), min(error))"
      ],
      "metadata": {
        "colab": {
          "base_uri": "https://localhost:8080/"
        },
        "id": "yS7kF0JdZ-bs",
        "outputId": "e7429c93-f898-4450-eb13-1028195046b3"
      },
      "execution_count": 34,
      "outputs": [
        {
          "output_type": "stream",
          "name": "stdout",
          "text": [
            "0.4749449885112794\n",
            "1.432503914484652 0.02053431099787685\n"
          ]
        }
      ]
    },
    {
      "cell_type": "code",
      "source": [
        "x1 = np.array(pd.read_csv(path+f'{52}_pos_ecoflex_181221_derivative_data.csv')) # fractional derivatives\n",
        "y1 = np.array(pd.read_csv(path+f'{52}_force_ecoflex_181221_derivative_data.csv'))\n",
        "l = len(y1)\n",
        "arr = np.array(pd.read_csv(path1+f'{52}_x_y_pos_vel_ecoflex_181221_data.csv'))[:l,:2] # x and y values\n",
        "x2 = np.concatenate([x1,arr], axis = 1)\n",
        "rf = RandomForestRegressor()\n",
        "rf.fit(x2,y1)\n",
        "\n",
        "error = []\n",
        "array = np.array(d[2])+1\n",
        "for i in array:\n",
        "    arr = np.array(pd.read_csv(path1+f'{i}_x_y_pos_vel_ecoflex_181221_data.csv'))[:,:2] # x and y values\n",
        "    x1 = np.array(pd.read_csv(path+f'{i}_pos_ecoflex_181221_derivative_data.csv')) # fractional derivatives\n",
        "    y1 = np.array(pd.read_csv(path+f'{i}_force_ecoflex_181221_derivative_data.csv'))\n",
        "    x2 = np.concatenate([x1,arr], axis = 1)\n",
        "    y_pred = rf.predict(x2)\n",
        "    statement = f'For point: {i}, Error: {mean_squared_error(y_pred, y1)**0.5}\\n'\n",
        "    #print(f'For point: {i}, Error: {mean_squared_error(y_pred, y1)**0.5}')\n",
        "    error.append(mean_squared_error(y_pred, y1)**0.5)\n",
        "    with open('results.txt','a') as f:\n",
        "        f.write(statement)\n",
        "print(sum(error)/len(error))\n",
        "print(max(error), min(error))"
      ],
      "metadata": {
        "colab": {
          "base_uri": "https://localhost:8080/"
        },
        "id": "h55NwEWXZ-pi",
        "outputId": "13efd1d3-e075-43f9-d576-98af84539454"
      },
      "execution_count": 35,
      "outputs": [
        {
          "output_type": "stream",
          "name": "stdout",
          "text": [
            "0.19183919820944903\n",
            "0.40148130913317626 0.02355151354971785\n"
          ]
        }
      ]
    },
    {
      "cell_type": "code",
      "source": [
        "x1 = np.array(pd.read_csv(path+f'{45}_pos_ecoflex_181221_derivative_data.csv')) # fractional derivatives\n",
        "y1 = np.array(pd.read_csv(path+f'{45}_force_ecoflex_181221_derivative_data.csv'))\n",
        "l = len(y1)\n",
        "arr = np.array(pd.read_csv(path1+f'{45}_x_y_pos_vel_ecoflex_181221_data.csv'))[:l,:2] # x and y values\n",
        "x2 = np.concatenate([x1,arr], axis = 1)\n",
        "rf = RandomForestRegressor()\n",
        "rf.fit(x2,y1)\n",
        "\n",
        "error = []\n",
        "array = np.array(d[3])+1\n",
        "for i in array:\n",
        "    arr = np.array(pd.read_csv(path1+f'{i}_x_y_pos_vel_ecoflex_181221_data.csv'))[:,:2] # x and y values\n",
        "    x1 = np.array(pd.read_csv(path+f'{i}_pos_ecoflex_181221_derivative_data.csv')) # fractional derivatives\n",
        "    y1 = np.array(pd.read_csv(path+f'{i}_force_ecoflex_181221_derivative_data.csv'))\n",
        "    x2 = np.concatenate([x1,arr], axis = 1)\n",
        "    y_pred = rf.predict(x2)\n",
        "    statement = f'For point: {i}, Error: {mean_squared_error(y_pred, y1)**0.5}\\n'\n",
        "    #print(f'For point: {i}, Error: {mean_squared_error(y_pred, y1)**0.5}')\n",
        "    error.append(mean_squared_error(y_pred, y1)**0.5)\n",
        "    with open('results.txt','a') as f:\n",
        "        f.write(statement)\n",
        "print(sum(error)/len(error))\n",
        "print(max(error), min(error))"
      ],
      "metadata": {
        "colab": {
          "base_uri": "https://localhost:8080/"
        },
        "id": "0AeH-nE4Z_E1",
        "outputId": "6f1016b6-4f8f-481d-8ca6-e27c1cf429a2"
      },
      "execution_count": 36,
      "outputs": [
        {
          "output_type": "stream",
          "name": "stdout",
          "text": [
            "0.2623617528171891\n",
            "0.8334688181214157 0.011827684866475585\n"
          ]
        }
      ]
    },
    {
      "cell_type": "code",
      "source": [
        "x1 = np.array(pd.read_csv(path+f'{147}_pos_ecoflex_181221_derivative_data.csv')) # fractional derivatives\n",
        "y1 = np.array(pd.read_csv(path+f'{147}_force_ecoflex_181221_derivative_data.csv'))\n",
        "l = len(y1)\n",
        "arr = np.array(pd.read_csv(path1+f'{147}_x_y_pos_vel_ecoflex_181221_data.csv'))[:l,:2] # x and y values\n",
        "x2 = np.concatenate([x1,arr], axis = 1)\n",
        "rf = RandomForestRegressor()\n",
        "rf.fit(x2,y1)\n",
        "\n",
        "error = []\n",
        "array = np.array(d[4])+1\n",
        "for i in array:\n",
        "    arr = np.array(pd.read_csv(path1+f'{i}_x_y_pos_vel_ecoflex_181221_data.csv'))[:,:2] # x and y values\n",
        "    x1 = np.array(pd.read_csv(path+f'{i}_pos_ecoflex_181221_derivative_data.csv')) # fractional derivatives\n",
        "    y1 = np.array(pd.read_csv(path+f'{i}_force_ecoflex_181221_derivative_data.csv'))\n",
        "    x2 = np.concatenate([x1,arr], axis = 1)\n",
        "    y_pred = rf.predict(x2)\n",
        "    statement = f'For point: {i}, Error: {mean_squared_error(y_pred, y1)**0.5}\\n'\n",
        "    #print(f'For point: {i}, Error: {mean_squared_error(y_pred, y1)**0.5}')\n",
        "    error.append(mean_squared_error(y_pred, y1)**0.5)\n",
        "    with open('results.txt','a') as f:\n",
        "        f.write(statement)\n",
        "print(sum(error)/len(error))\n",
        "print(max(error), min(error))"
      ],
      "metadata": {
        "colab": {
          "base_uri": "https://localhost:8080/"
        },
        "id": "APiHTdSxafdc",
        "outputId": "aa33523d-0861-4a8d-da9a-0db7625a34ad"
      },
      "execution_count": 37,
      "outputs": [
        {
          "output_type": "stream",
          "name": "stdout",
          "text": [
            "0.29748046423584884\n",
            "0.6802719037327731 0.021342145201936873\n"
          ]
        }
      ]
    },
    {
      "cell_type": "code",
      "source": [],
      "metadata": {
        "id": "vDZ9BTACafl9"
      },
      "execution_count": null,
      "outputs": []
    },
    {
      "cell_type": "code",
      "source": [],
      "metadata": {
        "id": "ngt4QjtmT_9l"
      },
      "execution_count": null,
      "outputs": []
    }
  ],
  "metadata": {
    "colab": {
      "provenance": []
    },
    "kernelspec": {
      "display_name": "Python 3",
      "language": "python",
      "name": "python3"
    },
    "language_info": {
      "codemirror_mode": {
        "name": "ipython",
        "version": 3
      },
      "file_extension": ".py",
      "mimetype": "text/x-python",
      "name": "python",
      "nbconvert_exporter": "python",
      "pygments_lexer": "ipython3",
      "version": "3.7.4"
    }
  },
  "nbformat": 4,
  "nbformat_minor": 0
}