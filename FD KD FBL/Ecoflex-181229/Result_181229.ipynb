{
  "cells": [
    {
      "cell_type": "code",
      "source": [
        "!pip install catboost"
      ],
      "metadata": {
        "colab": {
          "base_uri": "https://localhost:8080/"
        },
        "id": "LnsEmHULy0sz",
        "outputId": "9ee959c3-a50c-403b-b7be-aab28ac57ab4"
      },
      "execution_count": 1,
      "outputs": [
        {
          "output_type": "stream",
          "name": "stdout",
          "text": [
            "Looking in indexes: https://pypi.org/simple, https://us-python.pkg.dev/colab-wheels/public/simple/\n",
            "Collecting catboost\n",
            "  Downloading catboost-1.2-cp310-cp310-manylinux2014_x86_64.whl (98.6 MB)\n",
            "\u001b[2K     \u001b[90m━━━━━━━━━━━━━━━━━━━━━━━━━━━━━━━━━━━━━━━━\u001b[0m \u001b[32m98.6/98.6 MB\u001b[0m \u001b[31m8.9 MB/s\u001b[0m eta \u001b[36m0:00:00\u001b[0m\n",
            "\u001b[?25hRequirement already satisfied: graphviz in /usr/local/lib/python3.10/dist-packages (from catboost) (0.20.1)\n",
            "Requirement already satisfied: matplotlib in /usr/local/lib/python3.10/dist-packages (from catboost) (3.7.1)\n",
            "Requirement already satisfied: numpy>=1.16.0 in /usr/local/lib/python3.10/dist-packages (from catboost) (1.22.4)\n",
            "Requirement already satisfied: pandas>=0.24 in /usr/local/lib/python3.10/dist-packages (from catboost) (1.5.3)\n",
            "Requirement already satisfied: scipy in /usr/local/lib/python3.10/dist-packages (from catboost) (1.10.1)\n",
            "Requirement already satisfied: plotly in /usr/local/lib/python3.10/dist-packages (from catboost) (5.13.1)\n",
            "Requirement already satisfied: six in /usr/local/lib/python3.10/dist-packages (from catboost) (1.16.0)\n",
            "Requirement already satisfied: python-dateutil>=2.8.1 in /usr/local/lib/python3.10/dist-packages (from pandas>=0.24->catboost) (2.8.2)\n",
            "Requirement already satisfied: pytz>=2020.1 in /usr/local/lib/python3.10/dist-packages (from pandas>=0.24->catboost) (2022.7.1)\n",
            "Requirement already satisfied: contourpy>=1.0.1 in /usr/local/lib/python3.10/dist-packages (from matplotlib->catboost) (1.0.7)\n",
            "Requirement already satisfied: cycler>=0.10 in /usr/local/lib/python3.10/dist-packages (from matplotlib->catboost) (0.11.0)\n",
            "Requirement already satisfied: fonttools>=4.22.0 in /usr/local/lib/python3.10/dist-packages (from matplotlib->catboost) (4.39.3)\n",
            "Requirement already satisfied: kiwisolver>=1.0.1 in /usr/local/lib/python3.10/dist-packages (from matplotlib->catboost) (1.4.4)\n",
            "Requirement already satisfied: packaging>=20.0 in /usr/local/lib/python3.10/dist-packages (from matplotlib->catboost) (23.1)\n",
            "Requirement already satisfied: pillow>=6.2.0 in /usr/local/lib/python3.10/dist-packages (from matplotlib->catboost) (8.4.0)\n",
            "Requirement already satisfied: pyparsing>=2.3.1 in /usr/local/lib/python3.10/dist-packages (from matplotlib->catboost) (3.0.9)\n",
            "Requirement already satisfied: tenacity>=6.2.0 in /usr/local/lib/python3.10/dist-packages (from plotly->catboost) (8.2.2)\n",
            "Installing collected packages: catboost\n",
            "Successfully installed catboost-1.2\n"
          ]
        }
      ]
    },
    {
      "cell_type": "code",
      "execution_count": 2,
      "metadata": {
        "id": "-VjuA1WW4ond"
      },
      "outputs": [],
      "source": [
        "import pandas as pd\n",
        "import numpy as np\n",
        "import os\n",
        "import csv\n",
        "from datetime import datetime\n",
        "from catboost import CatBoostRegressor\n",
        "import matplotlib.pyplot as plt\n",
        "from sklearn.ensemble import RandomForestRegressor\n",
        "from sklearn.linear_model import LinearRegression\n",
        "from sklearn.metrics import mean_squared_error\n",
        "from sklearn.model_selection import train_test_split\n",
        "\n",
        "import warnings\n",
        "warnings.filterwarnings('ignore')"
      ]
    },
    {
      "cell_type": "code",
      "execution_count": 3,
      "metadata": {
        "colab": {
          "base_uri": "https://localhost:8080/"
        },
        "id": "yUMtK4IG4pAT",
        "outputId": "33512cf0-9973-4fdb-fc1d-4413b5921dd6"
      },
      "outputs": [
        {
          "output_type": "stream",
          "name": "stdout",
          "text": [
            "Mounted at /content/drive\n"
          ]
        }
      ],
      "source": [
        "from google.colab import drive\n",
        "drive.mount('/content/drive')"
      ]
    },
    {
      "cell_type": "markdown",
      "metadata": {
        "id": "HfwZrWmClg6r"
      },
      "source": [
        "# Models Estimation"
      ]
    },
    {
      "cell_type": "code",
      "source": [
        "path = '/content/drive/MyDrive/Virtual env/z_inhomogenous_modeling/eco_181229_data_all/'\n",
        "print(len(sorted(os.listdir(path))))\n",
        "rnd_idx = np.array( [2, 8, 25, 28, 31, 40, 48, 51, 55, 59, 63, 71, 75, 89, 96, 123, 132, 150, 172, 183, 130, 121, 200,143,146,103,192,151,119,162,14,6,145] )\n",
        "len(rnd_idx)"
      ],
      "metadata": {
        "id": "3SE2Bftc-VrO",
        "colab": {
          "base_uri": "https://localhost:8080/"
        },
        "outputId": "57bb2e39-4d9d-4eeb-e586-9e74d925fec3"
      },
      "execution_count": 63,
      "outputs": [
        {
          "output_type": "stream",
          "name": "stdout",
          "text": [
            "800\n"
          ]
        },
        {
          "output_type": "execute_result",
          "data": {
            "text/plain": [
              "33"
            ]
          },
          "metadata": {},
          "execution_count": 63
        }
      ]
    },
    {
      "cell_type": "code",
      "source": [
        "y = np.array(pd.read_csv(path+f'{rnd_idx[0]}_percep_force_ecoflex_181229_data.csv'))\n",
        "x = np.array(pd.read_csv(path+f'{rnd_idx[0]}_percep_pos_ecoflex_181229_data.csv'))\n",
        "l = len(y)\n",
        "x.shape, y.shape"
      ],
      "metadata": {
        "colab": {
          "base_uri": "https://localhost:8080/"
        },
        "id": "eKB3r3w-wiM2",
        "outputId": "64cfed1e-56a7-4cb8-aab0-a9c76c80679d"
      },
      "execution_count": 64,
      "outputs": [
        {
          "output_type": "execute_result",
          "data": {
            "text/plain": [
              "((1068, 12), (1068, 1))"
            ]
          },
          "metadata": {},
          "execution_count": 64
        }
      ]
    },
    {
      "cell_type": "code",
      "source": [
        "for i in range(len(rnd_idx)-1):\n",
        "    x1 = np.array(pd.read_csv(path+f'{rnd_idx[i+1]}_percep_pos_ecoflex_181229_data.csv')) # fractional derivatives\n",
        "    y1 = np.array(pd.read_csv(path+f'{rnd_idx[i+1]}_percep_force_ecoflex_181229_data.csv'))\n",
        "\n",
        "    x = np.concatenate([x,x1])\n",
        "    y = np.concatenate([y,y1])\n",
        "print(x.shape, y.shape)"
      ],
      "metadata": {
        "id": "z-q47w4rwpf3",
        "colab": {
          "base_uri": "https://localhost:8080/"
        },
        "outputId": "50dca428-8573-4ea3-e324-8e0c6bb14939"
      },
      "execution_count": 65,
      "outputs": [
        {
          "output_type": "stream",
          "name": "stdout",
          "text": [
            "(38671, 12) (38671, 1)\n"
          ]
        }
      ]
    },
    {
      "cell_type": "code",
      "source": [
        "y_test = np.array(pd.read_csv(path+f'{rnd_idx[3]-2}_force_ecoflex_181229_data.csv'))\n",
        "x_test = np.array(pd.read_csv(path+f'{rnd_idx[3]-2}_pos_ecoflex_181229_data.csv'))\n",
        "\n",
        "x_test.shape, y_test.shape"
      ],
      "metadata": {
        "colab": {
          "base_uri": "https://localhost:8080/"
        },
        "id": "woaRyu8FyM_T",
        "outputId": "8f8d267c-d3f9-4248-a1e7-945d078d7211"
      },
      "execution_count": 66,
      "outputs": [
        {
          "output_type": "execute_result",
          "data": {
            "text/plain": [
              "((34487, 12), (34487, 1))"
            ]
          },
          "metadata": {},
          "execution_count": 66
        }
      ]
    },
    {
      "cell_type": "code",
      "source": [
        "for i in range(len(rnd_idx)//2):\n",
        "    x1 = np.array(pd.read_csv(path+f'{rnd_idx[i+1]-1}_pos_ecoflex_181229_data.csv')) # fractional derivatives\n",
        "    y1 = np.array(pd.read_csv(path+f'{rnd_idx[i+1]-1}_force_ecoflex_181229_data.csv'))\n",
        "    x_test = np.concatenate([x_test,x1])\n",
        "    y_test = np.concatenate([y_test,y1])\n",
        "print(x_test.shape, y_test.shape)"
      ],
      "metadata": {
        "colab": {
          "base_uri": "https://localhost:8080/"
        },
        "id": "OavWzOwSyNBw",
        "outputId": "ee5c7b42-aa50-4b8f-83d9-1a328e62f543"
      },
      "execution_count": 67,
      "outputs": [
        {
          "output_type": "stream",
          "name": "stdout",
          "text": [
            "(586307, 12) (586307, 1)\n"
          ]
        }
      ]
    },
    {
      "cell_type": "code",
      "source": [
        "cat = CatBoostRegressor()\n",
        "t1 = datetime.now()\n",
        "cat.fit(x,y)\n",
        "t2 = datetime.now()\n",
        "y_pred = cat.predict(x_test)"
      ],
      "metadata": {
        "id": "pVVu1cjHx51p"
      },
      "execution_count": null,
      "outputs": []
    },
    {
      "cell_type": "code",
      "source": [
        "print('RMSE:', mean_squared_error(y_pred, y_test)**0.5)\n",
        "print(t2-t1)"
      ],
      "metadata": {
        "colab": {
          "base_uri": "https://localhost:8080/"
        },
        "id": "NcH_bfoAyvCS",
        "outputId": "d2388d58-d1cc-423e-cdc5-11eca1292662"
      },
      "execution_count": 69,
      "outputs": [
        {
          "output_type": "stream",
          "name": "stdout",
          "text": [
            "RMSE: 0.24858007148475267\n",
            "0:00:11.228090\n"
          ]
        }
      ]
    },
    {
      "cell_type": "code",
      "source": [
        "for i in range(81,90):\n",
        "    x1 = np.array(pd.read_csv(path+f'{i}_pos_ecoflex_181229_data.csv')) # fractional derivatives\n",
        "    y1 = np.array(pd.read_csv(path+f'{i}_force_ecoflex_181229_data.csv'))\n",
        "    y_pred = cat.predict(x1)\n",
        "    print(f'For point: {i}, Error: {mean_squared_error(y_pred, y1)**0.5}')"
      ],
      "metadata": {
        "colab": {
          "base_uri": "https://localhost:8080/"
        },
        "id": "X1Dmc-S9zXwP",
        "outputId": "2258e857-7db7-4d2a-e2ac-d1d8dc804aab"
      },
      "execution_count": 70,
      "outputs": [
        {
          "output_type": "stream",
          "name": "stdout",
          "text": [
            "For point: 81, Error: 0.3967406473329552\n",
            "For point: 82, Error: 0.4311431377379083\n",
            "For point: 83, Error: 0.398000370696419\n",
            "For point: 84, Error: 0.3361556444924757\n",
            "For point: 85, Error: 0.18373726997291112\n",
            "For point: 86, Error: 0.16330700150980487\n",
            "For point: 87, Error: 0.34003981738161104\n",
            "For point: 88, Error: 0.4594364755941114\n",
            "For point: 89, Error: 0.1655829790950411\n"
          ]
        }
      ]
    },
    {
      "cell_type": "code",
      "source": [
        "error = []\n",
        "for i in range(1,201):\n",
        "    x1 = np.array(pd.read_csv(path+f'{i}_pos_ecoflex_181229_data.csv')) # fractional derivatives\n",
        "    y1 = np.array(pd.read_csv(path+f'{i}_force_ecoflex_181229_data.csv'))\n",
        "    y_pred = cat.predict(x1)\n",
        "    statement = f'For point: {i}, Error: {mean_squared_error(y_pred, y1)**0.5}\\n'\n",
        "    #print(f'For point: {i}, Error: {mean_squared_error(y_pred, y1)**0.5}')\n",
        "    error.append(mean_squared_error(y_pred, y1)**0.5)\n",
        "    with open('results_catboost.txt','a') as f:\n",
        "        f.write(statement)\n",
        "print(sum(error)/len(error))"
      ],
      "metadata": {
        "colab": {
          "base_uri": "https://localhost:8080/"
        },
        "id": "lpzYYSgDLFuA",
        "outputId": "87736a6e-f028-42eb-ba8c-17047ebe2100"
      },
      "execution_count": 75,
      "outputs": [
        {
          "output_type": "stream",
          "name": "stdout",
          "text": [
            "0.20247829039312967\n"
          ]
        }
      ]
    },
    {
      "cell_type": "code",
      "source": [
        "print(np.std(np.array(error)))\n",
        "max(error), min(error)"
      ],
      "metadata": {
        "id": "0xBBbM0jzTur",
        "colab": {
          "base_uri": "https://localhost:8080/"
        },
        "outputId": "97c7a87a-901e-41ef-8842-f6c8a80a05df"
      },
      "execution_count": 72,
      "outputs": [
        {
          "output_type": "stream",
          "name": "stdout",
          "text": [
            "0.10799914127177025\n"
          ]
        },
        {
          "output_type": "execute_result",
          "data": {
            "text/plain": [
              "(0.4952943228648564, 0.07621167287526985)"
            ]
          },
          "metadata": {},
          "execution_count": 72
        }
      ]
    },
    {
      "cell_type": "code",
      "source": [
        "for i in range(5):\n",
        "    val = sorted(error)[::-1][i]\n",
        "    print(val, 'at', error.index(val)+1)\n"
      ],
      "metadata": {
        "colab": {
          "base_uri": "https://localhost:8080/"
        },
        "id": "ZRKffNN52MAN",
        "outputId": "cb8ab9db-4e0d-40b4-b64e-5f4bbc87d581"
      },
      "execution_count": 73,
      "outputs": [
        {
          "output_type": "stream",
          "name": "stdout",
          "text": [
            "0.4952943228648564 at 133\n",
            "0.48185888971637586 at 100\n",
            "0.4734340098193974 at 46\n",
            "0.47217456754298026 at 111\n",
            "0.46839409322070263 at 157\n"
          ]
        }
      ]
    },
    {
      "cell_type": "code",
      "source": [
        "def graph(i):\n",
        "    x1 = np.array(pd.read_csv(path+f'{i}_pos_ecoflex_181229_data.csv')) # fractional derivatives\n",
        "    y1 = np.array(pd.read_csv(path+f'{i}_force_ecoflex_181229_data.csv'))\n",
        "    y_pred = cat.predict(x1)\n",
        "    plt.plot(range(len(y1)), y1, label = 'actual')\n",
        "    plt.plot(range(len(y1)), y_pred, label = 'predicted')\n",
        "    plt.legend()\n",
        "    plt.title(f'Point {i}')\n",
        "    plt.show()\n",
        "\n",
        "graph(199)"
      ],
      "metadata": {
        "colab": {
          "base_uri": "https://localhost:8080/",
          "height": 452
        },
        "id": "xa-0y5r__5sP",
        "outputId": "990c9437-d130-4cbf-d1ae-fae1dba951bc"
      },
      "execution_count": 74,
      "outputs": [
        {
          "output_type": "display_data",
          "data": {
            "text/plain": [
              "<Figure size 640x480 with 1 Axes>"
            ],
            "image/png": "[encoded data removed]"
          },
          "metadata": {}
        }
      ]
    },
    {
      "cell_type": "markdown",
      "source": [
        "# Random Forest"
      ],
      "metadata": {
        "id": "0gXdJIWRKA6l"
      }
    },
    {
      "cell_type": "code",
      "source": [
        "rf = RandomForestRegressor()\n",
        "t1 = datetime.now()\n",
        "rf.fit(x,y)\n",
        "t2 = datetime.now()\n",
        "y_pred = rf.predict(x_test)\n",
        "print('RMSE:', mean_squared_error(y_pred, y_test)**0.5)\n",
        "print(t2-t1)"
      ],
      "metadata": {
        "id": "-0OcdXoEA55i",
        "colab": {
          "base_uri": "https://localhost:8080/"
        },
        "outputId": "0e615be7-40e5-4fda-96ae-13c45a6eebd1"
      },
      "execution_count": 76,
      "outputs": [
        {
          "output_type": "stream",
          "name": "stdout",
          "text": [
            "RMSE: 0.5220782625117577\n",
            "0:00:52.386142\n"
          ]
        }
      ]
    },
    {
      "cell_type": "code",
      "source": [
        "for i in range(74,82):\n",
        "    x1 = np.array(pd.read_csv(path+f'{i}_pos_ecoflex_181229_data.csv')) # fractional derivatives\n",
        "    y1 = np.array(pd.read_csv(path+f'{i}_force_ecoflex_181229_data.csv'))\n",
        "    y_pred = rf.predict(x1)\n",
        "    print(f'For point: {i}, Error: {mean_squared_error(y_pred, y1)**0.5}')"
      ],
      "metadata": {
        "id": "iZqcOLTZKODD",
        "colab": {
          "base_uri": "https://localhost:8080/"
        },
        "outputId": "7468a975-ef15-4415-fb89-9fd2cf969a65"
      },
      "execution_count": 77,
      "outputs": [
        {
          "output_type": "stream",
          "name": "stdout",
          "text": [
            "For point: 74, Error: 0.20668364285908908\n",
            "For point: 75, Error: 0.12283027159474626\n",
            "For point: 76, Error: 0.2221463255357285\n",
            "For point: 77, Error: 0.40709554469806847\n",
            "For point: 78, Error: 0.23410031074086288\n",
            "For point: 79, Error: 0.12483637184196684\n",
            "For point: 80, Error: 0.31561956514346345\n",
            "For point: 81, Error: 0.42712996201986\n"
          ]
        }
      ]
    },
    {
      "cell_type": "code",
      "source": [
        "error = []\n",
        "for i in range(1,201):\n",
        "    x1 = np.array(pd.read_csv(path+f'{i}_pos_ecoflex_181229_data.csv')) # fractional derivatives\n",
        "    y1 = np.array(pd.read_csv(path+f'{i}_force_ecoflex_181229_data.csv'))\n",
        "    y_pred = rf.predict(x1)\n",
        "    statement = f'For point: {i}, Error: {mean_squared_error(y_pred, y1)**0.5}\\n'\n",
        "    #print(f'For point: {i}, Error: {mean_squared_error(y_pred, y1)**0.5}')\n",
        "    error.append(mean_squared_error(y_pred, y1)**0.5)\n",
        "    with open('results_RF.txt','a') as f:\n",
        "        f.write(statement)\n",
        "print(sum(error)/len(error))"
      ],
      "metadata": {
        "id": "pMivG2eKKY2E",
        "colab": {
          "base_uri": "https://localhost:8080/"
        },
        "outputId": "02131b8b-ef76-4772-9fa0-8a3bef36ff77"
      },
      "execution_count": 78,
      "outputs": [
        {
          "output_type": "stream",
          "name": "stdout",
          "text": [
            "0.32981004156599547\n"
          ]
        }
      ]
    },
    {
      "cell_type": "code",
      "source": [
        "print(sum(error)/len(error))\n",
        "print(np.std(np.array(error)))\n",
        "max(error), min(error)"
      ],
      "metadata": {
        "colab": {
          "base_uri": "https://localhost:8080/"
        },
        "id": "RNQrP6M7T8jm",
        "outputId": "bb44fea9-1621-4242-ce1c-5f40314a34a3"
      },
      "execution_count": 79,
      "outputs": [
        {
          "output_type": "stream",
          "name": "stdout",
          "text": [
            "0.32981004156599547\n",
            "0.24390831996473128\n"
          ]
        },
        {
          "output_type": "execute_result",
          "data": {
            "text/plain": [
              "(1.3708750582910176, 0.06225088408159593)"
            ]
          },
          "metadata": {},
          "execution_count": 79
        }
      ]
    },
    {
      "cell_type": "markdown",
      "source": [
        "# Clusterring"
      ],
      "metadata": {
        "id": "TyU4CyhV3xL4"
      }
    },
    {
      "cell_type": "code",
      "source": [
        "path2 = '/content/drive/MyDrive/Virtual env/z_inhomogenous_modeling/'\n",
        "arr = np.array(pd.read_csv(path2+'x_y_181229.csv', names = ['x','y']))\n",
        "print(arr.shape)\n",
        "arr[:5]"
      ],
      "metadata": {
        "id": "ngt4QjtmT_9l",
        "colab": {
          "base_uri": "https://localhost:8080/"
        },
        "outputId": "ad765051-cf36-45d0-c8e2-69ffcd8aa8c0"
      },
      "execution_count": 80,
      "outputs": [
        {
          "output_type": "stream",
          "name": "stdout",
          "text": [
            "(200, 2)\n"
          ]
        },
        {
          "output_type": "execute_result",
          "data": {
            "text/plain": [
              "array([[-0.0001, -0.0021],\n",
              "       [-0.0003, -0.0001],\n",
              "       [-0.0006,  0.014 ],\n",
              "       [-0.0009, -0.0123],\n",
              "       [-0.001 ,  0.0025]])"
            ]
          },
          "metadata": {},
          "execution_count": 80
        }
      ]
    },
    {
      "cell_type": "code",
      "source": [
        "from sklearn.cluster import KMeans\n",
        "k_values = range(1, 11)\n",
        "\n",
        "# Perform k-means clustering for each k value\n",
        "inertia_values = []\n",
        "for k in k_values:\n",
        "    kmeans = KMeans(n_clusters=k)\n",
        "    kmeans.fit(arr)\n",
        "    inertia_values.append(kmeans.inertia_)\n",
        "\n",
        "# Plot the inertia values against the number of clusters\n",
        "plt.plot(k_values, inertia_values, 'bx-')\n",
        "plt.xlabel('Number of Clusters (k)')\n",
        "plt.ylabel('Inertia')\n",
        "plt.title('Elbow Method for Optimal k')\n",
        "plt.show()"
      ],
      "metadata": {
        "colab": {
          "base_uri": "https://localhost:8080/",
          "height": 472
        },
        "id": "wxxJwgwj4KM2",
        "outputId": "4f95ee36-f319-45b7-81a1-87e3f5aef2d7"
      },
      "execution_count": 81,
      "outputs": [
        {
          "output_type": "display_data",
          "data": {
            "text/plain": [
              "<Figure size 640x480 with 1 Axes>"
            ],
            "image/png": "[encoded data removed]"
          },
          "metadata": {}
        }
      ]
    },
    {
      "cell_type": "code",
      "source": [
        "kmeans = KMeans(n_clusters=5)\n",
        "kmeans.fit(arr)\n",
        "kmeans.cluster_centers_"
      ],
      "metadata": {
        "colab": {
          "base_uri": "https://localhost:8080/"
        },
        "id": "BQ1BKQVJ4XRq",
        "outputId": "e88b5f05-d478-479b-9177-daa36303ecd3"
      },
      "execution_count": 82,
      "outputs": [
        {
          "output_type": "execute_result",
          "data": {
            "text/plain": [
              "array([[-0.01043654, -0.01130769],\n",
              "       [ 0.01323947,  0.01066053],\n",
              "       [-0.01124211,  0.01231316],\n",
              "       [ 0.01083158, -0.00967368],\n",
              "       [ 0.00113529,  0.00106765]])"
            ]
          },
          "metadata": {},
          "execution_count": 82
        }
      ]
    },
    {
      "cell_type": "code",
      "source": [
        "from collections import defaultdict\n",
        "d = defaultdict(lambda: [])\n",
        "for i in range(200):\n",
        "    label = kmeans.predict([arr[i]])[0]\n",
        "    d[label].append(i)\n",
        "\n",
        "for i in range(5):\n",
        "    print(d[i])"
      ],
      "metadata": {
        "colab": {
          "base_uri": "https://localhost:8080/"
        },
        "id": "U04pdeMO4KPR",
        "outputId": "51c62ae2-d7f6-4eb5-a28c-5b100b784a06"
      },
      "execution_count": 83,
      "outputs": [
        {
          "output_type": "stream",
          "name": "stdout",
          "text": [
            "[3, 8, 9, 13, 15, 16, 17, 18, 19, 25, 26, 27, 31, 33, 35, 38, 40, 42, 43, 44, 45, 47, 53, 54, 56, 57, 58, 59, 60, 61, 62, 65, 66, 68, 70, 71, 72, 76, 79, 80, 81, 82, 83, 86, 87, 91, 92, 93, 94, 99, 101, 102]\n",
            "[114, 116, 120, 129, 130, 140, 146, 148, 150, 152, 154, 157, 158, 159, 160, 161, 162, 164, 167, 169, 170, 175, 177, 179, 181, 182, 184, 185, 186, 188, 189, 190, 191, 192, 194, 196, 197, 198]\n",
            "[2, 7, 14, 22, 23, 24, 28, 29, 30, 34, 36, 37, 41, 46, 49, 50, 51, 52, 55, 63, 64, 67, 69, 73, 74, 75, 77, 78, 84, 85, 88, 89, 90, 95, 96, 97, 98, 103]\n",
            "[104, 110, 111, 123, 125, 126, 127, 128, 132, 135, 136, 141, 142, 143, 144, 145, 147, 149, 151, 153, 155, 156, 163, 165, 166, 168, 171, 172, 173, 174, 176, 178, 180, 183, 187, 193, 195, 199]\n",
            "[0, 1, 4, 5, 6, 10, 11, 12, 20, 21, 32, 39, 48, 100, 105, 106, 107, 108, 109, 112, 113, 115, 117, 118, 119, 121, 122, 124, 131, 133, 134, 137, 138, 139]\n"
          ]
        }
      ]
    },
    {
      "cell_type": "code",
      "source": [
        "from scipy.linalg import norm\n",
        "\n",
        "def dist(i):\n",
        "    at = -1\n",
        "    mini = 10\n",
        "    for j in range(len(d[i])):\n",
        "        dis = ((arr[d[i][j]][0]- kmeans.cluster_centers_[i][0])**2 + (arr[d[i][j]][1]- kmeans.cluster_centers_[i][1])**2)**0.5\n",
        "        if dis <mini:\n",
        "            mini = dis\n",
        "            at = j\n",
        "    print(f'{d[i][at]+1} is the master node of {i}th cluster')\n",
        "    print(arr[d[i][at]], kmeans.cluster_centers_[i],'\\n')\n",
        "for i in range(5):\n",
        "    dist(i)"
      ],
      "metadata": {
        "colab": {
          "base_uri": "https://localhost:8080/"
        },
        "id": "-S5y9A2S4b0d",
        "outputId": "57febfc2-2c04-41be-93c8-f47407aa3964"
      },
      "execution_count": 84,
      "outputs": [
        {
          "output_type": "stream",
          "name": "stdout",
          "text": [
            "55 is the master node of 0th cluster\n",
            "[-0.0108 -0.0112] [-0.01043654 -0.01130769] \n",
            "\n",
            "162 is the master node of 1th cluster\n",
            "[0.0122 0.0114] [0.01323947 0.01066053] \n",
            "\n",
            "50 is the master node of 2th cluster\n",
            "[-0.0098  0.0131] [-0.01124211  0.01231316] \n",
            "\n",
            "148 is the master node of 3th cluster\n",
            "[ 0.01   -0.0098] [ 0.01083158 -0.00967368] \n",
            "\n",
            "108 is the master node of 4th cluster\n",
            "[0.0014 0.    ] [0.00113529 0.00106765] \n",
            "\n"
          ]
        }
      ]
    },
    {
      "cell_type": "code",
      "source": [
        "x1 = np.array(pd.read_csv(path+f'{55}_pos_ecoflex_181229_data.csv'))[:,:10] # fractional derivatives\n",
        "y1 = np.array(pd.read_csv(path+f'{55}_force_ecoflex_181229_data.csv'))\n",
        "rf = RandomForestRegressor()\n",
        "rf.fit(x1,y1)\n",
        "\n",
        "error = []\n",
        "array = np.array(d[0])+1\n",
        "for i in array:\n",
        "    x2 = np.array(pd.read_csv(path+f'{i}_pos_ecoflex_181229_data.csv'))[:,:10] # fractional derivatives\n",
        "    y1 = np.array(pd.read_csv(path+f'{i}_force_ecoflex_181229_data.csv'))\n",
        "    y_pred = rf.predict(x2)\n",
        "    statement = f'For point: {i}, Error: {mean_squared_error(y_pred, y1)**0.5}\\n'\n",
        "    #print(f'For point: {i}, Error: {mean_squared_error(y_pred, y1)**0.5}')\n",
        "    error.append(mean_squared_error(y_pred, y1)**0.5)\n",
        "    with open('cluster.txt','a') as f:\n",
        "        f.write(statement)\n",
        "print(sum(error)/len(error))\n",
        "print(max(error), min(error))\n",
        "total = error"
      ],
      "metadata": {
        "colab": {
          "base_uri": "https://localhost:8080/"
        },
        "id": "gY_lKWwM4b2u",
        "outputId": "045cc979-9bae-4e36-e48e-09529e41478c"
      },
      "execution_count": 85,
      "outputs": [
        {
          "output_type": "stream",
          "name": "stdout",
          "text": [
            "0.5974288145878096\n",
            "1.4265925619908217 0.0185913020003985\n"
          ]
        }
      ]
    },
    {
      "cell_type": "code",
      "source": [
        "x1 = np.array(pd.read_csv(path+f'{162}_pos_ecoflex_181229_data.csv'))[:,:10] # fractional derivatives\n",
        "y1 = np.array(pd.read_csv(path+f'{162}_force_ecoflex_181229_data.csv'))\n",
        "rf = RandomForestRegressor()\n",
        "rf.fit(x1,y1)\n",
        "\n",
        "error = []\n",
        "array = np.array(d[1])+1\n",
        "for i in array:\n",
        "    x2 = np.array(pd.read_csv(path+f'{i}_pos_ecoflex_181229_data.csv'))[:,:10] # fractional derivatives\n",
        "    y1 = np.array(pd.read_csv(path+f'{i}_force_ecoflex_181229_data.csv'))\n",
        "    y_pred = rf.predict(x2)\n",
        "    statement = f'For point: {i}, Error: {mean_squared_error(y_pred, y1)**0.5}\\n'\n",
        "    #print(f'For point: {i}, Error: {mean_squared_error(y_pred, y1)**0.5}')\n",
        "    error.append(mean_squared_error(y_pred, y1)**0.5)\n",
        "    with open('cluster.txt','a') as f:\n",
        "        f.write(statement)\n",
        "print(sum(error)/len(error))\n",
        "print(max(error), min(error))\n",
        "total += error"
      ],
      "metadata": {
        "colab": {
          "base_uri": "https://localhost:8080/"
        },
        "id": "TqGYQ6pR5P1l",
        "outputId": "3d558b9d-3171-4946-e525-f3ae32892108"
      },
      "execution_count": 86,
      "outputs": [
        {
          "output_type": "stream",
          "name": "stdout",
          "text": [
            "0.46287743266883175\n",
            "1.08359379878301 0.019763119832188845\n"
          ]
        }
      ]
    },
    {
      "cell_type": "code",
      "source": [
        "x1 = np.array(pd.read_csv(path+f'{50}_pos_ecoflex_181229_data.csv'))[:,:10] # fractional derivatives\n",
        "y1 = np.array(pd.read_csv(path+f'{50}_force_ecoflex_181229_data.csv'))\n",
        "rf = RandomForestRegressor()\n",
        "rf.fit(x1,y1)\n",
        "\n",
        "error = []\n",
        "array = np.array(d[2])+1\n",
        "for i in array:\n",
        "    x2 = np.array(pd.read_csv(path+f'{i}_pos_ecoflex_181229_data.csv'))[:,:10] # fractional derivatives\n",
        "    y1 = np.array(pd.read_csv(path+f'{i}_force_ecoflex_181229_data.csv'))\n",
        "    y_pred = rf.predict(x2)\n",
        "    statement = f'For point: {i}, Error: {mean_squared_error(y_pred, y1)**0.5}\\n'\n",
        "    #print(f'For point: {i}, Error: {mean_squared_error(y_pred, y1)**0.5}')\n",
        "    error.append(mean_squared_error(y_pred, y1)**0.5)\n",
        "    with open('cluster.txt','a') as f:\n",
        "        f.write(statement)\n",
        "print(sum(error)/len(error))\n",
        "print(max(error), min(error))\n",
        "total += error"
      ],
      "metadata": {
        "colab": {
          "base_uri": "https://localhost:8080/"
        },
        "id": "4vjuK1055P33",
        "outputId": "82201267-ef7a-4554-9f25-e916e9360127"
      },
      "execution_count": 87,
      "outputs": [
        {
          "output_type": "stream",
          "name": "stdout",
          "text": [
            "0.5692213499836245\n",
            "1.3144388633990662 0.019530855655112443\n"
          ]
        }
      ]
    },
    {
      "cell_type": "code",
      "source": [
        "x1 = np.array(pd.read_csv(path+f'{148}_pos_ecoflex_181229_data.csv'))[:,:10] # fractional derivatives\n",
        "y1 = np.array(pd.read_csv(path+f'{148}_force_ecoflex_181229_data.csv'))\n",
        "rf = RandomForestRegressor()\n",
        "rf.fit(x1,y1)\n",
        "\n",
        "error = []\n",
        "array = np.array(d[3])+1\n",
        "for i in array:\n",
        "    x2 = np.array(pd.read_csv(path+f'{i}_pos_ecoflex_181229_data.csv'))[:,:10] # fractional derivatives\n",
        "    y1 = np.array(pd.read_csv(path+f'{i}_force_ecoflex_181229_data.csv'))\n",
        "    y_pred = rf.predict(x2)\n",
        "    statement = f'For point: {i}, Error: {mean_squared_error(y_pred, y1)**0.5}\\n'\n",
        "    #print(f'For point: {i}, Error: {mean_squared_error(y_pred, y1)**0.5}')\n",
        "    error.append(mean_squared_error(y_pred, y1)**0.5)\n",
        "    with open('cluster.txt','a') as f:\n",
        "        f.write(statement)\n",
        "print(sum(error)/len(error))\n",
        "print(max(error), min(error))\n",
        "total+= error"
      ],
      "metadata": {
        "colab": {
          "base_uri": "https://localhost:8080/"
        },
        "id": "CTRCKtTB4KUt",
        "outputId": "b14e4b2e-2bdf-4d91-8d4f-543903374dab"
      },
      "execution_count": 88,
      "outputs": [
        {
          "output_type": "stream",
          "name": "stdout",
          "text": [
            "0.5402800333672959\n",
            "1.0377768744494853 0.01593158698945423\n"
          ]
        }
      ]
    },
    {
      "cell_type": "code",
      "source": [
        "x1 = np.array(pd.read_csv(path+f'{108}_pos_ecoflex_181229_data.csv'))[:,:10] # fractional derivatives\n",
        "y1 = np.array(pd.read_csv(path+f'{108}_force_ecoflex_181229_data.csv'))\n",
        "rf = RandomForestRegressor()\n",
        "rf.fit(x1,y1)\n",
        "\n",
        "error = []\n",
        "array = np.array(d[4])+1\n",
        "for i in array:\n",
        "    x2 = np.array(pd.read_csv(path+f'{i}_pos_ecoflex_181229_data.csv'))[:,:10] # fractional derivatives\n",
        "    y1 = np.array(pd.read_csv(path+f'{i}_force_ecoflex_181229_data.csv'))\n",
        "    y_pred = rf.predict(x2)\n",
        "    statement = f'For point: {i}, Error: {mean_squared_error(y_pred, y1)**0.5}\\n'\n",
        "    #print(f'For point: {i}, Error: {mean_squared_error(y_pred, y1)**0.5}')\n",
        "    error.append(mean_squared_error(y_pred, y1)**0.5)\n",
        "    with open('cluster.txt','a') as f:\n",
        "        f.write(statement)\n",
        "print(sum(error)/len(error))\n",
        "print(max(error), min(error))\n",
        "total += error"
      ],
      "metadata": {
        "colab": {
          "base_uri": "https://localhost:8080/"
        },
        "id": "VcxeVCiI5Zz-",
        "outputId": "069ecdc2-855d-44dc-b07f-1f24a072718c"
      },
      "execution_count": 89,
      "outputs": [
        {
          "output_type": "stream",
          "name": "stdout",
          "text": [
            "0.20880950806972143\n",
            "0.9358676876211592 0.011041579982412423\n"
          ]
        }
      ]
    },
    {
      "cell_type": "code",
      "source": [
        "print('Mean:', np.mean(np.array(total)))\n",
        "print('Std:', np.std(np.array(total)))"
      ],
      "metadata": {
        "colab": {
          "base_uri": "https://localhost:8080/"
        },
        "id": "NfVPsB935Z2M",
        "outputId": "cbe7157c-9689-4893-db3a-f69cbfde550a"
      },
      "execution_count": 90,
      "outputs": [
        {
          "output_type": "stream",
          "name": "stdout",
          "text": [
            "Mean: 0.489581083208436\n",
            "Std: 0.3063564695083441\n"
          ]
        }
      ]
    },
    {
      "cell_type": "code",
      "source": [
        "max(total)"
      ],
      "metadata": {
        "colab": {
          "base_uri": "https://localhost:8080/"
        },
        "id": "04gm6f4k5z9C",
        "outputId": "e9ff8b38-446c-4608-d14d-f8e0ff407ce4"
      },
      "execution_count": 91,
      "outputs": [
        {
          "output_type": "execute_result",
          "data": {
            "text/plain": [
              "1.4265925619908217"
            ]
          },
          "metadata": {},
          "execution_count": 91
        }
      ]
    },
    {
      "cell_type": "code",
      "source": [],
      "metadata": {
        "id": "sUYuY6_rBLhA"
      },
      "execution_count": null,
      "outputs": []
    }
  ],
  "metadata": {
    "colab": {
      "provenance": []
    },
    "kernelspec": {
      "display_name": "Python 3",
      "language": "python",
      "name": "python3"
    },
    "language_info": {
      "codemirror_mode": {
        "name": "ipython",
        "version": 3
      },
      "file_extension": ".py",
      "mimetype": "text/x-python",
      "name": "python",
      "nbconvert_exporter": "python",
      "pygments_lexer": "ipython3",
      "version": "3.7.4"
    }
  },
  "nbformat": 4,
  "nbformat_minor": 0
}