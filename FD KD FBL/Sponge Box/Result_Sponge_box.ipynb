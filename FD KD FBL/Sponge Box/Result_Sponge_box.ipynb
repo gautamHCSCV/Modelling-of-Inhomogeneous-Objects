{
  "cells": [
    {
      "cell_type": "code",
      "source": [
        "!pip install catboost"
      ],
      "metadata": {
        "id": "LnsEmHULy0sz"
      },
      "execution_count": null,
      "outputs": []
    },
    {
      "cell_type": "code",
      "execution_count": 2,
      "metadata": {
        "id": "-VjuA1WW4ond"
      },
      "outputs": [],
      "source": [
        "import pandas as pd\n",
        "import numpy as np\n",
        "import os\n",
        "import csv\n",
        "from datetime import datetime\n",
        "from catboost import CatBoostRegressor\n",
        "import matplotlib.pyplot as plt\n",
        "from sklearn.ensemble import RandomForestRegressor\n",
        "from sklearn.linear_model import LinearRegression\n",
        "from sklearn.metrics import mean_squared_error\n",
        "from sklearn.model_selection import train_test_split\n",
        "\n",
        "import warnings\n",
        "warnings.filterwarnings('ignore')"
      ]
    },
    {
      "cell_type": "code",
      "execution_count": 3,
      "metadata": {
        "colab": {
          "base_uri": "https://localhost:8080/"
        },
        "id": "yUMtK4IG4pAT",
        "outputId": "41fcbfe2-2cac-46b8-9259-a74bea331798"
      },
      "outputs": [
        {
          "output_type": "stream",
          "name": "stdout",
          "text": [
            "Mounted at /content/drive\n"
          ]
        }
      ],
      "source": [
        "from google.colab import drive\n",
        "drive.mount('/content/drive')"
      ]
    },
    {
      "cell_type": "markdown",
      "metadata": {
        "id": "HfwZrWmClg6r"
      },
      "source": [
        "# Models Estimation"
      ]
    },
    {
      "cell_type": "code",
      "source": [
        "path = '/content/drive/MyDrive/Virtual env/z_inhomogenous_modeling/sponge_box_all-data/'\n",
        "print(len(sorted(os.listdir(path))))\n",
        "rnd_idx = np.array([2,16,26,36,46,51,61,64,78,86,104,108,133,139,152,163,169,180,184,189,131,200])\n",
        "len(rnd_idx)"
      ],
      "metadata": {
        "id": "3SE2Bftc-VrO",
        "colab": {
          "base_uri": "https://localhost:8080/"
        },
        "outputId": "bfd15c60-5e2a-4700-c747-266a9fb0b1c8"
      },
      "execution_count": 17,
      "outputs": [
        {
          "output_type": "stream",
          "name": "stdout",
          "text": [
            "800\n"
          ]
        },
        {
          "output_type": "execute_result",
          "data": {
            "text/plain": [
              "22"
            ]
          },
          "metadata": {},
          "execution_count": 17
        }
      ]
    },
    {
      "cell_type": "code",
      "source": [
        "y = np.array(pd.read_csv(path+f'{rnd_idx[0]}_percep_force_sponge_box_data.csv'))\n",
        "x = np.array(pd.read_csv(path+f'{rnd_idx[0]}_percep_pos_sponge_box_data.csv'))\n",
        "l = len(y)\n",
        "x.shape, y.shape"
      ],
      "metadata": {
        "colab": {
          "base_uri": "https://localhost:8080/"
        },
        "id": "eKB3r3w-wiM2",
        "outputId": "091bd6bf-583d-437b-8a87-6026783a0ac0"
      },
      "execution_count": 18,
      "outputs": [
        {
          "output_type": "execute_result",
          "data": {
            "text/plain": [
              "((894, 12), (894, 1))"
            ]
          },
          "metadata": {},
          "execution_count": 18
        }
      ]
    },
    {
      "cell_type": "code",
      "source": [
        "for i in range(len(rnd_idx)-1):\n",
        "    x1 = np.array(pd.read_csv(path+f'{rnd_idx[i+1]}_percep_pos_sponge_box_data.csv')) # fractional derivatives\n",
        "    y1 = np.array(pd.read_csv(path+f'{rnd_idx[i+1]}_percep_force_sponge_box_data.csv'))\n",
        "\n",
        "    x = np.concatenate([x,x1])\n",
        "    y = np.concatenate([y,y1])\n",
        "print(x.shape, y.shape)"
      ],
      "metadata": {
        "id": "z-q47w4rwpf3",
        "colab": {
          "base_uri": "https://localhost:8080/"
        },
        "outputId": "146bb4c0-45cd-43f3-d804-30e008f69bb8"
      },
      "execution_count": 19,
      "outputs": [
        {
          "output_type": "stream",
          "name": "stdout",
          "text": [
            "(20118, 12) (20118, 1)\n"
          ]
        }
      ]
    },
    {
      "cell_type": "code",
      "source": [
        "y_test = np.array(pd.read_csv(path+f'{rnd_idx[3]-2}_force_sponge_box_data.csv'))\n",
        "x_test = np.array(pd.read_csv(path+f'{rnd_idx[3]-2}_pos_sponge_box_data.csv'))\n",
        "\n",
        "x_test.shape, y_test.shape"
      ],
      "metadata": {
        "colab": {
          "base_uri": "https://localhost:8080/"
        },
        "id": "woaRyu8FyM_T",
        "outputId": "8748ae8f-0401-41e6-f7c4-9c2d1990df03"
      },
      "execution_count": 20,
      "outputs": [
        {
          "output_type": "execute_result",
          "data": {
            "text/plain": [
              "((34483, 12), (34483, 1))"
            ]
          },
          "metadata": {},
          "execution_count": 20
        }
      ]
    },
    {
      "cell_type": "code",
      "source": [
        "for i in range(len(rnd_idx)//2):\n",
        "    x1 = np.array(pd.read_csv(path+f'{rnd_idx[i+1]-1}_pos_sponge_box_data.csv')) # fractional derivatives\n",
        "    y1 = np.array(pd.read_csv(path+f'{rnd_idx[i+1]-1}_force_sponge_box_data.csv'))\n",
        "    x_test = np.concatenate([x_test,x1])\n",
        "    y_test = np.concatenate([y_test,y1])\n",
        "print(x_test.shape, y_test.shape)"
      ],
      "metadata": {
        "colab": {
          "base_uri": "https://localhost:8080/"
        },
        "id": "OavWzOwSyNBw",
        "outputId": "43543f3d-66d1-4392-a04a-4d48bb23e8e2"
      },
      "execution_count": 21,
      "outputs": [
        {
          "output_type": "stream",
          "name": "stdout",
          "text": [
            "(413748, 12) (413748, 1)\n"
          ]
        }
      ]
    },
    {
      "cell_type": "code",
      "source": [
        "cat = CatBoostRegressor()\n",
        "t1 = datetime.now()\n",
        "cat.fit(x,y)\n",
        "t2 = datetime.now()\n",
        "y_pred = cat.predict(x_test)"
      ],
      "metadata": {
        "id": "pVVu1cjHx51p"
      },
      "execution_count": null,
      "outputs": []
    },
    {
      "cell_type": "code",
      "source": [
        "print('RMSE:', mean_squared_error(y_pred, y_test)**0.5)\n",
        "print(t2-t1)"
      ],
      "metadata": {
        "colab": {
          "base_uri": "https://localhost:8080/"
        },
        "id": "NcH_bfoAyvCS",
        "outputId": "937dc309-a33e-4617-fc91-e2a6ccfdfb3c"
      },
      "execution_count": 23,
      "outputs": [
        {
          "output_type": "stream",
          "name": "stdout",
          "text": [
            "RMSE: 0.17595194966402194\n",
            "0:00:07.609594\n"
          ]
        }
      ]
    },
    {
      "cell_type": "code",
      "source": [
        "error = []\n",
        "for i in range(1,201):\n",
        "    x1 = np.array(pd.read_csv(path+f'{i}_pos_sponge_box_data.csv')) # fractional derivatives\n",
        "    y1 = np.array(pd.read_csv(path+f'{i}_force_sponge_box_data.csv'))\n",
        "    y_pred = cat.predict(x1)\n",
        "    statement = f'For point: {i}, Error: {mean_squared_error(y_pred, y1)**0.5}\\n'\n",
        "    #print(f'For point: {i}, Error: {mean_squared_error(y_pred, y1)**0.5}')\n",
        "    error.append(mean_squared_error(y_pred, y1)**0.5)\n",
        "    with open('results_catboost.txt','a') as f:\n",
        "        f.write(statement)\n",
        "print(sum(error)/len(error))"
      ],
      "metadata": {
        "colab": {
          "base_uri": "https://localhost:8080/"
        },
        "id": "lpzYYSgDLFuA",
        "outputId": "48110063-e8b5-4e23-a01f-41d8b4ae5ca0"
      },
      "execution_count": 33,
      "outputs": [
        {
          "output_type": "stream",
          "name": "stdout",
          "text": [
            "0.18135505214993877\n"
          ]
        }
      ]
    },
    {
      "cell_type": "code",
      "source": [
        "print(np.std(np.array(error)))\n",
        "max(error), min(error)"
      ],
      "metadata": {
        "id": "0xBBbM0jzTur",
        "colab": {
          "base_uri": "https://localhost:8080/"
        },
        "outputId": "63ae7242-9951-43bd-b4a6-9b2779b843c6"
      },
      "execution_count": 26,
      "outputs": [
        {
          "output_type": "stream",
          "name": "stdout",
          "text": [
            "0.046030544901875546\n"
          ]
        },
        {
          "output_type": "execute_result",
          "data": {
            "text/plain": [
              "(0.3990114196271547, 0.12030271219266024)"
            ]
          },
          "metadata": {},
          "execution_count": 26
        }
      ]
    },
    {
      "cell_type": "code",
      "source": [
        "for i in range(5):\n",
        "    val = sorted(error)[::-1][i]\n",
        "    print(val, 'at', error.index(val)+1)\n"
      ],
      "metadata": {
        "colab": {
          "base_uri": "https://localhost:8080/"
        },
        "id": "ZRKffNN52MAN",
        "outputId": "71894d35-694c-4b5a-e39c-b0ef57d163a9"
      },
      "execution_count": 27,
      "outputs": [
        {
          "output_type": "stream",
          "name": "stdout",
          "text": [
            "0.3990114196271547 at 196\n",
            "0.3429869808188579 at 157\n",
            "0.3165948552214021 at 126\n",
            "0.3137082125668532 at 117\n",
            "0.294076565667304 at 197\n"
          ]
        }
      ]
    },
    {
      "cell_type": "code",
      "source": [
        "def graph(i):\n",
        "    x1 = np.array(pd.read_csv(path+f'{i}_pos_sponge_box_data.csv')) # fractional derivatives\n",
        "    y1 = np.array(pd.read_csv(path+f'{i}_force_sponge_box_data.csv'))\n",
        "    y_pred = cat.predict(x1)\n",
        "    plt.plot(range(len(y1)), y1, label = 'actual')\n",
        "    plt.plot(range(len(y1)), y_pred, label = 'predicted')\n",
        "    plt.legend()\n",
        "    plt.title(f'Point {i}')\n",
        "    plt.show()\n",
        "\n",
        "graph(199)"
      ],
      "metadata": {
        "colab": {
          "base_uri": "https://localhost:8080/",
          "height": 452
        },
        "id": "xa-0y5r__5sP",
        "outputId": "2fd4e9b8-47e7-4849-e1f8-d3d484f908df"
      },
      "execution_count": 28,
      "outputs": [
        {
          "output_type": "display_data",
          "data": {
            "text/plain": [
              "<Figure size 640x480 with 1 Axes>"
            ],
            "image/png": "[encoded data removed]"
          },
          "metadata": {}
        }
      ]
    },
    {
      "cell_type": "markdown",
      "source": [
        "# Random Forest"
      ],
      "metadata": {
        "id": "0gXdJIWRKA6l"
      }
    },
    {
      "cell_type": "code",
      "source": [
        "rf = RandomForestRegressor()\n",
        "t1 = datetime.now()\n",
        "rf.fit(x,y)\n",
        "t2 = datetime.now()\n",
        "y_pred = rf.predict(x_test)\n",
        "print('RMSE:', mean_squared_error(y_pred, y_test)**0.5)\n",
        "print(t2-t1)"
      ],
      "metadata": {
        "id": "-0OcdXoEA55i",
        "colab": {
          "base_uri": "https://localhost:8080/"
        },
        "outputId": "1be3ffa6-2766-4ed9-8d72-7490f0a1b245"
      },
      "execution_count": 29,
      "outputs": [
        {
          "output_type": "stream",
          "name": "stdout",
          "text": [
            "RMSE: 0.21058201837041163\n",
            "0:00:23.737761\n"
          ]
        }
      ]
    },
    {
      "cell_type": "code",
      "source": [
        "error = []\n",
        "for i in range(1,201):\n",
        "    x1 = np.array(pd.read_csv(path+f'{i}_pos_sponge_box_data.csv')) # fractional derivatives\n",
        "    y1 = np.array(pd.read_csv(path+f'{i}_force_sponge_box_data.csv'))\n",
        "    y_pred = rf.predict(x1)\n",
        "    statement = f'For point: {i}, Error: {mean_squared_error(y_pred, y1)**0.5}\\n'\n",
        "    #print(f'For point: {i}, Error: {mean_squared_error(y_pred, y1)**0.5}')\n",
        "    error.append(mean_squared_error(y_pred, y1)**0.5)\n",
        "    with open('results_RF.txt','a') as f:\n",
        "        f.write(statement)\n",
        "print(sum(error)/len(error))"
      ],
      "metadata": {
        "id": "pMivG2eKKY2E",
        "colab": {
          "base_uri": "https://localhost:8080/"
        },
        "outputId": "42bba60f-78fe-4bd2-8aff-dc29a49b93c4"
      },
      "execution_count": 31,
      "outputs": [
        {
          "output_type": "stream",
          "name": "stdout",
          "text": [
            "0.1904757485332344\n"
          ]
        }
      ]
    },
    {
      "cell_type": "code",
      "source": [
        "print(sum(error)/len(error))\n",
        "print(np.std(np.array(error)))\n",
        "max(error), min(error)"
      ],
      "metadata": {
        "colab": {
          "base_uri": "https://localhost:8080/"
        },
        "id": "RNQrP6M7T8jm",
        "outputId": "acbd11ec-11eb-4dca-f64e-e88f867e5578"
      },
      "execution_count": 32,
      "outputs": [
        {
          "output_type": "stream",
          "name": "stdout",
          "text": [
            "0.1904757485332344\n",
            "0.0802998874444021\n"
          ]
        },
        {
          "output_type": "execute_result",
          "data": {
            "text/plain": [
              "(0.5572840126485991, 0.10489224201782853)"
            ]
          },
          "metadata": {},
          "execution_count": 32
        }
      ]
    },
    {
      "cell_type": "markdown",
      "source": [
        "# Clusterring"
      ],
      "metadata": {
        "id": "TyU4CyhV3xL4"
      }
    },
    {
      "cell_type": "code",
      "source": [
        "path2 = '/content/drive/MyDrive/Virtual env/z_inhomogenous_modeling/'\n",
        "arr = np.array(pd.read_csv(path2+'x_y_sponge_box.csv', names = ['x','y']))\n",
        "print(arr.shape)\n",
        "arr[:5]"
      ],
      "metadata": {
        "id": "ngt4QjtmT_9l",
        "colab": {
          "base_uri": "https://localhost:8080/"
        },
        "outputId": "c15d6aab-93c3-46e8-f34a-dda40520edaa"
      },
      "execution_count": 34,
      "outputs": [
        {
          "output_type": "stream",
          "name": "stdout",
          "text": [
            "(200, 2)\n"
          ]
        },
        {
          "output_type": "execute_result",
          "data": {
            "text/plain": [
              "array([[ -0.416,  16.941],\n",
              "       [ -0.628,   2.808],\n",
              "       [ -0.844,   5.401],\n",
              "       [ -0.978, -10.853],\n",
              "       [ -0.988,  14.376]])"
            ]
          },
          "metadata": {},
          "execution_count": 34
        }
      ]
    },
    {
      "cell_type": "code",
      "source": [
        "from sklearn.cluster import KMeans\n",
        "k_values = range(1, 11)\n",
        "\n",
        "# Perform k-means clustering for each k value\n",
        "inertia_values = []\n",
        "for k in k_values:\n",
        "    kmeans = KMeans(n_clusters=k)\n",
        "    kmeans.fit(arr)\n",
        "    inertia_values.append(kmeans.inertia_)\n",
        "\n",
        "# Plot the inertia values against the number of clusters\n",
        "plt.plot(k_values, inertia_values, 'bx-')\n",
        "plt.xlabel('Number of Clusters (k)')\n",
        "plt.ylabel('Inertia')\n",
        "plt.title('Elbow Method for Optimal k')\n",
        "plt.show()"
      ],
      "metadata": {
        "colab": {
          "base_uri": "https://localhost:8080/",
          "height": 472
        },
        "id": "wxxJwgwj4KM2",
        "outputId": "f49b27dd-da0f-4e96-9076-0926c476519d"
      },
      "execution_count": 35,
      "outputs": [
        {
          "output_type": "display_data",
          "data": {
            "text/plain": [
              "<Figure size 640x480 with 1 Axes>"
            ],
            "image/png": "[encoded data removed]"
          },
          "metadata": {}
        }
      ]
    },
    {
      "cell_type": "code",
      "source": [
        "kmeans = KMeans(n_clusters=5)\n",
        "kmeans.fit(arr)\n",
        "kmeans.cluster_centers_"
      ],
      "metadata": {
        "colab": {
          "base_uri": "https://localhost:8080/"
        },
        "id": "BQ1BKQVJ4XRq",
        "outputId": "6b1e0a50-e61d-4173-d539-c05d98961eb9"
      },
      "execution_count": 36,
      "outputs": [
        {
          "output_type": "execute_result",
          "data": {
            "text/plain": [
              "array([[  6.68723529, -14.22455882],\n",
              "       [  3.82902439,  14.07331707],\n",
              "       [-10.09895238, -10.7757619 ],\n",
              "       [  5.46342857,  -0.10814286],\n",
              "       [-10.40809756,   9.22636585]])"
            ]
          },
          "metadata": {},
          "execution_count": 36
        }
      ]
    },
    {
      "cell_type": "code",
      "source": [
        "from collections import defaultdict\n",
        "d = defaultdict(lambda: [])\n",
        "for i in range(200):\n",
        "    label = kmeans.predict([arr[i]])[0]\n",
        "    d[label].append(i)\n",
        "\n",
        "for i in range(5):\n",
        "    print(d[i])"
      ],
      "metadata": {
        "colab": {
          "base_uri": "https://localhost:8080/"
        },
        "id": "U04pdeMO4KPR",
        "outputId": "3bf540f8-5684-4c10-e376-589956adba8b"
      },
      "execution_count": 37,
      "outputs": [
        {
          "output_type": "stream",
          "name": "stdout",
          "text": [
            "[3, 6, 103, 106, 111, 113, 114, 117, 118, 119, 122, 123, 128, 131, 133, 135, 139, 140, 143, 153, 159, 161, 162, 166, 168, 170, 173, 177, 179, 180, 186, 188, 191, 193]\n",
            "[0, 4, 5, 8, 9, 57, 59, 60, 64, 65, 66, 104, 105, 110, 112, 115, 120, 127, 130, 136, 137, 141, 144, 145, 147, 148, 150, 152, 154, 157, 160, 165, 169, 171, 185, 187, 189, 190, 192, 196, 199]\n",
            "[11, 13, 15, 16, 17, 20, 21, 22, 23, 24, 25, 26, 27, 31, 35, 36, 37, 39, 42, 46, 47, 51, 52, 53, 55, 62, 63, 67, 68, 70, 73, 74, 76, 79, 81, 83, 86, 87, 88, 89, 90, 101]\n",
            "[1, 2, 7, 10, 56, 58, 61, 107, 108, 109, 116, 121, 124, 125, 126, 129, 132, 134, 138, 142, 146, 149, 151, 155, 156, 158, 163, 164, 167, 172, 174, 175, 176, 178, 181, 182, 183, 184, 194, 195, 197, 198]\n",
            "[12, 14, 18, 19, 28, 29, 30, 32, 33, 34, 38, 40, 41, 43, 44, 45, 48, 49, 50, 54, 69, 71, 72, 75, 77, 78, 80, 82, 84, 85, 91, 92, 93, 94, 95, 96, 97, 98, 99, 100, 102]\n"
          ]
        }
      ]
    },
    {
      "cell_type": "code",
      "source": [
        "from scipy.linalg import norm\n",
        "\n",
        "def dist(i):\n",
        "    at = -1\n",
        "    mini = 10\n",
        "    for j in range(len(d[i])):\n",
        "        dis = ((arr[d[i][j]][0]- kmeans.cluster_centers_[i][0])**2 + (arr[d[i][j]][1]- kmeans.cluster_centers_[i][1])**2)**0.5\n",
        "        if dis <mini:\n",
        "            mini = dis\n",
        "            at = j\n",
        "    print(f'{d[i][at]+1} is the master node of {i}th cluster')\n",
        "    print(arr[d[i][at]], kmeans.cluster_centers_[i],'\\n')\n",
        "for i in range(5):\n",
        "    dist(i)"
      ],
      "metadata": {
        "colab": {
          "base_uri": "https://localhost:8080/"
        },
        "id": "-S5y9A2S4b0d",
        "outputId": "7c8880b9-faa3-4d00-c8e9-65389655b81f"
      },
      "execution_count": 38,
      "outputs": [
        {
          "output_type": "stream",
          "name": "stdout",
          "text": [
            "174 is the master node of 0th cluster\n",
            "[  5.549 -15.501] [  6.68723529 -14.22455882] \n",
            "\n",
            "149 is the master node of 1th cluster\n",
            "[ 2.764 14.217] [ 3.82902439 14.07331707] \n",
            "\n",
            "102 is the master node of 2th cluster\n",
            "[ -9.89  -10.324] [-10.09895238 -10.7757619 ] \n",
            "\n",
            "175 is the master node of 3th cluster\n",
            "[ 5.707 -0.473] [ 5.46342857 -0.10814286] \n",
            "\n",
            "99 is the master node of 4th cluster\n",
            "[-9.571  8.053] [-10.40809756   9.22636585] \n",
            "\n"
          ]
        }
      ]
    },
    {
      "cell_type": "code",
      "source": [
        "x1 = np.array(pd.read_csv(path+f'{174}_pos_sponge_box_data.csv'))[:,:10] # fractional derivatives\n",
        "y1 = np.array(pd.read_csv(path+f'{174}_force_sponge_box_data.csv'))\n",
        "rf = RandomForestRegressor()\n",
        "rf.fit(x1,y1)\n",
        "\n",
        "error = []\n",
        "array = np.array(d[0])+1\n",
        "for i in array:\n",
        "    x2 = np.array(pd.read_csv(path+f'{i}_pos_sponge_box_data.csv'))[:,:10] # fractional derivatives\n",
        "    y1 = np.array(pd.read_csv(path+f'{i}_force_sponge_box_data.csv'))\n",
        "    y_pred = rf.predict(x2)\n",
        "    statement = f'For point: {i}, Error: {mean_squared_error(y_pred, y1)**0.5}\\n'\n",
        "    #print(f'For point: {i}, Error: {mean_squared_error(y_pred, y1)**0.5}')\n",
        "    error.append(mean_squared_error(y_pred, y1)**0.5)\n",
        "    with open('cluster.txt','a') as f:\n",
        "        f.write(statement)\n",
        "print(sum(error)/len(error))\n",
        "print(max(error), min(error))\n",
        "total = error"
      ],
      "metadata": {
        "colab": {
          "base_uri": "https://localhost:8080/"
        },
        "id": "gY_lKWwM4b2u",
        "outputId": "26264bfc-18c0-46d7-bc4d-ceb6522b5c81"
      },
      "execution_count": 39,
      "outputs": [
        {
          "output_type": "stream",
          "name": "stdout",
          "text": [
            "0.1626184896550424\n",
            "0.44150606934721326 0.030602253369759108\n"
          ]
        }
      ]
    },
    {
      "cell_type": "code",
      "source": [
        "x1 = np.array(pd.read_csv(path+f'{149}_pos_sponge_box_data.csv'))[:,:10] # fractional derivatives\n",
        "y1 = np.array(pd.read_csv(path+f'{149}_force_sponge_box_data.csv'))\n",
        "rf = RandomForestRegressor()\n",
        "rf.fit(x1,y1)\n",
        "\n",
        "error = []\n",
        "array = np.array(d[1])+1\n",
        "for i in array:\n",
        "    x2 = np.array(pd.read_csv(path+f'{i}_pos_sponge_box_data.csv'))[:,:10] # fractional derivatives\n",
        "    y1 = np.array(pd.read_csv(path+f'{i}_force_sponge_box_data.csv'))\n",
        "    y_pred = rf.predict(x2)\n",
        "    statement = f'For point: {i}, Error: {mean_squared_error(y_pred, y1)**0.5}\\n'\n",
        "    #print(f'For point: {i}, Error: {mean_squared_error(y_pred, y1)**0.5}')\n",
        "    error.append(mean_squared_error(y_pred, y1)**0.5)\n",
        "    with open('cluster.txt','a') as f:\n",
        "        f.write(statement)\n",
        "print(sum(error)/len(error))\n",
        "print(max(error), min(error))\n",
        "total += error"
      ],
      "metadata": {
        "colab": {
          "base_uri": "https://localhost:8080/"
        },
        "id": "TqGYQ6pR5P1l",
        "outputId": "701288b9-7906-441d-f738-55f50325a5b8"
      },
      "execution_count": 40,
      "outputs": [
        {
          "output_type": "stream",
          "name": "stdout",
          "text": [
            "0.2794568109440327\n",
            "0.8404381743289393 0.028164599531066932\n"
          ]
        }
      ]
    },
    {
      "cell_type": "code",
      "source": [
        "x1 = np.array(pd.read_csv(path+f'{102}_pos_sponge_box_data.csv'))[:,:10] # fractional derivatives\n",
        "y1 = np.array(pd.read_csv(path+f'{102}_force_sponge_box_data.csv'))\n",
        "rf = RandomForestRegressor()\n",
        "rf.fit(x1,y1)\n",
        "\n",
        "error = []\n",
        "array = np.array(d[2])+1\n",
        "for i in array:\n",
        "    x2 = np.array(pd.read_csv(path+f'{i}_pos_sponge_box_data.csv'))[:,:10] # fractional derivatives\n",
        "    y1 = np.array(pd.read_csv(path+f'{i}_force_sponge_box_data.csv'))\n",
        "    y_pred = rf.predict(x2)\n",
        "    statement = f'For point: {i}, Error: {mean_squared_error(y_pred, y1)**0.5}\\n'\n",
        "    #print(f'For point: {i}, Error: {mean_squared_error(y_pred, y1)**0.5}')\n",
        "    error.append(mean_squared_error(y_pred, y1)**0.5)\n",
        "    with open('cluster.txt','a') as f:\n",
        "        f.write(statement)\n",
        "print(sum(error)/len(error))\n",
        "print(max(error), min(error))\n",
        "total += error"
      ],
      "metadata": {
        "colab": {
          "base_uri": "https://localhost:8080/"
        },
        "id": "4vjuK1055P33",
        "outputId": "5784051c-635c-404e-beb4-62457bd75b82"
      },
      "execution_count": 41,
      "outputs": [
        {
          "output_type": "stream",
          "name": "stdout",
          "text": [
            "0.2076449529200736\n",
            "0.47186872395444873 0.03472275788999489\n"
          ]
        }
      ]
    },
    {
      "cell_type": "code",
      "source": [
        "x1 = np.array(pd.read_csv(path+f'{175}_pos_sponge_box_data.csv'))[:,:10] # fractional derivatives\n",
        "y1 = np.array(pd.read_csv(path+f'{175}_force_sponge_box_data.csv'))\n",
        "rf = RandomForestRegressor()\n",
        "rf.fit(x1,y1)\n",
        "\n",
        "error = []\n",
        "array = np.array(d[3])+1\n",
        "for i in array:\n",
        "    x2 = np.array(pd.read_csv(path+f'{i}_pos_sponge_box_data.csv'))[:,:10] # fractional derivatives\n",
        "    y1 = np.array(pd.read_csv(path+f'{i}_force_sponge_box_data.csv'))\n",
        "    y_pred = rf.predict(x2)\n",
        "    statement = f'For point: {i}, Error: {mean_squared_error(y_pred, y1)**0.5}\\n'\n",
        "    #print(f'For point: {i}, Error: {mean_squared_error(y_pred, y1)**0.5}')\n",
        "    error.append(mean_squared_error(y_pred, y1)**0.5)\n",
        "    with open('cluster.txt','a') as f:\n",
        "        f.write(statement)\n",
        "print(sum(error)/len(error))\n",
        "print(max(error), min(error))\n",
        "total+= error"
      ],
      "metadata": {
        "colab": {
          "base_uri": "https://localhost:8080/"
        },
        "id": "CTRCKtTB4KUt",
        "outputId": "a68243aa-60a9-4eb2-cb29-6fbc292ab1b4"
      },
      "execution_count": 42,
      "outputs": [
        {
          "output_type": "stream",
          "name": "stdout",
          "text": [
            "0.23869519377510043\n",
            "0.5454094723589876 0.029340577656540245\n"
          ]
        }
      ]
    },
    {
      "cell_type": "code",
      "source": [
        "x1 = np.array(pd.read_csv(path+f'{99}_pos_sponge_box_data.csv'))[:,:10] # fractional derivatives\n",
        "y1 = np.array(pd.read_csv(path+f'{99}_force_sponge_box_data.csv'))\n",
        "rf = RandomForestRegressor()\n",
        "rf.fit(x1,y1)\n",
        "\n",
        "error = []\n",
        "array = np.array(d[4])+1\n",
        "for i in array:\n",
        "    x2 = np.array(pd.read_csv(path+f'{i}_pos_sponge_box_data.csv'))[:,:10] # fractional derivatives\n",
        "    y1 = np.array(pd.read_csv(path+f'{i}_force_sponge_box_data.csv'))\n",
        "    y_pred = rf.predict(x2)\n",
        "    statement = f'For point: {i}, Error: {mean_squared_error(y_pred, y1)**0.5}\\n'\n",
        "    #print(f'For point: {i}, Error: {mean_squared_error(y_pred, y1)**0.5}')\n",
        "    error.append(mean_squared_error(y_pred, y1)**0.5)\n",
        "    with open('cluster.txt','a') as f:\n",
        "        f.write(statement)\n",
        "print(sum(error)/len(error))\n",
        "print(max(error), min(error))\n",
        "total += error"
      ],
      "metadata": {
        "colab": {
          "base_uri": "https://localhost:8080/"
        },
        "id": "VcxeVCiI5Zz-",
        "outputId": "73396ea4-6ccc-4565-9382-4367b3815ccf"
      },
      "execution_count": 43,
      "outputs": [
        {
          "output_type": "stream",
          "name": "stdout",
          "text": [
            "0.10872364085773832\n",
            "0.28207273777812225 0.02861425651359809\n"
          ]
        }
      ]
    },
    {
      "cell_type": "code",
      "source": [
        "print('Mean:', np.mean(np.array(total)))\n",
        "print('Std:', np.std(np.array(total)))"
      ],
      "metadata": {
        "colab": {
          "base_uri": "https://localhost:8080/"
        },
        "id": "NfVPsB935Z2M",
        "outputId": "9bae10a8-26f1-4850-85fc-40d8f23f2397"
      },
      "execution_count": 44,
      "outputs": [
        {
          "output_type": "stream",
          "name": "stdout",
          "text": [
            "Mean: 0.20095356666670677\n",
            "Std: 0.14130915000839817\n"
          ]
        }
      ]
    },
    {
      "cell_type": "code",
      "source": [
        "max(total)"
      ],
      "metadata": {
        "colab": {
          "base_uri": "https://localhost:8080/"
        },
        "id": "04gm6f4k5z9C",
        "outputId": "2e93f546-b0d0-40cb-e8db-95d7ffa9d702"
      },
      "execution_count": 45,
      "outputs": [
        {
          "output_type": "execute_result",
          "data": {
            "text/plain": [
              "0.8404381743289393"
            ]
          },
          "metadata": {},
          "execution_count": 45
        }
      ]
    },
    {
      "cell_type": "code",
      "source": [],
      "metadata": {
        "id": "sUYuY6_rBLhA"
      },
      "execution_count": null,
      "outputs": []
    }
  ],
  "metadata": {
    "colab": {
      "provenance": []
    },
    "kernelspec": {
      "display_name": "Python 3",
      "language": "python",
      "name": "python3"
    },
    "language_info": {
      "codemirror_mode": {
        "name": "ipython",
        "version": 3
      },
      "file_extension": ".py",
      "mimetype": "text/x-python",
      "name": "python",
      "nbconvert_exporter": "python",
      "pygments_lexer": "ipython3",
      "version": "3.7.4"
    }
  },
  "nbformat": 4,
  "nbformat_minor": 0
}