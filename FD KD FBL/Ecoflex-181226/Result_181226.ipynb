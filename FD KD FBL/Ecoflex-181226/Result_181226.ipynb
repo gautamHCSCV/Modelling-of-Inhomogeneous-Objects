{
  "cells": [
    {
      "cell_type": "code",
      "source": [
        "!pip install catboost"
      ],
      "metadata": {
        "colab": {
          "base_uri": "https://localhost:8080/"
        },
        "id": "LnsEmHULy0sz",
        "outputId": "44702603-4891-4e4b-d71c-0ddfaba44737"
      },
      "execution_count": 1,
      "outputs": [
        {
          "output_type": "stream",
          "name": "stdout",
          "text": [
            "Looking in indexes: https://pypi.org/simple, https://us-python.pkg.dev/colab-wheels/public/simple/\n",
            "Collecting catboost\n",
            "  Downloading catboost-1.2-cp310-cp310-manylinux2014_x86_64.whl (98.6 MB)\n",
            "\u001b[2K     \u001b[90m━━━━━━━━━━━━━━━━━━━━━━━━━━━━━━━━━━━━━━━━\u001b[0m \u001b[32m98.6/98.6 MB\u001b[0m \u001b[31m6.0 MB/s\u001b[0m eta \u001b[36m0:00:00\u001b[0m\n",
            "\u001b[?25hRequirement already satisfied: graphviz in /usr/local/lib/python3.10/dist-packages (from catboost) (0.20.1)\n",
            "Requirement already satisfied: matplotlib in /usr/local/lib/python3.10/dist-packages (from catboost) (3.7.1)\n",
            "Requirement already satisfied: numpy>=1.16.0 in /usr/local/lib/python3.10/dist-packages (from catboost) (1.22.4)\n",
            "Requirement already satisfied: pandas>=0.24 in /usr/local/lib/python3.10/dist-packages (from catboost) (1.5.3)\n",
            "Requirement already satisfied: scipy in /usr/local/lib/python3.10/dist-packages (from catboost) (1.10.1)\n",
            "Requirement already satisfied: plotly in /usr/local/lib/python3.10/dist-packages (from catboost) (5.13.1)\n",
            "Requirement already satisfied: six in /usr/local/lib/python3.10/dist-packages (from catboost) (1.16.0)\n",
            "Requirement already satisfied: python-dateutil>=2.8.1 in /usr/local/lib/python3.10/dist-packages (from pandas>=0.24->catboost) (2.8.2)\n",
            "Requirement already satisfied: pytz>=2020.1 in /usr/local/lib/python3.10/dist-packages (from pandas>=0.24->catboost) (2022.7.1)\n",
            "Requirement already satisfied: contourpy>=1.0.1 in /usr/local/lib/python3.10/dist-packages (from matplotlib->catboost) (1.0.7)\n",
            "Requirement already satisfied: cycler>=0.10 in /usr/local/lib/python3.10/dist-packages (from matplotlib->catboost) (0.11.0)\n",
            "Requirement already satisfied: fonttools>=4.22.0 in /usr/local/lib/python3.10/dist-packages (from matplotlib->catboost) (4.39.3)\n",
            "Requirement already satisfied: kiwisolver>=1.0.1 in /usr/local/lib/python3.10/dist-packages (from matplotlib->catboost) (1.4.4)\n",
            "Requirement already satisfied: packaging>=20.0 in /usr/local/lib/python3.10/dist-packages (from matplotlib->catboost) (23.1)\n",
            "Requirement already satisfied: pillow>=6.2.0 in /usr/local/lib/python3.10/dist-packages (from matplotlib->catboost) (8.4.0)\n",
            "Requirement already satisfied: pyparsing>=2.3.1 in /usr/local/lib/python3.10/dist-packages (from matplotlib->catboost) (3.0.9)\n",
            "Requirement already satisfied: tenacity>=6.2.0 in /usr/local/lib/python3.10/dist-packages (from plotly->catboost) (8.2.2)\n",
            "Installing collected packages: catboost\n",
            "Successfully installed catboost-1.2\n"
          ]
        }
      ]
    },
    {
      "cell_type": "code",
      "execution_count": 2,
      "metadata": {
        "id": "-VjuA1WW4ond"
      },
      "outputs": [],
      "source": [
        "import pandas as pd\n",
        "import numpy as np\n",
        "import os\n",
        "import csv\n",
        "from datetime import datetime\n",
        "from catboost import CatBoostRegressor\n",
        "import matplotlib.pyplot as plt\n",
        "from sklearn.ensemble import RandomForestRegressor\n",
        "from sklearn.linear_model import LinearRegression\n",
        "from sklearn.metrics import mean_squared_error\n",
        "from sklearn.model_selection import train_test_split\n",
        "\n",
        "import warnings\n",
        "warnings.filterwarnings('ignore')"
      ]
    },
    {
      "cell_type": "code",
      "execution_count": 3,
      "metadata": {
        "colab": {
          "base_uri": "https://localhost:8080/"
        },
        "id": "yUMtK4IG4pAT",
        "outputId": "eac1ffe6-419e-4602-aa6b-5febb722aa58"
      },
      "outputs": [
        {
          "output_type": "stream",
          "name": "stdout",
          "text": [
            "Mounted at /content/drive\n"
          ]
        }
      ],
      "source": [
        "from google.colab import drive\n",
        "drive.mount('/content/drive')"
      ]
    },
    {
      "cell_type": "markdown",
      "metadata": {
        "id": "HfwZrWmClg6r"
      },
      "source": [
        "# Models Estimation"
      ]
    },
    {
      "cell_type": "code",
      "source": [
        "path = '/content/drive/MyDrive/Virtual env/z_inhomogenous_modeling/eco_181226_all_data/'\n",
        "print(len(sorted(os.listdir(path))))\n",
        "rnd_idx = np.array( [2,9,20,29,45,52,59,75,80,84,97,103,116,122,126,133,152,168,195,199, 118, 132, 144,193, 200,98] )\n",
        "len(rnd_idx)"
      ],
      "metadata": {
        "id": "3SE2Bftc-VrO",
        "colab": {
          "base_uri": "https://localhost:8080/"
        },
        "outputId": "b1cc93fb-02c1-4737-c135-d5b85cdd90f3"
      },
      "execution_count": 79,
      "outputs": [
        {
          "output_type": "stream",
          "name": "stdout",
          "text": [
            "800\n"
          ]
        },
        {
          "output_type": "execute_result",
          "data": {
            "text/plain": [
              "26"
            ]
          },
          "metadata": {},
          "execution_count": 79
        }
      ]
    },
    {
      "cell_type": "code",
      "source": [
        "y = np.array(pd.read_csv(path+f'{rnd_idx[0]}_percep_force_ecoflex_181226_data.csv'))\n",
        "x = np.array(pd.read_csv(path+f'{rnd_idx[0]}_percep_pos_ecoflex_181226_data.csv'))\n",
        "l = len(y)\n",
        "x.shape, y.shape"
      ],
      "metadata": {
        "colab": {
          "base_uri": "https://localhost:8080/"
        },
        "id": "eKB3r3w-wiM2",
        "outputId": "9fb0ff26-5932-41d0-be56-e53157f672c9"
      },
      "execution_count": 80,
      "outputs": [
        {
          "output_type": "execute_result",
          "data": {
            "text/plain": [
              "((1272, 12), (1272, 1))"
            ]
          },
          "metadata": {},
          "execution_count": 80
        }
      ]
    },
    {
      "cell_type": "code",
      "source": [
        "for i in range(len(rnd_idx)-1):\n",
        "    x1 = np.array(pd.read_csv(path+f'{rnd_idx[i+1]}_percep_pos_ecoflex_181226_data.csv')) # fractional derivatives\n",
        "    y1 = np.array(pd.read_csv(path+f'{rnd_idx[i+1]}_percep_force_ecoflex_181226_data.csv'))\n",
        "\n",
        "    x = np.concatenate([x,x1])\n",
        "    y = np.concatenate([y,y1])\n",
        "print(x.shape, y.shape)"
      ],
      "metadata": {
        "id": "z-q47w4rwpf3",
        "colab": {
          "base_uri": "https://localhost:8080/"
        },
        "outputId": "72f5bfff-d084-4030-d02a-1eff6b2933f8"
      },
      "execution_count": 81,
      "outputs": [
        {
          "output_type": "stream",
          "name": "stdout",
          "text": [
            "(32612, 12) (32612, 1)\n"
          ]
        }
      ]
    },
    {
      "cell_type": "code",
      "source": [
        "y_test = np.array(pd.read_csv(path+f'{rnd_idx[3]-2}_force_ecoflex_181226_data.csv'))\n",
        "x_test = np.array(pd.read_csv(path+f'{rnd_idx[3]-2}_pos_ecoflex_181226_data.csv'))\n",
        "\n",
        "x_test.shape, y_test.shape"
      ],
      "metadata": {
        "colab": {
          "base_uri": "https://localhost:8080/"
        },
        "id": "woaRyu8FyM_T",
        "outputId": "d9a69945-249f-46f8-f7cf-ada7d5413d4d"
      },
      "execution_count": 82,
      "outputs": [
        {
          "output_type": "execute_result",
          "data": {
            "text/plain": [
              "((34462, 12), (34462, 1))"
            ]
          },
          "metadata": {},
          "execution_count": 82
        }
      ]
    },
    {
      "cell_type": "code",
      "source": [
        "for i in range(len(rnd_idx)//2):\n",
        "    x1 = np.array(pd.read_csv(path+f'{rnd_idx[i+1]-1}_pos_ecoflex_181226_data.csv')) # fractional derivatives\n",
        "    y1 = np.array(pd.read_csv(path+f'{rnd_idx[i+1]-1}_force_ecoflex_181226_data.csv'))\n",
        "    x_test = np.concatenate([x_test,x1])\n",
        "    y_test = np.concatenate([y_test,y1])\n",
        "print(x_test.shape, y_test.shape)"
      ],
      "metadata": {
        "colab": {
          "base_uri": "https://localhost:8080/"
        },
        "id": "OavWzOwSyNBw",
        "outputId": "a655ebe3-2ed1-45cf-899e-4d40b5ec08ce"
      },
      "execution_count": 83,
      "outputs": [
        {
          "output_type": "stream",
          "name": "stdout",
          "text": [
            "(482457, 12) (482457, 1)\n"
          ]
        }
      ]
    },
    {
      "cell_type": "code",
      "source": [
        "cat = CatBoostRegressor()\n",
        "t1 = datetime.now()\n",
        "cat.fit(x,y)\n",
        "t2 = datetime.now()\n",
        "y_pred = cat.predict(x_test)"
      ],
      "metadata": {
        "id": "pVVu1cjHx51p"
      },
      "execution_count": null,
      "outputs": []
    },
    {
      "cell_type": "code",
      "source": [
        "print('RMSE:', mean_squared_error(y_pred, y_test)**0.5)\n",
        "print(t2-t1)"
      ],
      "metadata": {
        "colab": {
          "base_uri": "https://localhost:8080/"
        },
        "id": "NcH_bfoAyvCS",
        "outputId": "df8b8fd3-c933-448c-d422-58e234a66625"
      },
      "execution_count": 85,
      "outputs": [
        {
          "output_type": "stream",
          "name": "stdout",
          "text": [
            "RMSE: 0.3147285248410691\n",
            "0:00:05.401748\n"
          ]
        }
      ]
    },
    {
      "cell_type": "code",
      "source": [
        "for i in range(81,90):\n",
        "    x1 = np.array(pd.read_csv(path+f'{i}_pos_ecoflex_181226_data.csv')) # fractional derivatives\n",
        "    y1 = np.array(pd.read_csv(path+f'{i}_force_ecoflex_181226_data.csv'))\n",
        "    y_pred = cat.predict(x1)\n",
        "    print(f'For point: {i}, Error: {mean_squared_error(y_pred, y1)**0.5}')"
      ],
      "metadata": {
        "colab": {
          "base_uri": "https://localhost:8080/"
        },
        "id": "X1Dmc-S9zXwP",
        "outputId": "f6f67ff7-3d90-4377-9894-67b64c42b716"
      },
      "execution_count": 86,
      "outputs": [
        {
          "output_type": "stream",
          "name": "stdout",
          "text": [
            "For point: 81, Error: 0.1449484286492267\n",
            "For point: 82, Error: 0.1949772984355772\n",
            "For point: 83, Error: 0.17982729370791417\n",
            "For point: 84, Error: 0.16191860717560255\n",
            "For point: 85, Error: 0.2510131634150776\n",
            "For point: 86, Error: 0.1622998900991824\n",
            "For point: 87, Error: 0.2019984406455025\n",
            "For point: 88, Error: 0.20622286070442294\n",
            "For point: 89, Error: 0.2772914510647248\n"
          ]
        }
      ]
    },
    {
      "cell_type": "code",
      "source": [
        "error = []\n",
        "for i in range(1,201):\n",
        "    x1 = np.array(pd.read_csv(path+f'{i}_pos_ecoflex_181226_data.csv')) # fractional derivatives\n",
        "    y1 = np.array(pd.read_csv(path+f'{i}_force_ecoflex_181226_data.csv'))\n",
        "    y_pred = cat.predict(x1)\n",
        "    statement = f'For point: {i}, Error: {mean_squared_error(y_pred, y1)**0.5}\\n'\n",
        "    #print(f'For point: {i}, Error: {mean_squared_error(y_pred, y1)**0.5}')\n",
        "    error.append(mean_squared_error(y_pred, y1)**0.5)\n",
        "    with open('results_catboost.txt','a') as f:\n",
        "        f.write(statement)\n",
        "print(sum(error)/len(error))"
      ],
      "metadata": {
        "colab": {
          "base_uri": "https://localhost:8080/"
        },
        "id": "lpzYYSgDLFuA",
        "outputId": "68193229-9ed4-4f3e-e5f7-9f7e465a51a3"
      },
      "execution_count": 87,
      "outputs": [
        {
          "output_type": "stream",
          "name": "stdout",
          "text": [
            "0.22722772911713224\n"
          ]
        }
      ]
    },
    {
      "cell_type": "code",
      "source": [
        "max(error), min(error)"
      ],
      "metadata": {
        "id": "0xBBbM0jzTur",
        "colab": {
          "base_uri": "https://localhost:8080/"
        },
        "outputId": "ce4e81dc-201c-4c4c-9dcf-d5bb0b0456c5"
      },
      "execution_count": 88,
      "outputs": [
        {
          "output_type": "execute_result",
          "data": {
            "text/plain": [
              "(0.47345785962113446, 0.11980689377698489)"
            ]
          },
          "metadata": {},
          "execution_count": 88
        }
      ]
    },
    {
      "cell_type": "code",
      "source": [
        "np.std(np.array(error))"
      ],
      "metadata": {
        "colab": {
          "base_uri": "https://localhost:8080/"
        },
        "id": "zF_LlwR75mt5",
        "outputId": "3c9005cc-d26f-49e1-e661-3245ce613c1c"
      },
      "execution_count": 89,
      "outputs": [
        {
          "output_type": "execute_result",
          "data": {
            "text/plain": [
              "0.0805362014478741"
            ]
          },
          "metadata": {},
          "execution_count": 89
        }
      ]
    },
    {
      "cell_type": "code",
      "source": [
        "for i in range(5):\n",
        "    val = sorted(error)[::-1][i]\n",
        "    print(val, 'at', error.index(val)+1)\n"
      ],
      "metadata": {
        "colab": {
          "base_uri": "https://localhost:8080/"
        },
        "id": "ZRKffNN52MAN",
        "outputId": "d312f7ff-8ece-48ad-a69b-75ea15e50052"
      },
      "execution_count": 90,
      "outputs": [
        {
          "output_type": "stream",
          "name": "stdout",
          "text": [
            "0.47345785962113446 at 115\n",
            "0.47294390876749687 at 1\n",
            "0.45377693446910666 at 193\n",
            "0.41748316136488306 at 101\n",
            "0.40167281306794306 at 14\n"
          ]
        }
      ]
    },
    {
      "cell_type": "code",
      "source": [
        "def graph(i):\n",
        "    x1 = np.array(pd.read_csv(path+f'{i}_pos_ecoflex_181226_data.csv')) # fractional derivatives\n",
        "    y1 = np.array(pd.read_csv(path+f'{i}_force_ecoflex_181226_data.csv'))\n",
        "    y_pred = cat.predict(x1)\n",
        "    plt.plot(range(len(y1)), y1, label = 'actual')\n",
        "    plt.plot(range(len(y1)), y_pred, label = 'predicted')\n",
        "    plt.legend()\n",
        "    plt.title(f'Point {i}')\n",
        "    plt.show()\n",
        "\n",
        "graph(199)"
      ],
      "metadata": {
        "colab": {
          "base_uri": "https://localhost:8080/",
          "height": 452
        },
        "id": "xa-0y5r__5sP",
        "outputId": "dd91cfa2-006d-4fed-acc5-ee2afff945d0"
      },
      "execution_count": 91,
      "outputs": [
        {
          "output_type": "display_data",
          "data": {
            "text/plain": [
              "<Figure size 640x480 with 1 Axes>"
            ],
            "image/png": "[encoded data removed]"
          },
          "metadata": {}
        }
      ]
    },
    {
      "cell_type": "markdown",
      "source": [
        "# Random Forest"
      ],
      "metadata": {
        "id": "0gXdJIWRKA6l"
      }
    },
    {
      "cell_type": "code",
      "source": [
        "rf = RandomForestRegressor()\n",
        "t1 = datetime.now()\n",
        "rf.fit(x,y)\n",
        "t2 = datetime.now()\n",
        "y_pred = rf.predict(x_test)\n",
        "print('RMSE:', mean_squared_error(y_pred, y_test)**0.5)\n",
        "print(t2-t1)"
      ],
      "metadata": {
        "id": "-0OcdXoEA55i",
        "colab": {
          "base_uri": "https://localhost:8080/"
        },
        "outputId": "08c8f7d2-a872-461e-e060-57626d389bec"
      },
      "execution_count": 92,
      "outputs": [
        {
          "output_type": "stream",
          "name": "stdout",
          "text": [
            "RMSE: 0.35569539556750196\n",
            "0:00:28.373362\n"
          ]
        }
      ]
    },
    {
      "cell_type": "code",
      "source": [
        "for i in range(74,82):\n",
        "    x1 = np.array(pd.read_csv(path+f'{i}_pos_ecoflex_181226_data.csv')) # fractional derivatives\n",
        "    y1 = np.array(pd.read_csv(path+f'{i}_force_ecoflex_181226_data.csv'))\n",
        "    y_pred = rf.predict(x1)\n",
        "    print(f'For point: {i}, Error: {mean_squared_error(y_pred, y1)**0.5}')"
      ],
      "metadata": {
        "id": "iZqcOLTZKODD",
        "colab": {
          "base_uri": "https://localhost:8080/"
        },
        "outputId": "72e2fbac-7f3a-47fb-bd06-1d7a906b3b85"
      },
      "execution_count": 93,
      "outputs": [
        {
          "output_type": "stream",
          "name": "stdout",
          "text": [
            "For point: 74, Error: 0.4080311876928697\n",
            "For point: 75, Error: 0.18624028608873042\n",
            "For point: 76, Error: 0.33935211533624376\n",
            "For point: 77, Error: 0.20501115726669966\n",
            "For point: 78, Error: 0.22915720706296253\n",
            "For point: 79, Error: 0.28699914771939905\n",
            "For point: 80, Error: 0.13378443183126035\n",
            "For point: 81, Error: 0.1538105717664018\n"
          ]
        }
      ]
    },
    {
      "cell_type": "code",
      "source": [
        "error = []\n",
        "for i in range(1,201):\n",
        "    x1 = np.array(pd.read_csv(path+f'{i}_pos_ecoflex_181226_data.csv')) # fractional derivatives\n",
        "    y1 = np.array(pd.read_csv(path+f'{i}_force_ecoflex_181226_data.csv'))\n",
        "    y_pred = rf.predict(x1)\n",
        "    statement = f'For point: {i}, Error: {mean_squared_error(y_pred, y1)**0.5}\\n'\n",
        "    #print(f'For point: {i}, Error: {mean_squared_error(y_pred, y1)**0.5}')\n",
        "    error.append(mean_squared_error(y_pred, y1)**0.5)\n",
        "    with open('results.txt','a') as f:\n",
        "        f.write(statement)\n",
        "print(sum(error)/len(error))"
      ],
      "metadata": {
        "id": "pMivG2eKKY2E"
      },
      "execution_count": null,
      "outputs": []
    },
    {
      "cell_type": "code",
      "source": [
        "print(sum(error)/len(error))\n",
        "print(np.std(np.array(error)))\n",
        "max(error), min(error)"
      ],
      "metadata": {
        "colab": {
          "base_uri": "https://localhost:8080/"
        },
        "id": "RNQrP6M7T8jm",
        "outputId": "bc721d68-d151-4238-d0db-26827c1ea14c"
      },
      "execution_count": 102,
      "outputs": [
        {
          "output_type": "stream",
          "name": "stdout",
          "text": [
            "0.24457713096682226\n",
            "0.10082171824629181\n"
          ]
        },
        {
          "output_type": "execute_result",
          "data": {
            "text/plain": [
              "(0.6955473261427206, 0.10669321101788498)"
            ]
          },
          "metadata": {},
          "execution_count": 102
        }
      ]
    },
    {
      "cell_type": "markdown",
      "source": [
        "# Clusterring"
      ],
      "metadata": {
        "id": "TyU4CyhV3xL4"
      }
    },
    {
      "cell_type": "code",
      "source": [
        "path2 = '/content/drive/MyDrive/Virtual env/z_inhomogenous_modeling/'\n",
        "arr = np.array(pd.read_csv(path2+'x_y_181226.csv', names = ['x','y']))\n",
        "print(arr.shape)\n",
        "arr[:5]"
      ],
      "metadata": {
        "id": "ngt4QjtmT_9l",
        "colab": {
          "base_uri": "https://localhost:8080/"
        },
        "outputId": "a3f72b5b-b8f7-4cbe-a121-42857b231ab9"
      },
      "execution_count": 103,
      "outputs": [
        {
          "output_type": "stream",
          "name": "stdout",
          "text": [
            "(200, 2)\n"
          ]
        },
        {
          "output_type": "execute_result",
          "data": {
            "text/plain": [
              "array([[-0.0001, -0.0149],\n",
              "       [-0.0002,  0.0185],\n",
              "       [-0.0006,  0.0077],\n",
              "       [-0.001 ,  0.0042],\n",
              "       [-0.0012,  0.006 ]])"
            ]
          },
          "metadata": {},
          "execution_count": 103
        }
      ]
    },
    {
      "cell_type": "code",
      "source": [
        "from sklearn.cluster import KMeans\n",
        "k_values = range(1, 11)\n",
        "\n",
        "# Perform k-means clustering for each k value\n",
        "inertia_values = []\n",
        "for k in k_values:\n",
        "    kmeans = KMeans(n_clusters=k)\n",
        "    kmeans.fit(arr)\n",
        "    inertia_values.append(kmeans.inertia_)\n",
        "\n",
        "# Plot the inertia values against the number of clusters\n",
        "plt.plot(k_values, inertia_values, 'bx-')\n",
        "plt.xlabel('Number of Clusters (k)')\n",
        "plt.ylabel('Inertia')\n",
        "plt.title('Elbow Method for Optimal k')\n",
        "plt.show()"
      ],
      "metadata": {
        "colab": {
          "base_uri": "https://localhost:8080/",
          "height": 472
        },
        "id": "wxxJwgwj4KM2",
        "outputId": "414abcfd-059b-406e-9366-a9083991fa08"
      },
      "execution_count": 104,
      "outputs": [
        {
          "output_type": "display_data",
          "data": {
            "text/plain": [
              "<Figure size 640x480 with 1 Axes>"
            ],
            "image/png": "[encoded data removed]"
          },
          "metadata": {}
        }
      ]
    },
    {
      "cell_type": "code",
      "source": [
        "kmeans = KMeans(n_clusters=5)\n",
        "kmeans.fit(arr)\n",
        "kmeans.cluster_centers_"
      ],
      "metadata": {
        "colab": {
          "base_uri": "https://localhost:8080/"
        },
        "id": "BQ1BKQVJ4XRq",
        "outputId": "6c03b0ce-c2f5-4dd3-f77c-ae61f38becf0"
      },
      "execution_count": 105,
      "outputs": [
        {
          "output_type": "execute_result",
          "data": {
            "text/plain": [
              "array([[-0.01177826,  0.01035   ],\n",
              "       [ 0.01122222, -0.01095111],\n",
              "       [ 0.00069394,  0.00274848],\n",
              "       [ 0.01311951,  0.01108293],\n",
              "       [-0.01222857, -0.00803143]])"
            ]
          },
          "metadata": {},
          "execution_count": 105
        }
      ]
    },
    {
      "cell_type": "code",
      "source": [
        "from collections import defaultdict\n",
        "d = defaultdict(lambda: [])\n",
        "for i in range(200):\n",
        "    label = kmeans.predict([arr[i]])[0]\n",
        "    d[label].append(i)\n",
        "\n",
        "for i in range(5):\n",
        "    print(d[i])"
      ],
      "metadata": {
        "colab": {
          "base_uri": "https://localhost:8080/"
        },
        "id": "U04pdeMO4KPR",
        "outputId": "062bf1fb-7ebb-4724-8832-84bbec443526"
      },
      "execution_count": 106,
      "outputs": [
        {
          "output_type": "stream",
          "name": "stdout",
          "text": [
            "[1, 7, 8, 9, 12, 18, 21, 25, 27, 29, 30, 32, 34, 35, 37, 38, 39, 41, 42, 44, 45, 46, 50, 56, 61, 62, 64, 65, 67, 69, 70, 72, 74, 75, 76, 79, 81, 82, 86, 87, 88, 91, 92, 93, 94, 95]\n",
            "[0, 97, 101, 102, 109, 111, 112, 115, 121, 122, 127, 130, 133, 134, 136, 137, 140, 144, 146, 149, 150, 153, 155, 156, 157, 158, 159, 161, 163, 164, 165, 166, 167, 170, 173, 174, 179, 180, 183, 185, 188, 191, 194, 196, 198]\n",
            "[2, 3, 4, 5, 6, 10, 14, 15, 16, 19, 20, 22, 23, 24, 96, 98, 99, 100, 103, 104, 105, 106, 107, 108, 110, 113, 116, 117, 118, 119, 123, 131, 143]\n",
            "[114, 120, 124, 125, 126, 128, 129, 132, 135, 138, 139, 141, 142, 145, 147, 148, 151, 152, 154, 160, 162, 168, 169, 171, 172, 175, 176, 177, 178, 181, 182, 184, 186, 187, 189, 190, 192, 193, 195, 197, 199]\n",
            "[11, 13, 17, 26, 28, 31, 33, 36, 40, 43, 47, 48, 49, 51, 52, 53, 54, 55, 57, 58, 59, 60, 63, 66, 68, 71, 73, 77, 78, 80, 83, 84, 85, 89, 90]\n"
          ]
        }
      ]
    },
    {
      "cell_type": "code",
      "source": [
        "from scipy.linalg import norm\n",
        "\n",
        "def dist(i):\n",
        "    at = -1\n",
        "    mini = 10\n",
        "    for j in range(len(d[i])):\n",
        "        dis = ((arr[d[i][j]][0]- kmeans.cluster_centers_[i][0])**2 + (arr[d[i][j]][1]- kmeans.cluster_centers_[i][1])**2)**0.5\n",
        "        if dis <mini:\n",
        "            mini = dis\n",
        "            at = j\n",
        "    print(f'{d[i][at]+1} is the master node of {i}th cluster')\n",
        "    print(arr[d[i][at]], kmeans.cluster_centers_[i],'\\n')\n",
        "for i in range(5):\n",
        "    dist(i)"
      ],
      "metadata": {
        "colab": {
          "base_uri": "https://localhost:8080/"
        },
        "id": "-S5y9A2S4b0d",
        "outputId": "95d82070-d2b4-4149-ef63-56e641903a27"
      },
      "execution_count": 107,
      "outputs": [
        {
          "output_type": "stream",
          "name": "stdout",
          "text": [
            "62 is the master node of 0th cluster\n",
            "[-0.0136  0.0116] [-0.01177826  0.01035   ] \n",
            "\n",
            "145 is the master node of 1th cluster\n",
            "[ 0.0107 -0.0114] [ 0.01122222 -0.01095111] \n",
            "\n",
            "107 is the master node of 2th cluster\n",
            "[0.0024 0.0024] [0.00069394 0.00274848] \n",
            "\n",
            "152 is the master node of 3th cluster\n",
            "[0.0119 0.0108] [0.01311951 0.01108293] \n",
            "\n",
            "54 is the master node of 4th cluster\n",
            "[-0.0115 -0.007 ] [-0.01222857 -0.00803143] \n",
            "\n"
          ]
        }
      ]
    },
    {
      "cell_type": "code",
      "source": [
        "x1 = np.array(pd.read_csv(path+f'{49}_pos_ecoflex_181226_data.csv'))[:,:10] # fractional derivatives\n",
        "y1 = np.array(pd.read_csv(path+f'{49}_force_ecoflex_181226_data.csv'))\n",
        "rf = RandomForestRegressor()\n",
        "rf.fit(x1,y1)\n",
        "\n",
        "error = []\n",
        "array = np.array(d[0])+1\n",
        "for i in array:\n",
        "    x2 = np.array(pd.read_csv(path+f'{i}_pos_ecoflex_181226_data.csv'))[:,:10] # fractional derivatives\n",
        "    y1 = np.array(pd.read_csv(path+f'{i}_force_ecoflex_181226_data.csv'))\n",
        "    y_pred = rf.predict(x2)\n",
        "    statement = f'For point: {i}, Error: {mean_squared_error(y_pred, y1)**0.5}\\n'\n",
        "    #print(f'For point: {i}, Error: {mean_squared_error(y_pred, y1)**0.5}')\n",
        "    error.append(mean_squared_error(y_pred, y1)**0.5)\n",
        "    with open('cluster.txt','a') as f:\n",
        "        f.write(statement)\n",
        "print(sum(error)/len(error))\n",
        "print(max(error), min(error))\n",
        "total = error"
      ],
      "metadata": {
        "colab": {
          "base_uri": "https://localhost:8080/"
        },
        "id": "gY_lKWwM4b2u",
        "outputId": "043dd33f-21e2-40fc-f5eb-6acc55577e38"
      },
      "execution_count": 108,
      "outputs": [
        {
          "output_type": "stream",
          "name": "stdout",
          "text": [
            "0.26921274876171764\n",
            "0.3874367601451188 0.16393371589708497\n"
          ]
        }
      ]
    },
    {
      "cell_type": "code",
      "source": [
        "x1 = np.array(pd.read_csv(path+f'{145}_pos_ecoflex_181226_data.csv'))[:,:10] # fractional derivatives\n",
        "y1 = np.array(pd.read_csv(path+f'{145}_force_ecoflex_181226_data.csv'))\n",
        "rf = RandomForestRegressor()\n",
        "rf.fit(x1,y1)\n",
        "\n",
        "error = []\n",
        "array = np.array(d[1])+1\n",
        "for i in array:\n",
        "    x2 = np.array(pd.read_csv(path+f'{i}_pos_ecoflex_181226_data.csv'))[:,:10] # fractional derivatives\n",
        "    y1 = np.array(pd.read_csv(path+f'{i}_force_ecoflex_181226_data.csv'))\n",
        "    y_pred = rf.predict(x2)\n",
        "    statement = f'For point: {i}, Error: {mean_squared_error(y_pred, y1)**0.5}\\n'\n",
        "    #print(f'For point: {i}, Error: {mean_squared_error(y_pred, y1)**0.5}')\n",
        "    error.append(mean_squared_error(y_pred, y1)**0.5)\n",
        "    with open('cluster.txt','a') as f:\n",
        "        f.write(statement)\n",
        "print(sum(error)/len(error))\n",
        "print(max(error), min(error))\n",
        "total += error"
      ],
      "metadata": {
        "colab": {
          "base_uri": "https://localhost:8080/"
        },
        "id": "TqGYQ6pR5P1l",
        "outputId": "ac4ffa14-b6de-499e-9aaf-af290f855447"
      },
      "execution_count": 109,
      "outputs": [
        {
          "output_type": "stream",
          "name": "stdout",
          "text": [
            "0.17565593678242203\n",
            "0.6154008866831231 0.022202646460606483\n"
          ]
        }
      ]
    },
    {
      "cell_type": "code",
      "source": [
        "x1 = np.array(pd.read_csv(path+f'{152}_pos_ecoflex_181226_data.csv'))[:,:10] # fractional derivatives\n",
        "y1 = np.array(pd.read_csv(path+f'{152}_force_ecoflex_181226_data.csv'))\n",
        "rf = RandomForestRegressor()\n",
        "rf.fit(x1,y1)\n",
        "\n",
        "error = []\n",
        "array = np.array(d[2])+1\n",
        "for i in array:\n",
        "    x2 = np.array(pd.read_csv(path+f'{i}_pos_ecoflex_181226_data.csv'))[:,:10] # fractional derivatives\n",
        "    y1 = np.array(pd.read_csv(path+f'{i}_force_ecoflex_181226_data.csv'))\n",
        "    y_pred = rf.predict(x2)\n",
        "    statement = f'For point: {i}, Error: {mean_squared_error(y_pred, y1)**0.5}\\n'\n",
        "    #print(f'For point: {i}, Error: {mean_squared_error(y_pred, y1)**0.5}')\n",
        "    error.append(mean_squared_error(y_pred, y1)**0.5)\n",
        "    with open('cluster.txt','a') as f:\n",
        "        f.write(statement)\n",
        "print(sum(error)/len(error))\n",
        "print(max(error), min(error))\n",
        "total += error"
      ],
      "metadata": {
        "colab": {
          "base_uri": "https://localhost:8080/"
        },
        "id": "4vjuK1055P33",
        "outputId": "b66f4b4e-f497-4be6-e303-574e868af44c"
      },
      "execution_count": 110,
      "outputs": [
        {
          "output_type": "stream",
          "name": "stdout",
          "text": [
            "0.3707302775194629\n",
            "0.640949922137338 0.2537415469674027\n"
          ]
        }
      ]
    },
    {
      "cell_type": "code",
      "source": [
        "x1 = np.array(pd.read_csv(path+f'{75}_pos_ecoflex_181226_data.csv'))[:,:10] # fractional derivatives\n",
        "y1 = np.array(pd.read_csv(path+f'{75}_force_ecoflex_181226_data.csv'))\n",
        "rf = RandomForestRegressor()\n",
        "rf.fit(x1,y1)\n",
        "\n",
        "error = []\n",
        "array = np.array(d[3])+1\n",
        "for i in array:\n",
        "    x2 = np.array(pd.read_csv(path+f'{i}_pos_ecoflex_181226_data.csv'))[:,:10] # fractional derivatives\n",
        "    y1 = np.array(pd.read_csv(path+f'{i}_force_ecoflex_181226_data.csv'))\n",
        "    y_pred = rf.predict(x2)\n",
        "    statement = f'For point: {i}, Error: {mean_squared_error(y_pred, y1)**0.5}\\n'\n",
        "    #print(f'For point: {i}, Error: {mean_squared_error(y_pred, y1)**0.5}')\n",
        "    error.append(mean_squared_error(y_pred, y1)**0.5)\n",
        "    with open('cluster.txt','a') as f:\n",
        "        f.write(statement)\n",
        "print(sum(error)/len(error))\n",
        "print(max(error), min(error))\n",
        "total+= error"
      ],
      "metadata": {
        "colab": {
          "base_uri": "https://localhost:8080/"
        },
        "id": "CTRCKtTB4KUt",
        "outputId": "329bc79c-f12e-4c04-e3f4-d7500d03749e"
      },
      "execution_count": 111,
      "outputs": [
        {
          "output_type": "stream",
          "name": "stdout",
          "text": [
            "0.2799132133829857\n",
            "0.678851653310649 0.12491610784745295\n"
          ]
        }
      ]
    },
    {
      "cell_type": "code",
      "source": [
        "x1 = np.array(pd.read_csv(path+f'{6}_pos_ecoflex_181226_data.csv'))[:,:10] # fractional derivatives\n",
        "y1 = np.array(pd.read_csv(path+f'{6}_force_ecoflex_181226_data.csv'))\n",
        "rf = RandomForestRegressor()\n",
        "rf.fit(x1,y1)\n",
        "\n",
        "error = []\n",
        "array = np.array(d[4])+1\n",
        "for i in array:\n",
        "    x2 = np.array(pd.read_csv(path+f'{i}_pos_ecoflex_181226_data.csv'))[:,:10] # fractional derivatives\n",
        "    y1 = np.array(pd.read_csv(path+f'{i}_force_ecoflex_181226_data.csv'))\n",
        "    y_pred = rf.predict(x2)\n",
        "    statement = f'For point: {i}, Error: {mean_squared_error(y_pred, y1)**0.5}\\n'\n",
        "    #print(f'For point: {i}, Error: {mean_squared_error(y_pred, y1)**0.5}')\n",
        "    error.append(mean_squared_error(y_pred, y1)**0.5)\n",
        "    with open('cluster.txt','a') as f:\n",
        "        f.write(statement)\n",
        "print(sum(error)/len(error))\n",
        "print(max(error), min(error))\n",
        "total += error"
      ],
      "metadata": {
        "colab": {
          "base_uri": "https://localhost:8080/"
        },
        "id": "VcxeVCiI5Zz-",
        "outputId": "21b2d1b4-48b8-4304-db9a-d20394544767"
      },
      "execution_count": 112,
      "outputs": [
        {
          "output_type": "stream",
          "name": "stdout",
          "text": [
            "0.32240491072601973\n",
            "0.5714705644654806 0.21299020866083143\n"
          ]
        }
      ]
    },
    {
      "cell_type": "code",
      "source": [
        "print('Mean:', np.mean(np.array(total)))\n",
        "print('Std:', np.std(np.array(total)))"
      ],
      "metadata": {
        "colab": {
          "base_uri": "https://localhost:8080/"
        },
        "id": "NfVPsB935Z2M",
        "outputId": "f6fba9bd-cc04-4f3c-bc8b-ef2f9fa95d35"
      },
      "execution_count": 113,
      "outputs": [
        {
          "output_type": "stream",
          "name": "stdout",
          "text": [
            "Mean: 0.27641508190251696\n",
            "Std: 0.11010387384504783\n"
          ]
        }
      ]
    },
    {
      "cell_type": "code",
      "source": [
        "max(total)"
      ],
      "metadata": {
        "colab": {
          "base_uri": "https://localhost:8080/"
        },
        "id": "04gm6f4k5z9C",
        "outputId": "176cad37-8ba2-4f26-aafc-3af40c17db17"
      },
      "execution_count": 114,
      "outputs": [
        {
          "output_type": "execute_result",
          "data": {
            "text/plain": [
              "0.678851653310649"
            ]
          },
          "metadata": {},
          "execution_count": 114
        }
      ]
    },
    {
      "cell_type": "code",
      "source": [],
      "metadata": {
        "id": "sUYuY6_rBLhA"
      },
      "execution_count": null,
      "outputs": []
    }
  ],
  "metadata": {
    "colab": {
      "provenance": [],
      "collapsed_sections": [
        "HfwZrWmClg6r",
        "0gXdJIWRKA6l"
      ]
    },
    "kernelspec": {
      "display_name": "Python 3",
      "language": "python",
      "name": "python3"
    },
    "language_info": {
      "codemirror_mode": {
        "name": "ipython",
        "version": 3
      },
      "file_extension": ".py",
      "mimetype": "text/x-python",
      "name": "python",
      "nbconvert_exporter": "python",
      "pygments_lexer": "ipython3",
      "version": "3.7.4"
    }
  },
  "nbformat": 4,
  "nbformat_minor": 0
}