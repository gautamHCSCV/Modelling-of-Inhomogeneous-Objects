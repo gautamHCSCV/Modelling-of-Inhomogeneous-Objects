{
  "cells": [
    {
      "cell_type": "code",
      "source": [
        "!pip install catboost"
      ],
      "metadata": {
        "id": "LnsEmHULy0sz",
        "colab": {
          "base_uri": "https://localhost:8080/"
        },
        "outputId": "23e6be21-b2e7-47d4-aea8-3cc1f84852a8"
      },
      "execution_count": 1,
      "outputs": [
        {
          "output_type": "stream",
          "name": "stdout",
          "text": [
            "Looking in indexes: https://pypi.org/simple, https://us-python.pkg.dev/colab-wheels/public/simple/\n",
            "Collecting catboost\n",
            "  Downloading catboost-1.2-cp310-cp310-manylinux2014_x86_64.whl (98.6 MB)\n",
            "\u001b[2K     \u001b[90m━━━━━━━━━━━━━━━━━━━━━━━━━━━━━━━━━━━━━━━━\u001b[0m \u001b[32m98.6/98.6 MB\u001b[0m \u001b[31m8.5 MB/s\u001b[0m eta \u001b[36m0:00:00\u001b[0m\n",
            "\u001b[?25hRequirement already satisfied: graphviz in /usr/local/lib/python3.10/dist-packages (from catboost) (0.20.1)\n",
            "Requirement already satisfied: matplotlib in /usr/local/lib/python3.10/dist-packages (from catboost) (3.7.1)\n",
            "Requirement already satisfied: numpy>=1.16.0 in /usr/local/lib/python3.10/dist-packages (from catboost) (1.22.4)\n",
            "Requirement already satisfied: pandas>=0.24 in /usr/local/lib/python3.10/dist-packages (from catboost) (1.5.3)\n",
            "Requirement already satisfied: scipy in /usr/local/lib/python3.10/dist-packages (from catboost) (1.10.1)\n",
            "Requirement already satisfied: plotly in /usr/local/lib/python3.10/dist-packages (from catboost) (5.13.1)\n",
            "Requirement already satisfied: six in /usr/local/lib/python3.10/dist-packages (from catboost) (1.16.0)\n",
            "Requirement already satisfied: python-dateutil>=2.8.1 in /usr/local/lib/python3.10/dist-packages (from pandas>=0.24->catboost) (2.8.2)\n",
            "Requirement already satisfied: pytz>=2020.1 in /usr/local/lib/python3.10/dist-packages (from pandas>=0.24->catboost) (2022.7.1)\n",
            "Requirement already satisfied: contourpy>=1.0.1 in /usr/local/lib/python3.10/dist-packages (from matplotlib->catboost) (1.0.7)\n",
            "Requirement already satisfied: cycler>=0.10 in /usr/local/lib/python3.10/dist-packages (from matplotlib->catboost) (0.11.0)\n",
            "Requirement already satisfied: fonttools>=4.22.0 in /usr/local/lib/python3.10/dist-packages (from matplotlib->catboost) (4.39.3)\n",
            "Requirement already satisfied: kiwisolver>=1.0.1 in /usr/local/lib/python3.10/dist-packages (from matplotlib->catboost) (1.4.4)\n",
            "Requirement already satisfied: packaging>=20.0 in /usr/local/lib/python3.10/dist-packages (from matplotlib->catboost) (23.1)\n",
            "Requirement already satisfied: pillow>=6.2.0 in /usr/local/lib/python3.10/dist-packages (from matplotlib->catboost) (8.4.0)\n",
            "Requirement already satisfied: pyparsing>=2.3.1 in /usr/local/lib/python3.10/dist-packages (from matplotlib->catboost) (3.0.9)\n",
            "Requirement already satisfied: tenacity>=6.2.0 in /usr/local/lib/python3.10/dist-packages (from plotly->catboost) (8.2.2)\n",
            "Installing collected packages: catboost\n",
            "Successfully installed catboost-1.2\n"
          ]
        }
      ]
    },
    {
      "cell_type": "code",
      "execution_count": 2,
      "metadata": {
        "id": "-VjuA1WW4ond"
      },
      "outputs": [],
      "source": [
        "import pandas as pd\n",
        "import numpy as np\n",
        "import os\n",
        "import csv\n",
        "from datetime import datetime\n",
        "from catboost import CatBoostRegressor\n",
        "import matplotlib.pyplot as plt\n",
        "from sklearn.ensemble import RandomForestRegressor\n",
        "from sklearn.linear_model import LinearRegression\n",
        "from sklearn.metrics import mean_squared_error\n",
        "from sklearn.model_selection import train_test_split\n",
        "\n",
        "import warnings\n",
        "warnings.filterwarnings('ignore')"
      ]
    },
    {
      "cell_type": "code",
      "execution_count": 3,
      "metadata": {
        "colab": {
          "base_uri": "https://localhost:8080/"
        },
        "id": "yUMtK4IG4pAT",
        "outputId": "e88ac8c5-6835-406f-a828-1892752ff909"
      },
      "outputs": [
        {
          "output_type": "stream",
          "name": "stdout",
          "text": [
            "Mounted at /content/drive\n"
          ]
        }
      ],
      "source": [
        "from google.colab import drive\n",
        "drive.mount('/content/drive')"
      ]
    },
    {
      "cell_type": "markdown",
      "metadata": {
        "id": "HfwZrWmClg6r"
      },
      "source": [
        "# Models Estimation"
      ]
    },
    {
      "cell_type": "code",
      "source": [
        "path = '/content/drive/MyDrive/Virtual env/z_inhomogenous_modeling/silicon_pad_all_data/'\n",
        "print(len(sorted(os.listdir(path))))\n",
        "rnd_idx = np.array([2,10,25,40,48,59,73,79,85,88,101,110,125,128,132,139,144,148,167,174,189])\n",
        "len(rnd_idx)"
      ],
      "metadata": {
        "id": "3SE2Bftc-VrO",
        "colab": {
          "base_uri": "https://localhost:8080/"
        },
        "outputId": "c3d0ad3e-119e-4e28-fcb5-c5e7aa85220f"
      },
      "execution_count": 54,
      "outputs": [
        {
          "output_type": "stream",
          "name": "stdout",
          "text": [
            "800\n"
          ]
        },
        {
          "output_type": "execute_result",
          "data": {
            "text/plain": [
              "21"
            ]
          },
          "metadata": {},
          "execution_count": 54
        }
      ]
    },
    {
      "cell_type": "code",
      "source": [
        "y = np.array(pd.read_csv(path+f'{rnd_idx[0]}_percep_force_silicon_pad_data.csv'))\n",
        "x = np.array(pd.read_csv(path+f'{rnd_idx[0]}_percep_pos_silicon_pad_data.csv'))\n",
        "l = len(y)\n",
        "x.shape, y.shape"
      ],
      "metadata": {
        "colab": {
          "base_uri": "https://localhost:8080/"
        },
        "id": "eKB3r3w-wiM2",
        "outputId": "d40cb133-653a-4ba5-9cac-4329774ee4d5"
      },
      "execution_count": 55,
      "outputs": [
        {
          "output_type": "execute_result",
          "data": {
            "text/plain": [
              "((872, 12), (872, 1))"
            ]
          },
          "metadata": {},
          "execution_count": 55
        }
      ]
    },
    {
      "cell_type": "code",
      "source": [
        "for i in range(len(rnd_idx)-1):\n",
        "    x1 = np.array(pd.read_csv(path+f'{rnd_idx[i+1]}_percep_pos_silicon_pad_data.csv')) # fractional derivatives\n",
        "    y1 = np.array(pd.read_csv(path+f'{rnd_idx[i+1]}_percep_force_silicon_pad_data.csv'))\n",
        "\n",
        "    x = np.concatenate([x,x1])\n",
        "    y = np.concatenate([y,y1])\n",
        "print(x.shape, y.shape)"
      ],
      "metadata": {
        "id": "z-q47w4rwpf3",
        "colab": {
          "base_uri": "https://localhost:8080/"
        },
        "outputId": "495993a7-f5de-48e5-dcef-c2ad6ad4134b"
      },
      "execution_count": 56,
      "outputs": [
        {
          "output_type": "stream",
          "name": "stdout",
          "text": [
            "(18661, 12) (18661, 1)\n"
          ]
        }
      ]
    },
    {
      "cell_type": "code",
      "source": [
        "y_test = np.array(pd.read_csv(path+f'{rnd_idx[3]-2}_force_silicon_pad_data.csv'))\n",
        "x_test = np.array(pd.read_csv(path+f'{rnd_idx[3]-2}_pos_silicon_pad_data.csv'))\n",
        "\n",
        "x_test.shape, y_test.shape"
      ],
      "metadata": {
        "colab": {
          "base_uri": "https://localhost:8080/"
        },
        "id": "woaRyu8FyM_T",
        "outputId": "9f7664a0-bad4-4c2d-f2c0-dda7c8d73380"
      },
      "execution_count": 57,
      "outputs": [
        {
          "output_type": "execute_result",
          "data": {
            "text/plain": [
              "((34488, 12), (34488, 1))"
            ]
          },
          "metadata": {},
          "execution_count": 57
        }
      ]
    },
    {
      "cell_type": "code",
      "source": [
        "for i in range(len(rnd_idx)//2):\n",
        "    x1 = np.array(pd.read_csv(path+f'{rnd_idx[i+1]-1}_pos_silicon_pad_data.csv')) # fractional derivatives\n",
        "    y1 = np.array(pd.read_csv(path+f'{rnd_idx[i+1]-1}_force_silicon_pad_data.csv'))\n",
        "    x_test = np.concatenate([x_test,x1])\n",
        "    y_test = np.concatenate([y_test,y1])\n",
        "print(x_test.shape, y_test.shape)"
      ],
      "metadata": {
        "colab": {
          "base_uri": "https://localhost:8080/"
        },
        "id": "OavWzOwSyNBw",
        "outputId": "f4fd5c3f-6406-489c-ec19-91342b2b4bd1"
      },
      "execution_count": 58,
      "outputs": [
        {
          "output_type": "stream",
          "name": "stdout",
          "text": [
            "(379380, 12) (379380, 1)\n"
          ]
        }
      ]
    },
    {
      "cell_type": "code",
      "source": [
        "cat = CatBoostRegressor()\n",
        "t1 = datetime.now()\n",
        "cat.fit(x,y)\n",
        "t2 = datetime.now()\n",
        "y_pred = cat.predict(x_test)"
      ],
      "metadata": {
        "id": "pVVu1cjHx51p"
      },
      "execution_count": null,
      "outputs": []
    },
    {
      "cell_type": "code",
      "source": [
        "print('RMSE:', mean_squared_error(y_pred, y_test)**0.5)\n",
        "print(t2-t1)"
      ],
      "metadata": {
        "colab": {
          "base_uri": "https://localhost:8080/"
        },
        "id": "NcH_bfoAyvCS",
        "outputId": "407c50e8-946b-4aa3-9ff1-1509751e361f"
      },
      "execution_count": 60,
      "outputs": [
        {
          "output_type": "stream",
          "name": "stdout",
          "text": [
            "RMSE: 0.09952145418871156\n",
            "0:00:06.446069\n"
          ]
        }
      ]
    },
    {
      "cell_type": "code",
      "source": [
        "error = []\n",
        "for i in range(1,201):\n",
        "    x1 = np.array(pd.read_csv(path+f'{i}_pos_silicon_pad_data.csv')) # fractional derivatives\n",
        "    y1 = np.array(pd.read_csv(path+f'{i}_force_silicon_pad_data.csv'))\n",
        "    y_pred = cat.predict(x1)\n",
        "    statement = f'For point: {i}, Error: {mean_squared_error(y_pred, y1)**0.5}\\n'\n",
        "    #print(f'For point: {i}, Error: {mean_squared_error(y_pred, y1)**0.5}')\n",
        "    error.append(mean_squared_error(y_pred, y1)**0.5)\n",
        "    with open('results_catboost.txt','a') as f:\n",
        "        f.write(statement)\n",
        "print(sum(error)/len(error))"
      ],
      "metadata": {
        "colab": {
          "base_uri": "https://localhost:8080/"
        },
        "id": "lpzYYSgDLFuA",
        "outputId": "a8023901-f155-467a-9643-a672cd952e96"
      },
      "execution_count": 64,
      "outputs": [
        {
          "output_type": "stream",
          "name": "stdout",
          "text": [
            "0.12500280431555594\n"
          ]
        }
      ]
    },
    {
      "cell_type": "code",
      "source": [
        "print(np.std(np.array(error)))\n",
        "max(error), min(error)"
      ],
      "metadata": {
        "id": "0xBBbM0jzTur",
        "colab": {
          "base_uri": "https://localhost:8080/"
        },
        "outputId": "ec803458-8d30-4429-e79d-5fa4469cce9d"
      },
      "execution_count": 65,
      "outputs": [
        {
          "output_type": "stream",
          "name": "stdout",
          "text": [
            "0.07549028233586641\n"
          ]
        },
        {
          "output_type": "execute_result",
          "data": {
            "text/plain": [
              "(0.42694936506663106, 0.04986136517404884)"
            ]
          },
          "metadata": {},
          "execution_count": 65
        }
      ]
    },
    {
      "cell_type": "code",
      "source": [
        "for i in range(5):\n",
        "    val = sorted(error)[::-1][i]\n",
        "    print(val, 'at', error.index(val)+1)\n"
      ],
      "metadata": {
        "colab": {
          "base_uri": "https://localhost:8080/"
        },
        "id": "ZRKffNN52MAN",
        "outputId": "b4468695-4d91-406f-b8de-e6e101d0d312"
      },
      "execution_count": 66,
      "outputs": [
        {
          "output_type": "stream",
          "name": "stdout",
          "text": [
            "0.42694936506663106 at 149\n",
            "0.3741043460383621 at 20\n",
            "0.34965485450610906 at 127\n",
            "0.34387360988601984 at 116\n",
            "0.3436145898195095 at 29\n"
          ]
        }
      ]
    },
    {
      "cell_type": "code",
      "source": [
        "def graph(i):\n",
        "    x1 = np.array(pd.read_csv(path+f'{i}_pos_silicon_pad_data.csv')) # fractional derivatives\n",
        "    y1 = np.array(pd.read_csv(path+f'{i}_force_silicon_pad_data.csv'))\n",
        "    y_pred = cat.predict(x1)\n",
        "    plt.plot(range(len(y1)), y1, label = 'actual')\n",
        "    plt.plot(range(len(y1)), y_pred, label = 'predicted')\n",
        "    plt.legend()\n",
        "    plt.title(f'Point {i}')\n",
        "    plt.show()\n",
        "\n",
        "graph(199)"
      ],
      "metadata": {
        "colab": {
          "base_uri": "https://localhost:8080/",
          "height": 452
        },
        "id": "xa-0y5r__5sP",
        "outputId": "6a3198e5-765c-463f-9ae6-f8d76f90d93e"
      },
      "execution_count": 14,
      "outputs": [
        {
          "output_type": "display_data",
          "data": {
            "text/plain": [
              "<Figure size 640x480 with 1 Axes>"
            ],
            "image/png": "[encoded data removed]"
          },
          "metadata": {}
        }
      ]
    },
    {
      "cell_type": "markdown",
      "source": [
        "# Random Forest"
      ],
      "metadata": {
        "id": "0gXdJIWRKA6l"
      }
    },
    {
      "cell_type": "code",
      "source": [
        "rf = RandomForestRegressor()\n",
        "t1 = datetime.now()\n",
        "rf.fit(x,y)\n",
        "t2 = datetime.now()\n",
        "y_pred = rf.predict(x_test)\n",
        "print('RMSE:', mean_squared_error(y_pred, y_test)**0.5)\n",
        "print(t2-t1)"
      ],
      "metadata": {
        "id": "-0OcdXoEA55i",
        "colab": {
          "base_uri": "https://localhost:8080/"
        },
        "outputId": "4367df2e-f86f-4283-d862-363bcb2f1bf9"
      },
      "execution_count": 28,
      "outputs": [
        {
          "output_type": "stream",
          "name": "stdout",
          "text": [
            "RMSE: 0.10514926104888814\n",
            "0:00:27.478379\n"
          ]
        }
      ]
    },
    {
      "cell_type": "code",
      "source": [
        "error = []\n",
        "for i in range(1,201):\n",
        "    x1 = np.array(pd.read_csv(path+f'{i}_pos_silicon_pad_data.csv')) # fractional derivatives\n",
        "    y1 = np.array(pd.read_csv(path+f'{i}_force_silicon_pad_data.csv'))\n",
        "    y_pred = rf.predict(x1)\n",
        "    statement = f'For point: {i}, Error: {mean_squared_error(y_pred, y1)**0.5}\\n'\n",
        "    #print(f'For point: {i}, Error: {mean_squared_error(y_pred, y1)**0.5}')\n",
        "    error.append(mean_squared_error(y_pred, y1)**0.5)\n",
        "    with open('results_RF.txt','a') as f:\n",
        "        f.write(statement)\n",
        "print(sum(error)/len(error))"
      ],
      "metadata": {
        "id": "pMivG2eKKY2E",
        "colab": {
          "base_uri": "https://localhost:8080/"
        },
        "outputId": "789ad600-c21c-47f0-f6d3-d497aa4a4b23"
      },
      "execution_count": 29,
      "outputs": [
        {
          "output_type": "stream",
          "name": "stdout",
          "text": [
            "0.13371617356335128\n"
          ]
        }
      ]
    },
    {
      "cell_type": "code",
      "source": [
        "print(sum(error)/len(error))\n",
        "print(np.std(np.array(error)))\n",
        "max(error), min(error)"
      ],
      "metadata": {
        "colab": {
          "base_uri": "https://localhost:8080/"
        },
        "id": "RNQrP6M7T8jm",
        "outputId": "e9d56212-10fe-4334-85b3-2f228482c46d"
      },
      "execution_count": 30,
      "outputs": [
        {
          "output_type": "stream",
          "name": "stdout",
          "text": [
            "0.13371617356335128\n",
            "0.07897814785819778\n"
          ]
        },
        {
          "output_type": "execute_result",
          "data": {
            "text/plain": [
              "(0.5007825904504905, 0.05752255642067074)"
            ]
          },
          "metadata": {},
          "execution_count": 30
        }
      ]
    },
    {
      "cell_type": "markdown",
      "source": [
        "# Clusterring"
      ],
      "metadata": {
        "id": "TyU4CyhV3xL4"
      }
    },
    {
      "cell_type": "code",
      "source": [
        "path2 = '/content/drive/MyDrive/Virtual env/z_inhomogenous_modeling/'\n",
        "arr = np.array(pd.read_csv(path2+'x_y_silicon_pad.csv', names = ['x','y']))\n",
        "print(arr.shape)\n",
        "arr[:5]"
      ],
      "metadata": {
        "id": "ngt4QjtmT_9l",
        "colab": {
          "base_uri": "https://localhost:8080/"
        },
        "outputId": "39efce84-7380-4bbc-d89e-3f039fd64a11"
      },
      "execution_count": 31,
      "outputs": [
        {
          "output_type": "stream",
          "name": "stdout",
          "text": [
            "(200, 2)\n"
          ]
        },
        {
          "output_type": "execute_result",
          "data": {
            "text/plain": [
              "array([[ -0.427,  -9.475],\n",
              "       [ -0.475,   8.082],\n",
              "       [ -0.583,   0.632],\n",
              "       [ -0.859,  -1.168],\n",
              "       [ -1.187, -10.809]])"
            ]
          },
          "metadata": {},
          "execution_count": 31
        }
      ]
    },
    {
      "cell_type": "code",
      "source": [
        "from sklearn.cluster import KMeans\n",
        "k_values = range(1, 11)\n",
        "\n",
        "# Perform k-means clustering for each k value\n",
        "inertia_values = []\n",
        "for k in k_values:\n",
        "    kmeans = KMeans(n_clusters=k)\n",
        "    kmeans.fit(arr)\n",
        "    inertia_values.append(kmeans.inertia_)\n",
        "\n",
        "# Plot the inertia values against the number of clusters\n",
        "plt.plot(k_values, inertia_values, 'bx-')\n",
        "plt.xlabel('Number of Clusters (k)')\n",
        "plt.ylabel('Inertia')\n",
        "plt.title('Elbow Method for Optimal k')\n",
        "plt.show()"
      ],
      "metadata": {
        "colab": {
          "base_uri": "https://localhost:8080/",
          "height": 472
        },
        "id": "wxxJwgwj4KM2",
        "outputId": "1f9ad230-4759-41ab-db5c-26530db1f08f"
      },
      "execution_count": 32,
      "outputs": [
        {
          "output_type": "display_data",
          "data": {
            "text/plain": [
              "<Figure size 640x480 with 1 Axes>"
            ],
            "image/png": "[encoded data removed]"
          },
          "metadata": {}
        }
      ]
    },
    {
      "cell_type": "code",
      "source": [
        "kmeans = KMeans(n_clusters=5)\n",
        "kmeans.fit(arr)\n",
        "kmeans.cluster_centers_"
      ],
      "metadata": {
        "colab": {
          "base_uri": "https://localhost:8080/"
        },
        "id": "BQ1BKQVJ4XRq",
        "outputId": "295bdb3c-692c-4a39-fbf1-dbc9f6fc3fea"
      },
      "execution_count": 33,
      "outputs": [
        {
          "output_type": "execute_result",
          "data": {
            "text/plain": [
              "array([[ -8.6122963 ,   9.47033333],\n",
              "       [  8.65875   , -13.7076875 ],\n",
              "       [  6.1935122 ,  14.12065854],\n",
              "       [ -8.30161111, -11.42472222],\n",
              "       [  7.37216216,  -0.4852973 ]])"
            ]
          },
          "metadata": {},
          "execution_count": 33
        }
      ]
    },
    {
      "cell_type": "code",
      "source": [
        "from collections import defaultdict\n",
        "d = defaultdict(lambda: [])\n",
        "for i in range(200):\n",
        "    label = kmeans.predict([arr[i]])[0]\n",
        "    d[label].append(i)\n",
        "\n",
        "for i in range(5):\n",
        "    print(d[i])"
      ],
      "metadata": {
        "colab": {
          "base_uri": "https://localhost:8080/"
        },
        "id": "U04pdeMO4KPR",
        "outputId": "9e79f0f6-f5d6-4d7a-f44e-b4a690516f0a"
      },
      "execution_count": 34,
      "outputs": [
        {
          "output_type": "stream",
          "name": "stdout",
          "text": [
            "[1, 5, 9, 11, 14, 15, 16, 19, 22, 23, 24, 25, 30, 32, 33, 35, 37, 38, 39, 41, 42, 43, 46, 50, 51, 53, 54, 55, 56, 57, 58, 60, 62, 65, 68, 69, 70, 71, 72, 74, 75, 77, 78, 79, 81, 82, 83, 84, 86, 88, 89, 90, 91, 93]\n",
            "[97, 100, 113, 116, 119, 122, 125, 127, 130, 133, 137, 138, 141, 142, 145, 149, 151, 158, 164, 166, 168, 170, 173, 175, 177, 180, 184, 185, 187, 193, 195, 198]\n",
            "[7, 8, 52, 95, 98, 99, 102, 103, 105, 106, 107, 110, 111, 112, 115, 120, 121, 124, 126, 128, 129, 132, 136, 143, 147, 148, 150, 152, 154, 160, 161, 162, 167, 178, 179, 183, 186, 191, 192, 196, 199]\n",
            "[0, 4, 6, 10, 12, 13, 17, 18, 20, 21, 26, 27, 28, 29, 31, 34, 36, 40, 44, 45, 47, 48, 49, 59, 61, 63, 64, 66, 67, 73, 76, 80, 85, 87, 92, 96]\n",
            "[2, 3, 94, 101, 104, 108, 109, 114, 117, 118, 123, 131, 134, 135, 139, 140, 144, 146, 153, 155, 156, 157, 159, 163, 165, 169, 171, 172, 174, 176, 181, 182, 188, 189, 190, 194, 197]\n"
          ]
        }
      ]
    },
    {
      "cell_type": "code",
      "source": [
        "from scipy.linalg import norm\n",
        "\n",
        "def dist(i):\n",
        "    at = -1\n",
        "    mini = 10\n",
        "    for j in range(len(d[i])):\n",
        "        dis = ((arr[d[i][j]][0]- kmeans.cluster_centers_[i][0])**2 + (arr[d[i][j]][1]- kmeans.cluster_centers_[i][1])**2)**0.5\n",
        "        if dis <mini:\n",
        "            mini = dis\n",
        "            at = j\n",
        "    print(f'{d[i][at]+1} is the master node of {i}th cluster')\n",
        "    print(arr[d[i][at]], kmeans.cluster_centers_[i],'\\n')\n",
        "for i in range(5):\n",
        "    dist(i)"
      ],
      "metadata": {
        "colab": {
          "base_uri": "https://localhost:8080/"
        },
        "id": "-S5y9A2S4b0d",
        "outputId": "c557f658-2188-403a-fdb4-4291b9f7e75a"
      },
      "execution_count": 35,
      "outputs": [
        {
          "output_type": "stream",
          "name": "stdout",
          "text": [
            "10 is the master node of 0th cluster\n",
            "[-10.231   9.415] [-8.6122963   9.47033333] \n",
            "\n",
            "196 is the master node of 1th cluster\n",
            "[  8.905 -11.94 ] [  8.65875   -13.7076875] \n",
            "\n",
            "168 is the master node of 2th cluster\n",
            "[ 5.789 14.423] [ 6.1935122  14.12065854] \n",
            "\n",
            "88 is the master node of 3th cluster\n",
            "[ -9.235 -11.41 ] [ -8.30161111 -11.42472222] \n",
            "\n",
            "189 is the master node of 4th cluster\n",
            "[7.99  0.432] [ 7.37216216 -0.4852973 ] \n",
            "\n"
          ]
        }
      ]
    },
    {
      "cell_type": "code",
      "source": [
        "x1 = np.array(pd.read_csv(path+f'{10}_pos_silicon_pad_data.csv'))[:,:10] # fractional derivatives\n",
        "y1 = np.array(pd.read_csv(path+f'{10}_force_silicon_pad_data.csv'))\n",
        "rf = RandomForestRegressor()\n",
        "rf.fit(x1,y1)\n",
        "\n",
        "error = []\n",
        "array = np.array(d[0])+1\n",
        "for i in array:\n",
        "    x2 = np.array(pd.read_csv(path+f'{i}_pos_silicon_pad_data.csv'))[:,:10] # fractional derivatives\n",
        "    y1 = np.array(pd.read_csv(path+f'{i}_force_silicon_pad_data.csv'))\n",
        "    y_pred = rf.predict(x2)\n",
        "    statement = f'For point: {i}, Error: {mean_squared_error(y_pred, y1)**0.5}\\n'\n",
        "    #print(f'For point: {i}, Error: {mean_squared_error(y_pred, y1)**0.5}')\n",
        "    error.append(mean_squared_error(y_pred, y1)**0.5)\n",
        "    with open('cluster.txt','a') as f:\n",
        "        f.write(statement)\n",
        "print(sum(error)/len(error))\n",
        "print(max(error), min(error))\n",
        "total = error"
      ],
      "metadata": {
        "colab": {
          "base_uri": "https://localhost:8080/"
        },
        "id": "gY_lKWwM4b2u",
        "outputId": "db3c5d53-7902-4c50-b2de-968df0a1dddf"
      },
      "execution_count": 36,
      "outputs": [
        {
          "output_type": "stream",
          "name": "stdout",
          "text": [
            "0.18916528445452746\n",
            "0.37279006505693363 0.01659050799701343\n"
          ]
        }
      ]
    },
    {
      "cell_type": "code",
      "source": [
        "x1 = np.array(pd.read_csv(path+f'{196}_pos_silicon_pad_data.csv'))[:,:10] # fractional derivatives\n",
        "y1 = np.array(pd.read_csv(path+f'{196}_force_silicon_pad_data.csv'))\n",
        "rf = RandomForestRegressor()\n",
        "rf.fit(x1,y1)\n",
        "\n",
        "error = []\n",
        "array = np.array(d[1])+1\n",
        "for i in array:\n",
        "    x2 = np.array(pd.read_csv(path+f'{i}_pos_silicon_pad_data.csv'))[:,:10] # fractional derivatives\n",
        "    y1 = np.array(pd.read_csv(path+f'{i}_force_silicon_pad_data.csv'))\n",
        "    y_pred = rf.predict(x2)\n",
        "    statement = f'For point: {i}, Error: {mean_squared_error(y_pred, y1)**0.5}\\n'\n",
        "    #print(f'For point: {i}, Error: {mean_squared_error(y_pred, y1)**0.5}')\n",
        "    error.append(mean_squared_error(y_pred, y1)**0.5)\n",
        "    with open('cluster.txt','a') as f:\n",
        "        f.write(statement)\n",
        "print(sum(error)/len(error))\n",
        "print(max(error), min(error))\n",
        "total += error"
      ],
      "metadata": {
        "colab": {
          "base_uri": "https://localhost:8080/"
        },
        "id": "TqGYQ6pR5P1l",
        "outputId": "48c4dd79-47fd-4bb1-c33f-52ff3bef6d73"
      },
      "execution_count": 37,
      "outputs": [
        {
          "output_type": "stream",
          "name": "stdout",
          "text": [
            "0.08251595601889383\n",
            "0.21063656609222672 0.01433658964882802\n"
          ]
        }
      ]
    },
    {
      "cell_type": "code",
      "source": [
        "x1 = np.array(pd.read_csv(path+f'{168}_pos_silicon_pad_data.csv'))[:,:10] # fractional derivatives\n",
        "y1 = np.array(pd.read_csv(path+f'{168}_force_silicon_pad_data.csv'))\n",
        "rf = RandomForestRegressor()\n",
        "rf.fit(x1,y1)\n",
        "\n",
        "error = []\n",
        "array = np.array(d[2])+1\n",
        "for i in array:\n",
        "    x2 = np.array(pd.read_csv(path+f'{i}_pos_silicon_pad_data.csv'))[:,:10] # fractional derivatives\n",
        "    y1 = np.array(pd.read_csv(path+f'{i}_force_silicon_pad_data.csv'))\n",
        "    y_pred = rf.predict(x2)\n",
        "    statement = f'For point: {i}, Error: {mean_squared_error(y_pred, y1)**0.5}\\n'\n",
        "    #print(f'For point: {i}, Error: {mean_squared_error(y_pred, y1)**0.5}')\n",
        "    error.append(mean_squared_error(y_pred, y1)**0.5)\n",
        "    with open('cluster.txt','a') as f:\n",
        "        f.write(statement)\n",
        "print(sum(error)/len(error))\n",
        "print(max(error), min(error))\n",
        "total += error"
      ],
      "metadata": {
        "colab": {
          "base_uri": "https://localhost:8080/"
        },
        "id": "4vjuK1055P33",
        "outputId": "e8bd2c4e-eabb-4855-9808-0cec620e3b66"
      },
      "execution_count": 38,
      "outputs": [
        {
          "output_type": "stream",
          "name": "stdout",
          "text": [
            "0.16352512901440325\n",
            "0.6721373227986831 0.013572488582218429\n"
          ]
        }
      ]
    },
    {
      "cell_type": "code",
      "source": [
        "x1 = np.array(pd.read_csv(path+f'{88}_pos_silicon_pad_data.csv'))[:,:10] # fractional derivatives\n",
        "y1 = np.array(pd.read_csv(path+f'{88}_force_silicon_pad_data.csv'))\n",
        "rf = RandomForestRegressor()\n",
        "rf.fit(x1,y1)\n",
        "\n",
        "error = []\n",
        "array = np.array(d[3])+1\n",
        "for i in array:\n",
        "    x2 = np.array(pd.read_csv(path+f'{i}_pos_silicon_pad_data.csv'))[:,:10] # fractional derivatives\n",
        "    y1 = np.array(pd.read_csv(path+f'{i}_force_silicon_pad_data.csv'))\n",
        "    y_pred = rf.predict(x2)\n",
        "    statement = f'For point: {i}, Error: {mean_squared_error(y_pred, y1)**0.5}\\n'\n",
        "    #print(f'For point: {i}, Error: {mean_squared_error(y_pred, y1)**0.5}')\n",
        "    error.append(mean_squared_error(y_pred, y1)**0.5)\n",
        "    with open('cluster.txt','a') as f:\n",
        "        f.write(statement)\n",
        "print(sum(error)/len(error))\n",
        "print(max(error), min(error))\n",
        "total+= error"
      ],
      "metadata": {
        "colab": {
          "base_uri": "https://localhost:8080/"
        },
        "id": "CTRCKtTB4KUt",
        "outputId": "876d5871-9d42-4899-ae88-fe0423517c0f"
      },
      "execution_count": 39,
      "outputs": [
        {
          "output_type": "stream",
          "name": "stdout",
          "text": [
            "0.15337753069694432\n",
            "0.35450743075622154 0.015228832459074878\n"
          ]
        }
      ]
    },
    {
      "cell_type": "code",
      "source": [
        "x1 = np.array(pd.read_csv(path+f'{189}_pos_silicon_pad_data.csv'))[:,:10] # fractional derivatives\n",
        "y1 = np.array(pd.read_csv(path+f'{189}_force_silicon_pad_data.csv'))\n",
        "rf = RandomForestRegressor()\n",
        "rf.fit(x1,y1)\n",
        "\n",
        "error = []\n",
        "array = np.array(d[4])+1\n",
        "for i in array:\n",
        "    x2 = np.array(pd.read_csv(path+f'{i}_pos_silicon_pad_data.csv'))[:,:10] # fractional derivatives\n",
        "    y1 = np.array(pd.read_csv(path+f'{i}_force_silicon_pad_data.csv'))\n",
        "    y_pred = rf.predict(x2)\n",
        "    statement = f'For point: {i}, Error: {mean_squared_error(y_pred, y1)**0.5}\\n'\n",
        "    #print(f'For point: {i}, Error: {mean_squared_error(y_pred, y1)**0.5}')\n",
        "    error.append(mean_squared_error(y_pred, y1)**0.5)\n",
        "    with open('cluster.txt','a') as f:\n",
        "        f.write(statement)\n",
        "print(sum(error)/len(error))\n",
        "print(max(error), min(error))\n",
        "total += error"
      ],
      "metadata": {
        "colab": {
          "base_uri": "https://localhost:8080/"
        },
        "id": "VcxeVCiI5Zz-",
        "outputId": "12439b6d-3fc7-45f1-dbf7-530f9e8f544e"
      },
      "execution_count": 40,
      "outputs": [
        {
          "output_type": "stream",
          "name": "stdout",
          "text": [
            "0.09063359845012164\n",
            "0.2806794533682995 0.014617109058167693\n"
          ]
        }
      ]
    },
    {
      "cell_type": "code",
      "source": [
        "print('Mean:', np.mean(np.array(total)))\n",
        "print('Std:', np.std(np.array(total)))"
      ],
      "metadata": {
        "colab": {
          "base_uri": "https://localhost:8080/"
        },
        "id": "NfVPsB935Z2M",
        "outputId": "60b9852c-926e-49f0-81ad-dfe0373f567e"
      },
      "execution_count": 41,
      "outputs": [
        {
          "output_type": "stream",
          "name": "stdout",
          "text": [
            "Mean: 0.14217500245242054\n",
            "Std: 0.09279746977378847\n"
          ]
        }
      ]
    },
    {
      "cell_type": "code",
      "source": [
        "max(total)"
      ],
      "metadata": {
        "colab": {
          "base_uri": "https://localhost:8080/"
        },
        "id": "04gm6f4k5z9C",
        "outputId": "3e63ea9b-ba66-4d47-fcb4-5d48fec0c7c4"
      },
      "execution_count": 42,
      "outputs": [
        {
          "output_type": "execute_result",
          "data": {
            "text/plain": [
              "0.6721373227986831"
            ]
          },
          "metadata": {},
          "execution_count": 42
        }
      ]
    },
    {
      "cell_type": "code",
      "source": [],
      "metadata": {
        "id": "sUYuY6_rBLhA"
      },
      "execution_count": null,
      "outputs": []
    }
  ],
  "metadata": {
    "colab": {
      "provenance": []
    },
    "kernelspec": {
      "display_name": "Python 3",
      "language": "python",
      "name": "python3"
    },
    "language_info": {
      "codemirror_mode": {
        "name": "ipython",
        "version": 3
      },
      "file_extension": ".py",
      "mimetype": "text/x-python",
      "name": "python",
      "nbconvert_exporter": "python",
      "pygments_lexer": "ipython3",
      "version": "3.7.4"
    }
  },
  "nbformat": 4,
  "nbformat_minor": 0
}