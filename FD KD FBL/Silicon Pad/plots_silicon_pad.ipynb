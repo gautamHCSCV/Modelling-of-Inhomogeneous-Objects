{
  "cells": [
    {
      "cell_type": "code",
      "source": [
        "!pip install catboost"
      ],
      "metadata": {
        "id": "LnsEmHULy0sz",
        "colab": {
          "base_uri": "https://localhost:8080/"
        },
        "outputId": "b28a1061-92b9-4ae6-9261-6eb2d3491f5a"
      },
      "execution_count": 1,
      "outputs": [
        {
          "output_type": "stream",
          "name": "stdout",
          "text": [
            "Successfully installed catboost-1.2\n"
          ]
        }
      ]
    },
    {
      "cell_type": "code",
      "execution_count": 2,
      "metadata": {
        "id": "-VjuA1WW4ond"
      },
      "outputs": [],
      "source": [
        "import pandas as pd\n",
        "import numpy as np\n",
        "import os\n",
        "import csv\n",
        "from datetime import datetime\n",
        "from catboost import CatBoostRegressor\n",
        "import matplotlib.pyplot as plt\n",
        "from sklearn.ensemble import RandomForestRegressor\n",
        "from sklearn.linear_model import LinearRegression\n",
        "from sklearn.metrics import mean_squared_error\n",
        "from sklearn.model_selection import train_test_split\n",
        "\n",
        "import warnings\n",
        "warnings.filterwarnings('ignore')"
      ]
    },
    {
      "cell_type": "code",
      "execution_count": 3,
      "metadata": {
        "colab": {
          "base_uri": "https://localhost:8080/"
        },
        "id": "yUMtK4IG4pAT",
        "outputId": "f78007b0-f686-41cb-c55d-384355f67f2d"
      },
      "outputs": [
        {
          "output_type": "stream",
          "name": "stdout",
          "text": [
            "Mounted at /content/drive\n"
          ]
        }
      ],
      "source": [
        "from google.colab import drive\n",
        "drive.mount('/content/drive')"
      ]
    },
    {
      "cell_type": "markdown",
      "metadata": {
        "id": "HfwZrWmClg6r"
      },
      "source": [
        "# Models Estimation"
      ]
    },
    {
      "cell_type": "code",
      "source": [
        "path = '/content/drive/MyDrive/Virtual env/z_inhomogenous_modeling/silicon_pad_all_data/'\n",
        "print(len(sorted(os.listdir(path))))\n",
        "rnd_idx = np.array([2,10,25,40,48,59,73,79,85,88,101,110,125,128,132,139,144,148,167,174,189])\n",
        "len(rnd_idx)"
      ],
      "metadata": {
        "id": "3SE2Bftc-VrO",
        "colab": {
          "base_uri": "https://localhost:8080/"
        },
        "outputId": "b04c79ca-c47d-46c8-986a-badf1271b398"
      },
      "execution_count": 4,
      "outputs": [
        {
          "output_type": "stream",
          "name": "stdout",
          "text": [
            "800\n"
          ]
        },
        {
          "output_type": "execute_result",
          "data": {
            "text/plain": [
              "21"
            ]
          },
          "metadata": {},
          "execution_count": 4
        }
      ]
    },
    {
      "cell_type": "code",
      "source": [
        "y = np.array(pd.read_csv(path+f'{rnd_idx[0]}_percep_force_silicon_pad_data.csv'))\n",
        "x = np.array(pd.read_csv(path+f'{rnd_idx[0]}_percep_pos_silicon_pad_data.csv'))\n",
        "l = len(y)\n",
        "x.shape, y.shape"
      ],
      "metadata": {
        "colab": {
          "base_uri": "https://localhost:8080/"
        },
        "id": "eKB3r3w-wiM2",
        "outputId": "ab84c441-08f0-4701-bf45-ac643fe47829"
      },
      "execution_count": 5,
      "outputs": [
        {
          "output_type": "execute_result",
          "data": {
            "text/plain": [
              "((872, 12), (872, 1))"
            ]
          },
          "metadata": {},
          "execution_count": 5
        }
      ]
    },
    {
      "cell_type": "code",
      "source": [
        "for i in range(len(rnd_idx)-1):\n",
        "    x1 = np.array(pd.read_csv(path+f'{rnd_idx[i+1]}_percep_pos_silicon_pad_data.csv')) # fractional derivatives\n",
        "    y1 = np.array(pd.read_csv(path+f'{rnd_idx[i+1]}_percep_force_silicon_pad_data.csv'))\n",
        "\n",
        "    x = np.concatenate([x,x1])\n",
        "    y = np.concatenate([y,y1])\n",
        "print(x.shape, y.shape)"
      ],
      "metadata": {
        "id": "z-q47w4rwpf3",
        "colab": {
          "base_uri": "https://localhost:8080/"
        },
        "outputId": "d63ab0b7-37df-42e8-9a9b-db4743e88267"
      },
      "execution_count": 6,
      "outputs": [
        {
          "output_type": "stream",
          "name": "stdout",
          "text": [
            "(18661, 12) (18661, 1)\n"
          ]
        }
      ]
    },
    {
      "cell_type": "code",
      "source": [
        "y_test = np.array(pd.read_csv(path+f'{rnd_idx[3]-2}_force_silicon_pad_data.csv'))\n",
        "x_test = np.array(pd.read_csv(path+f'{rnd_idx[3]-2}_pos_silicon_pad_data.csv'))\n",
        "\n",
        "x_test.shape, y_test.shape"
      ],
      "metadata": {
        "colab": {
          "base_uri": "https://localhost:8080/"
        },
        "id": "woaRyu8FyM_T",
        "outputId": "e658dabf-7306-48e1-a122-854e2a31167d"
      },
      "execution_count": 7,
      "outputs": [
        {
          "output_type": "execute_result",
          "data": {
            "text/plain": [
              "((34488, 12), (34488, 1))"
            ]
          },
          "metadata": {},
          "execution_count": 7
        }
      ]
    },
    {
      "cell_type": "code",
      "source": [
        "for i in range(len(rnd_idx)//2):\n",
        "    x1 = np.array(pd.read_csv(path+f'{rnd_idx[i+1]-1}_pos_silicon_pad_data.csv')) # fractional derivatives\n",
        "    y1 = np.array(pd.read_csv(path+f'{rnd_idx[i+1]-1}_force_silicon_pad_data.csv'))\n",
        "    x_test = np.concatenate([x_test,x1])\n",
        "    y_test = np.concatenate([y_test,y1])\n",
        "print(x_test.shape, y_test.shape)"
      ],
      "metadata": {
        "colab": {
          "base_uri": "https://localhost:8080/"
        },
        "id": "OavWzOwSyNBw",
        "outputId": "8021f3f4-8a1f-4ac4-f852-6a9667b63e84"
      },
      "execution_count": 8,
      "outputs": [
        {
          "output_type": "stream",
          "name": "stdout",
          "text": [
            "(379380, 12) (379380, 1)\n"
          ]
        }
      ]
    },
    {
      "cell_type": "code",
      "source": [
        "cat = CatBoostRegressor()\n",
        "t1 = datetime.now()\n",
        "cat.fit(x,y)\n",
        "t2 = datetime.now()\n",
        "y_pred = cat.predict(x_test)"
      ],
      "metadata": {
        "id": "pVVu1cjHx51p"
      },
      "execution_count": null,
      "outputs": []
    },
    {
      "cell_type": "code",
      "source": [
        "print('RMSE:', mean_squared_error(y_pred, y_test)**0.5)\n",
        "print(t2-t1)"
      ],
      "metadata": {
        "colab": {
          "base_uri": "https://localhost:8080/"
        },
        "id": "NcH_bfoAyvCS",
        "outputId": "1c98c031-10a5-4556-cbe8-93f581264286"
      },
      "execution_count": 10,
      "outputs": [
        {
          "output_type": "stream",
          "name": "stdout",
          "text": [
            "RMSE: 0.09952145418871156\n",
            "0:00:09.584236\n"
          ]
        }
      ]
    },
    {
      "cell_type": "code",
      "source": [
        "error = []\n",
        "for i in range(1,201):\n",
        "    x1 = np.array(pd.read_csv(path+f'{i}_pos_silicon_pad_data.csv')) # fractional derivatives\n",
        "    y1 = np.array(pd.read_csv(path+f'{i}_force_silicon_pad_data.csv'))\n",
        "    y_pred = cat.predict(x1)\n",
        "    statement = f'For point: {i}, Error: {mean_squared_error(y_pred, y1)**0.5}\\n'\n",
        "    #print(f'For point: {i}, Error: {mean_squared_error(y_pred, y1)**0.5}')\n",
        "    error.append(mean_squared_error(y_pred, y1)**0.5)\n",
        "    with open('results_catboost.txt','a') as f:\n",
        "        f.write(statement)\n",
        "print(sum(error)/len(error))"
      ],
      "metadata": {
        "colab": {
          "base_uri": "https://localhost:8080/"
        },
        "id": "lpzYYSgDLFuA",
        "outputId": "a8023901-f155-467a-9643-a672cd952e96"
      },
      "execution_count": null,
      "outputs": [
        {
          "output_type": "stream",
          "name": "stdout",
          "text": [
            "0.12500280431555594\n"
          ]
        }
      ]
    },
    {
      "cell_type": "code",
      "source": [
        "print(np.std(np.array(error)))\n",
        "max(error), min(error)"
      ],
      "metadata": {
        "id": "0xBBbM0jzTur",
        "colab": {
          "base_uri": "https://localhost:8080/"
        },
        "outputId": "ec803458-8d30-4429-e79d-5fa4469cce9d"
      },
      "execution_count": null,
      "outputs": [
        {
          "output_type": "stream",
          "name": "stdout",
          "text": [
            "0.07549028233586641\n"
          ]
        },
        {
          "output_type": "execute_result",
          "data": {
            "text/plain": [
              "(0.42694936506663106, 0.04986136517404884)"
            ]
          },
          "metadata": {},
          "execution_count": 65
        }
      ]
    },
    {
      "cell_type": "code",
      "source": [
        "for i in range(5):\n",
        "    val = sorted(error)[::-1][i]\n",
        "    print(val, 'at', error.index(val)+1)\n"
      ],
      "metadata": {
        "colab": {
          "base_uri": "https://localhost:8080/"
        },
        "id": "ZRKffNN52MAN",
        "outputId": "b4468695-4d91-406f-b8de-e6e101d0d312"
      },
      "execution_count": null,
      "outputs": [
        {
          "output_type": "stream",
          "name": "stdout",
          "text": [
            "0.42694936506663106 at 149\n",
            "0.3741043460383621 at 20\n",
            "0.34965485450610906 at 127\n",
            "0.34387360988601984 at 116\n",
            "0.3436145898195095 at 29\n"
          ]
        }
      ]
    },
    {
      "cell_type": "code",
      "source": [
        "from matplotlib.pyplot import figure\n",
        "from matplotlib.ticker import MaxNLocator\n",
        "import warnings\n",
        "warnings.filterwarnings('ignore')\n",
        "\n",
        "i = 2\n",
        "x1 = np.array(pd.read_csv(path+f'{i}_pos_silicon_pad_data.csv')) # fractional derivatives\n",
        "y1 = np.array(pd.read_csv(path+f'{i}_force_silicon_pad_data.csv'))\n",
        "y_pred = cat.predict(x1)\n",
        "error_cat = []\n",
        "for j in range(len(y1)-5):\n",
        "    error_cat.append(y1[j,0]-y_pred[j])\n",
        "\n",
        "fig, (ax1, ax2) = plt.subplots(2, 1)\n",
        "fig.set_figheight(5)\n",
        "fig.set_figwidth(7)\n",
        "\n",
        "ax1.plot(np.arange(0,12,0.001),y_test[:12000],label = 'Measured',linewidth=1.0)\n",
        "#ax1.plot(np.arange(0,12,0.001),y1_pred[:12000],label = 'Random Forest',linewidth=0.8)\n",
        "ax1.plot(np.arange(0,12,0.001),y_pred[:12000],label = 'Catboost',linewidth=1.0)\n",
        "ax1.legend(loc = 'upper right')\n",
        "ax1.set_xlim([0, 12])\n",
        "ax1.set_ylim([0, int(max(y_pred[:12000])+2)])\n",
        "ax1.set_ylabel('Force [N]',fontsize=13)\n",
        "#ax1.set_xlabel('Time [s]',fontsize=13)\n",
        "ax1.grid()\n",
        "\n",
        "ax2.plot(np.arange(0,12,0.001),error_cat[:12000],label = 'Catboost',linewidth=0.8)\n",
        "ax2.legend(loc = 'upper right')\n",
        "ax2.set_xlim([0, 12])\n",
        "ax2.set_ylim([-2, 2])\n",
        "ax1.yaxis.set_major_locator(MaxNLocator(integer=True))\n",
        "ax2.set_ylabel('Error [N]',fontsize=13)\n",
        "ax2.set_xlabel('Time [s]',fontsize=13)\n",
        "ax2.grid()\n",
        "\n",
        "plt.savefig(f'obj5_measured_pred_{i}.eps')\n",
        "plt.show()"
      ],
      "metadata": {
        "colab": {
          "base_uri": "https://localhost:8080/",
          "height": 511
        },
        "id": "xa-0y5r__5sP",
        "outputId": "b5162b78-5c1b-4978-fd06-ff9d81fbff1a"
      },
      "execution_count": 21,
      "outputs": [
        {
          "output_type": "stream",
          "name": "stderr",
          "text": [
            "WARNING:matplotlib.backends.backend_ps:The PostScript backend does not support transparency; partially transparent artists will be rendered opaque.\n"
          ]
        },
        {
          "output_type": "display_data",
          "data": {
            "text/plain": [
              "<Figure size 700x500 with 2 Axes>"
            ],
            "image/png": "[encoded data removed]"
          },
          "metadata": {}
        }
      ]
    },
    {
      "cell_type": "markdown",
      "source": [
        "# Random Forest"
      ],
      "metadata": {
        "id": "0gXdJIWRKA6l"
      }
    },
    {
      "cell_type": "code",
      "source": [
        "rf = RandomForestRegressor()\n",
        "t1 = datetime.now()\n",
        "rf.fit(x,y)\n",
        "t2 = datetime.now()\n",
        "y_pred = rf.predict(x_test)\n",
        "print('RMSE:', mean_squared_error(y_pred, y_test)**0.5)\n",
        "print(t2-t1)"
      ],
      "metadata": {
        "id": "-0OcdXoEA55i",
        "colab": {
          "base_uri": "https://localhost:8080/"
        },
        "outputId": "e8d99987-46f8-4b57-e5ba-d453d76f1937"
      },
      "execution_count": 14,
      "outputs": [
        {
          "output_type": "stream",
          "name": "stdout",
          "text": [
            "RMSE: 0.10500591993339117\n",
            "0:00:29.494232\n"
          ]
        }
      ]
    },
    {
      "cell_type": "code",
      "source": [
        "error = []\n",
        "for i in range(1,201):\n",
        "    x1 = np.array(pd.read_csv(path+f'{i}_pos_silicon_pad_data.csv')) # fractional derivatives\n",
        "    y1 = np.array(pd.read_csv(path+f'{i}_force_silicon_pad_data.csv'))\n",
        "    y_pred = rf.predict(x1)\n",
        "    statement = f'For point: {i}, Error: {mean_squared_error(y_pred, y1)**0.5}\\n'\n",
        "    #print(f'For point: {i}, Error: {mean_squared_error(y_pred, y1)**0.5}')\n",
        "    error.append(mean_squared_error(y_pred, y1)**0.5)\n",
        "    with open('results_RF.txt','a') as f:\n",
        "        f.write(statement)\n",
        "print(sum(error)/len(error))"
      ],
      "metadata": {
        "id": "pMivG2eKKY2E"
      },
      "execution_count": null,
      "outputs": []
    },
    {
      "cell_type": "code",
      "source": [
        "print(sum(error)/len(error))\n",
        "print(np.std(np.array(error)))\n",
        "max(error), min(error)"
      ],
      "metadata": {
        "colab": {
          "base_uri": "https://localhost:8080/"
        },
        "id": "RNQrP6M7T8jm",
        "outputId": "e9d56212-10fe-4334-85b3-2f228482c46d"
      },
      "execution_count": null,
      "outputs": [
        {
          "output_type": "stream",
          "name": "stdout",
          "text": [
            "0.13371617356335128\n",
            "0.07897814785819778\n"
          ]
        },
        {
          "output_type": "execute_result",
          "data": {
            "text/plain": [
              "(0.5007825904504905, 0.05752255642067074)"
            ]
          },
          "metadata": {},
          "execution_count": 30
        }
      ]
    },
    {
      "cell_type": "markdown",
      "source": [
        "# Clusterring"
      ],
      "metadata": {
        "id": "TyU4CyhV3xL4"
      }
    },
    {
      "cell_type": "code",
      "source": [
        "path2 = '/content/drive/MyDrive/Virtual env/z_inhomogenous_modeling/'\n",
        "arr = np.array(pd.read_csv(path2+'x_y_silicon_pad.csv', names = ['x','y']))\n",
        "print(arr.shape)\n",
        "arr[:5]"
      ],
      "metadata": {
        "id": "ngt4QjtmT_9l",
        "colab": {
          "base_uri": "https://localhost:8080/"
        },
        "outputId": "e3414093-d71e-4b13-faa7-93e25dc32d13"
      },
      "execution_count": 15,
      "outputs": [
        {
          "output_type": "stream",
          "name": "stdout",
          "text": [
            "(200, 2)\n"
          ]
        },
        {
          "output_type": "execute_result",
          "data": {
            "text/plain": [
              "array([[ -0.427,  -9.475],\n",
              "       [ -0.475,   8.082],\n",
              "       [ -0.583,   0.632],\n",
              "       [ -0.859,  -1.168],\n",
              "       [ -1.187, -10.809]])"
            ]
          },
          "metadata": {},
          "execution_count": 15
        }
      ]
    },
    {
      "cell_type": "code",
      "source": [
        "from sklearn.cluster import KMeans\n",
        "k_values = range(1, 11)\n",
        "\n",
        "# Perform k-means clustering for each k value\n",
        "inertia_values = []\n",
        "for k in k_values:\n",
        "    kmeans = KMeans(n_clusters=k)\n",
        "    kmeans.fit(arr)\n",
        "    inertia_values.append(kmeans.inertia_)\n",
        "\n",
        "# Plot the inertia values against the number of clusters\n",
        "plt.plot(k_values, inertia_values, 'bx-')\n",
        "plt.xlabel('Number of Clusters (k)')\n",
        "plt.ylabel('Inertia')\n",
        "plt.title('Elbow Method for Optimal k')\n",
        "plt.show()"
      ],
      "metadata": {
        "colab": {
          "base_uri": "https://localhost:8080/",
          "height": 472
        },
        "id": "wxxJwgwj4KM2",
        "outputId": "cb0ae283-7c3a-4aa3-f28a-937f45076122"
      },
      "execution_count": 16,
      "outputs": [
        {
          "output_type": "display_data",
          "data": {
            "text/plain": [
              "<Figure size 640x480 with 1 Axes>"
            ],
            "image/png": "[encoded data removed]"
          },
          "metadata": {}
        }
      ]
    },
    {
      "cell_type": "code",
      "source": [
        "kmeans = KMeans(n_clusters=5)\n",
        "kmeans.fit(arr)\n",
        "kmeans.cluster_centers_"
      ],
      "metadata": {
        "colab": {
          "base_uri": "https://localhost:8080/"
        },
        "id": "BQ1BKQVJ4XRq",
        "outputId": "caa98977-0fba-4c01-815d-37487b511889"
      },
      "execution_count": 17,
      "outputs": [
        {
          "output_type": "execute_result",
          "data": {
            "text/plain": [
              "array([[  8.55160606, -13.51512121],\n",
              "       [ -8.6122963 ,   9.47033333],\n",
              "       [  6.1935122 ,  14.12065854],\n",
              "       [ -8.30161111, -11.42472222],\n",
              "       [  7.43463889,  -0.29452778]])"
            ]
          },
          "metadata": {},
          "execution_count": 17
        }
      ]
    },
    {
      "cell_type": "code",
      "source": [
        "from collections import defaultdict\n",
        "d = defaultdict(lambda: [])\n",
        "for i in range(200):\n",
        "    label = kmeans.predict([arr[i]])[0]\n",
        "    d[label].append(i)\n",
        "\n",
        "for i in range(5):\n",
        "    print(d[i])"
      ],
      "metadata": {
        "colab": {
          "base_uri": "https://localhost:8080/"
        },
        "id": "U04pdeMO4KPR",
        "outputId": "0abc0dfd-c60a-447d-a557-938827c4b4f0"
      },
      "execution_count": 18,
      "outputs": [
        {
          "output_type": "stream",
          "name": "stdout",
          "text": [
            "[97, 100, 113, 116, 119, 122, 125, 127, 130, 133, 137, 138, 141, 142, 145, 149, 151, 158, 164, 165, 166, 168, 170, 173, 175, 177, 180, 184, 185, 187, 193, 195, 198]\n",
            "[1, 5, 9, 11, 14, 15, 16, 19, 22, 23, 24, 25, 30, 32, 33, 35, 37, 38, 39, 41, 42, 43, 46, 50, 51, 53, 54, 55, 56, 57, 58, 60, 62, 65, 68, 69, 70, 71, 72, 74, 75, 77, 78, 79, 81, 82, 83, 84, 86, 88, 89, 90, 91, 93]\n",
            "[7, 8, 52, 95, 98, 99, 102, 103, 105, 106, 107, 110, 111, 112, 115, 120, 121, 124, 126, 128, 129, 132, 136, 143, 147, 148, 150, 152, 154, 160, 161, 162, 167, 178, 179, 183, 186, 191, 192, 196, 199]\n",
            "[0, 4, 6, 10, 12, 13, 17, 18, 20, 21, 26, 27, 28, 29, 31, 34, 36, 40, 44, 45, 47, 48, 49, 59, 61, 63, 64, 66, 67, 73, 76, 80, 85, 87, 92, 96]\n",
            "[2, 3, 94, 101, 104, 108, 109, 114, 117, 118, 123, 131, 134, 135, 139, 140, 144, 146, 153, 155, 156, 157, 159, 163, 169, 171, 172, 174, 176, 181, 182, 188, 189, 190, 194, 197]\n"
          ]
        }
      ]
    },
    {
      "cell_type": "code",
      "source": [
        "from scipy.linalg import norm\n",
        "\n",
        "def dist(i):\n",
        "    at = -1\n",
        "    mini = 10\n",
        "    for j in range(len(d[i])):\n",
        "        dis = ((arr[d[i][j]][0]- kmeans.cluster_centers_[i][0])**2 + (arr[d[i][j]][1]- kmeans.cluster_centers_[i][1])**2)**0.5\n",
        "        if dis <mini:\n",
        "            mini = dis\n",
        "            at = j\n",
        "    print(f'{d[i][at]+1} is the master node of {i}th cluster')\n",
        "    print(arr[d[i][at]], kmeans.cluster_centers_[i],'\\n')\n",
        "for i in range(5):\n",
        "    dist(i)"
      ],
      "metadata": {
        "colab": {
          "base_uri": "https://localhost:8080/"
        },
        "id": "-S5y9A2S4b0d",
        "outputId": "a3c6e13a-9bb7-4b61-dd06-f8d26b62960e"
      },
      "execution_count": 19,
      "outputs": [
        {
          "output_type": "stream",
          "name": "stdout",
          "text": [
            "196 is the master node of 0th cluster\n",
            "[  8.905 -11.94 ] [  8.55160606 -13.51512121] \n",
            "\n",
            "10 is the master node of 1th cluster\n",
            "[-10.231   9.415] [-8.6122963   9.47033333] \n",
            "\n",
            "168 is the master node of 2th cluster\n",
            "[ 5.789 14.423] [ 6.1935122  14.12065854] \n",
            "\n",
            "88 is the master node of 3th cluster\n",
            "[ -9.235 -11.41 ] [ -8.30161111 -11.42472222] \n",
            "\n",
            "189 is the master node of 4th cluster\n",
            "[7.99  0.432] [ 7.43463889 -0.29452778] \n",
            "\n"
          ]
        }
      ]
    },
    {
      "cell_type": "code",
      "source": [
        "x1 = np.array(pd.read_csv(path+f'{10}_pos_silicon_pad_data.csv'))[:,:10] # fractional derivatives\n",
        "y1 = np.array(pd.read_csv(path+f'{10}_force_silicon_pad_data.csv'))\n",
        "rf1 = RandomForestRegressor()\n",
        "rf1.fit(x1,y1)"
      ],
      "metadata": {
        "colab": {
          "base_uri": "https://localhost:8080/",
          "height": 74
        },
        "id": "LSOEo1xkyvY0",
        "outputId": "186431b4-1392-43de-f40d-c25734ee041f"
      },
      "execution_count": 20,
      "outputs": [
        {
          "output_type": "execute_result",
          "data": {
            "text/plain": [
              "RandomForestRegressor()"
            ],
            "text/html": [
              "<style>#sk-container-id-1 {color: black;background-color: white;}#sk-container-id-1 pre{padding: 0;}#sk-container-id-1 div.sk-toggleable {background-color: white;}#sk-container-id-1 label.sk-toggleable__label {cursor: pointer;display: block;width: 100%;margin-bottom: 0;padding: 0.3em;box-sizing: border-box;text-align: center;}#sk-container-id-1 label.sk-toggleable__label-arrow:before {content: \"▸\";float: left;margin-right: 0.25em;color: #696969;}#sk-container-id-1 label.sk-toggleable__label-arrow:hover:before {color: black;}#sk-container-id-1 div.sk-estimator:hover label.sk-toggleable__label-arrow:before {color: black;}#sk-container-id-1 div.sk-toggleable__content {max-height: 0;max-width: 0;overflow: hidden;text-align: left;background-color: #f0f8ff;}#sk-container-id-1 div.sk-toggleable__content pre {margin: 0.2em;color: black;border-radius: 0.25em;background-color: #f0f8ff;}#sk-container-id-1 input.sk-toggleable__control:checked~div.sk-toggleable__content {max-height: 200px;max-width: 100%;overflow: auto;}#sk-container-id-1 input.sk-toggleable__control:checked~label.sk-toggleable__label-arrow:before {content: \"▾\";}#sk-container-id-1 div.sk-estimator input.sk-toggleable__control:checked~label.sk-toggleable__label {background-color: #d4ebff;}#sk-container-id-1 div.sk-label input.sk-toggleable__control:checked~label.sk-toggleable__label {background-color: #d4ebff;}#sk-container-id-1 input.sk-hidden--visually {border: 0;clip: rect(1px 1px 1px 1px);clip: rect(1px, 1px, 1px, 1px);height: 1px;margin: -1px;overflow: hidden;padding: 0;position: absolute;width: 1px;}#sk-container-id-1 div.sk-estimator {font-family: monospace;background-color: #f0f8ff;border: 1px dotted black;border-radius: 0.25em;box-sizing: border-box;margin-bottom: 0.5em;}#sk-container-id-1 div.sk-estimator:hover {background-color: #d4ebff;}#sk-container-id-1 div.sk-parallel-item::after {content: \"\";width: 100%;border-bottom: 1px solid gray;flex-grow: 1;}#sk-container-id-1 div.sk-label:hover label.sk-toggleable__label {background-color: #d4ebff;}#sk-container-id-1 div.sk-serial::before {content: \"\";position: absolute;border-left: 1px solid gray;box-sizing: border-box;top: 0;bottom: 0;left: 50%;z-index: 0;}#sk-container-id-1 div.sk-serial {display: flex;flex-direction: column;align-items: center;background-color: white;padding-right: 0.2em;padding-left: 0.2em;position: relative;}#sk-container-id-1 div.sk-item {position: relative;z-index: 1;}#sk-container-id-1 div.sk-parallel {display: flex;align-items: stretch;justify-content: center;background-color: white;position: relative;}#sk-container-id-1 div.sk-item::before, #sk-container-id-1 div.sk-parallel-item::before {content: \"\";position: absolute;border-left: 1px solid gray;box-sizing: border-box;top: 0;bottom: 0;left: 50%;z-index: -1;}#sk-container-id-1 div.sk-parallel-item {display: flex;flex-direction: column;z-index: 1;position: relative;background-color: white;}#sk-container-id-1 div.sk-parallel-item:first-child::after {align-self: flex-end;width: 50%;}#sk-container-id-1 div.sk-parallel-item:last-child::after {align-self: flex-start;width: 50%;}#sk-container-id-1 div.sk-parallel-item:only-child::after {width: 0;}#sk-container-id-1 div.sk-dashed-wrapped {border: 1px dashed gray;margin: 0 0.4em 0.5em 0.4em;box-sizing: border-box;padding-bottom: 0.4em;background-color: white;}#sk-container-id-1 div.sk-label label {font-family: monospace;font-weight: bold;display: inline-block;line-height: 1.2em;}#sk-container-id-1 div.sk-label-container {text-align: center;}#sk-container-id-1 div.sk-container {/* jupyter's `normalize.less` sets `[hidden] { display: none; }` but bootstrap.min.css set `[hidden] { display: none !important; }` so we also need the `!important` here to be able to override the default hidden behavior on the sphinx rendered scikit-learn.org. See: https://github.com/scikit-learn/scikit-learn/issues/21755 */display: inline-block !important;position: relative;}#sk-container-id-1 div.sk-text-repr-fallback {display: none;}</style><div id=\"sk-container-id-1\" class=\"sk-top-container\"><div class=\"sk-text-repr-fallback\"><pre>RandomForestRegressor()</pre><b>In a Jupyter environment, please rerun this cell to show the HTML representation or trust the notebook. <br />On GitHub, the HTML representation is unable to render, please try loading this page with nbviewer.org.</b></div><div class=\"sk-container\" hidden><div class=\"sk-item\"><div class=\"sk-estimator sk-toggleable\"><input class=\"sk-toggleable__control sk-hidden--visually\" id=\"sk-estimator-id-1\" type=\"checkbox\" checked><label for=\"sk-estimator-id-1\" class=\"sk-toggleable__label sk-toggleable__label-arrow\">RandomForestRegressor</label><div class=\"sk-toggleable__content\"><pre>RandomForestRegressor()</pre></div></div></div></div></div>"
            ]
          },
          "metadata": {},
          "execution_count": 20
        }
      ]
    },
    {
      "cell_type": "code",
      "source": [
        "from matplotlib.pyplot import figure\n",
        "from matplotlib.ticker import MaxNLocator\n",
        "import warnings\n",
        "warnings.filterwarnings('ignore')\n",
        "\n",
        "i = 2\n",
        "x1 = np.array(pd.read_csv(path+f'{i}_pos_silicon_pad_data.csv')) # fractional derivatives\n",
        "y1 = np.array(pd.read_csv(path+f'{i}_force_silicon_pad_data.csv'))\n",
        "y_pred = cat.predict(x1)\n",
        "y_rf = rf.predict(x1)\n",
        "y_cluster = rf1.predict(x1[:,:10])\n",
        "\n",
        "error_cat = []\n",
        "error_rf = []\n",
        "error_cluster = []\n",
        "for j in range(len(y1)-5):\n",
        "    error_cat.append(y1[j,0]-y_pred[j])\n",
        "    error_rf.append(y1[j,0]-y_rf[j])\n",
        "    error_cluster.append(y1[j,0]-y_cluster[j])\n",
        "\n",
        "\n",
        "fig, (ax1, ax2) = plt.subplots(2, 1)\n",
        "fig.set_figheight(5)\n",
        "fig.set_figwidth(7)\n",
        "\n",
        "ax1.plot(np.arange(0,12,0.001),y_test[:12000],label = 'Measured',linewidth=1.0)\n",
        "ax1.plot(np.arange(0,12,0.001),y_rf[:12000],label = 'Random Forest',linewidth=1.0)\n",
        "ax1.plot(np.arange(0,12,0.001),y_cluster[:12000],label = 'Cluster',linewidth=1.0)\n",
        "ax1.plot(np.arange(0,12,0.001),y_pred[:12000],label = 'Catboost',linewidth=1.0)\n",
        "\n",
        "ax1.legend(loc = 'upper right')\n",
        "ax1.set_xlim([0, 12])\n",
        "ax1.set_ylim([0, int(max(y_pred[:12000])+2)])\n",
        "ax1.set_ylabel('Force [N]',fontsize=13)\n",
        "#ax1.set_xlabel('Time [s]',fontsize=13)\n",
        "ax1.grid()\n",
        "\n",
        "ax2.plot(np.arange(0,12,0.001),error_cluster[:12000],label = 'Cluster',linewidth=0.8)\n",
        "ax2.plot(np.arange(0,12,0.001),error_rf[:12000],label = 'Random Forest',linewidth=0.8)\n",
        "ax2.plot(np.arange(0,12,0.001),error_cat[:12000],label = 'Catboost',linewidth=0.8)\n",
        "\n",
        "ax2.legend(loc = 'upper right')\n",
        "ax2.set_xlim([0, 12])\n",
        "ax2.set_ylim([-2, 2])\n",
        "ax1.yaxis.set_major_locator(MaxNLocator(integer=True))\n",
        "ax2.set_ylabel('Error [N]',fontsize=13)\n",
        "ax2.set_xlabel('Time [s]',fontsize=13)\n",
        "ax2.grid()\n",
        "\n",
        "plt.savefig(f'obj5_measured_pred_{i}_all.eps')\n",
        "plt.show()"
      ],
      "metadata": {
        "colab": {
          "base_uri": "https://localhost:8080/",
          "height": 511
        },
        "id": "BOB0m47Ly4iV",
        "outputId": "5db35d8b-79c5-485f-d34f-fa8bc172fe7b"
      },
      "execution_count": 24,
      "outputs": [
        {
          "output_type": "stream",
          "name": "stderr",
          "text": [
            "WARNING:matplotlib.backends.backend_ps:The PostScript backend does not support transparency; partially transparent artists will be rendered opaque.\n"
          ]
        },
        {
          "output_type": "display_data",
          "data": {
            "text/plain": [
              "<Figure size 700x500 with 2 Axes>"
            ],
            "image/png": "[encoded data removed]"
          },
          "metadata": {}
        }
      ]
    },
    {
      "cell_type": "code",
      "source": [
        "x1 = np.array(pd.read_csv(path+f'{10}_pos_silicon_pad_data.csv'))[:,:10] # fractional derivatives\n",
        "y1 = np.array(pd.read_csv(path+f'{10}_force_silicon_pad_data.csv'))\n",
        "rf = RandomForestRegressor()\n",
        "rf.fit(x1,y1)\n",
        "\n",
        "error = []\n",
        "array = np.array(d[0])+1\n",
        "for i in array:\n",
        "    x2 = np.array(pd.read_csv(path+f'{i}_pos_silicon_pad_data.csv'))[:,:10] # fractional derivatives\n",
        "    y1 = np.array(pd.read_csv(path+f'{i}_force_silicon_pad_data.csv'))\n",
        "    y_pred = rf.predict(x2)\n",
        "    statement = f'For point: {i}, Error: {mean_squared_error(y_pred, y1)**0.5}\\n'\n",
        "    #print(f'For point: {i}, Error: {mean_squared_error(y_pred, y1)**0.5}')\n",
        "    error.append(mean_squared_error(y_pred, y1)**0.5)\n",
        "    with open('cluster.txt','a') as f:\n",
        "        f.write(statement)\n",
        "print(sum(error)/len(error))\n",
        "print(max(error), min(error))\n",
        "total = error"
      ],
      "metadata": {
        "colab": {
          "base_uri": "https://localhost:8080/"
        },
        "id": "gY_lKWwM4b2u",
        "outputId": "db3c5d53-7902-4c50-b2de-968df0a1dddf"
      },
      "execution_count": null,
      "outputs": [
        {
          "output_type": "stream",
          "name": "stdout",
          "text": [
            "0.18916528445452746\n",
            "0.37279006505693363 0.01659050799701343\n"
          ]
        }
      ]
    },
    {
      "cell_type": "code",
      "source": [
        "x1 = np.array(pd.read_csv(path+f'{196}_pos_silicon_pad_data.csv'))[:,:10] # fractional derivatives\n",
        "y1 = np.array(pd.read_csv(path+f'{196}_force_silicon_pad_data.csv'))\n",
        "rf = RandomForestRegressor()\n",
        "rf.fit(x1,y1)\n",
        "\n",
        "error = []\n",
        "array = np.array(d[1])+1\n",
        "for i in array:\n",
        "    x2 = np.array(pd.read_csv(path+f'{i}_pos_silicon_pad_data.csv'))[:,:10] # fractional derivatives\n",
        "    y1 = np.array(pd.read_csv(path+f'{i}_force_silicon_pad_data.csv'))\n",
        "    y_pred = rf.predict(x2)\n",
        "    statement = f'For point: {i}, Error: {mean_squared_error(y_pred, y1)**0.5}\\n'\n",
        "    #print(f'For point: {i}, Error: {mean_squared_error(y_pred, y1)**0.5}')\n",
        "    error.append(mean_squared_error(y_pred, y1)**0.5)\n",
        "    with open('cluster.txt','a') as f:\n",
        "        f.write(statement)\n",
        "print(sum(error)/len(error))\n",
        "print(max(error), min(error))\n",
        "total += error"
      ],
      "metadata": {
        "colab": {
          "base_uri": "https://localhost:8080/"
        },
        "id": "TqGYQ6pR5P1l",
        "outputId": "48c4dd79-47fd-4bb1-c33f-52ff3bef6d73"
      },
      "execution_count": null,
      "outputs": [
        {
          "output_type": "stream",
          "name": "stdout",
          "text": [
            "0.08251595601889383\n",
            "0.21063656609222672 0.01433658964882802\n"
          ]
        }
      ]
    },
    {
      "cell_type": "code",
      "source": [
        "x1 = np.array(pd.read_csv(path+f'{168}_pos_silicon_pad_data.csv'))[:,:10] # fractional derivatives\n",
        "y1 = np.array(pd.read_csv(path+f'{168}_force_silicon_pad_data.csv'))\n",
        "rf = RandomForestRegressor()\n",
        "rf.fit(x1,y1)\n",
        "\n",
        "error = []\n",
        "array = np.array(d[2])+1\n",
        "for i in array:\n",
        "    x2 = np.array(pd.read_csv(path+f'{i}_pos_silicon_pad_data.csv'))[:,:10] # fractional derivatives\n",
        "    y1 = np.array(pd.read_csv(path+f'{i}_force_silicon_pad_data.csv'))\n",
        "    y_pred = rf.predict(x2)\n",
        "    statement = f'For point: {i}, Error: {mean_squared_error(y_pred, y1)**0.5}\\n'\n",
        "    #print(f'For point: {i}, Error: {mean_squared_error(y_pred, y1)**0.5}')\n",
        "    error.append(mean_squared_error(y_pred, y1)**0.5)\n",
        "    with open('cluster.txt','a') as f:\n",
        "        f.write(statement)\n",
        "print(sum(error)/len(error))\n",
        "print(max(error), min(error))\n",
        "total += error"
      ],
      "metadata": {
        "colab": {
          "base_uri": "https://localhost:8080/"
        },
        "id": "4vjuK1055P33",
        "outputId": "e8bd2c4e-eabb-4855-9808-0cec620e3b66"
      },
      "execution_count": null,
      "outputs": [
        {
          "output_type": "stream",
          "name": "stdout",
          "text": [
            "0.16352512901440325\n",
            "0.6721373227986831 0.013572488582218429\n"
          ]
        }
      ]
    },
    {
      "cell_type": "code",
      "source": [
        "x1 = np.array(pd.read_csv(path+f'{88}_pos_silicon_pad_data.csv'))[:,:10] # fractional derivatives\n",
        "y1 = np.array(pd.read_csv(path+f'{88}_force_silicon_pad_data.csv'))\n",
        "rf = RandomForestRegressor()\n",
        "rf.fit(x1,y1)\n",
        "\n",
        "error = []\n",
        "array = np.array(d[3])+1\n",
        "for i in array:\n",
        "    x2 = np.array(pd.read_csv(path+f'{i}_pos_silicon_pad_data.csv'))[:,:10] # fractional derivatives\n",
        "    y1 = np.array(pd.read_csv(path+f'{i}_force_silicon_pad_data.csv'))\n",
        "    y_pred = rf.predict(x2)\n",
        "    statement = f'For point: {i}, Error: {mean_squared_error(y_pred, y1)**0.5}\\n'\n",
        "    #print(f'For point: {i}, Error: {mean_squared_error(y_pred, y1)**0.5}')\n",
        "    error.append(mean_squared_error(y_pred, y1)**0.5)\n",
        "    with open('cluster.txt','a') as f:\n",
        "        f.write(statement)\n",
        "print(sum(error)/len(error))\n",
        "print(max(error), min(error))\n",
        "total+= error"
      ],
      "metadata": {
        "colab": {
          "base_uri": "https://localhost:8080/"
        },
        "id": "CTRCKtTB4KUt",
        "outputId": "876d5871-9d42-4899-ae88-fe0423517c0f"
      },
      "execution_count": null,
      "outputs": [
        {
          "output_type": "stream",
          "name": "stdout",
          "text": [
            "0.15337753069694432\n",
            "0.35450743075622154 0.015228832459074878\n"
          ]
        }
      ]
    },
    {
      "cell_type": "code",
      "source": [
        "x1 = np.array(pd.read_csv(path+f'{189}_pos_silicon_pad_data.csv'))[:,:10] # fractional derivatives\n",
        "y1 = np.array(pd.read_csv(path+f'{189}_force_silicon_pad_data.csv'))\n",
        "rf = RandomForestRegressor()\n",
        "rf.fit(x1,y1)\n",
        "\n",
        "error = []\n",
        "array = np.array(d[4])+1\n",
        "for i in array:\n",
        "    x2 = np.array(pd.read_csv(path+f'{i}_pos_silicon_pad_data.csv'))[:,:10] # fractional derivatives\n",
        "    y1 = np.array(pd.read_csv(path+f'{i}_force_silicon_pad_data.csv'))\n",
        "    y_pred = rf.predict(x2)\n",
        "    statement = f'For point: {i}, Error: {mean_squared_error(y_pred, y1)**0.5}\\n'\n",
        "    #print(f'For point: {i}, Error: {mean_squared_error(y_pred, y1)**0.5}')\n",
        "    error.append(mean_squared_error(y_pred, y1)**0.5)\n",
        "    with open('cluster.txt','a') as f:\n",
        "        f.write(statement)\n",
        "print(sum(error)/len(error))\n",
        "print(max(error), min(error))\n",
        "total += error"
      ],
      "metadata": {
        "colab": {
          "base_uri": "https://localhost:8080/"
        },
        "id": "VcxeVCiI5Zz-",
        "outputId": "12439b6d-3fc7-45f1-dbf7-530f9e8f544e"
      },
      "execution_count": null,
      "outputs": [
        {
          "output_type": "stream",
          "name": "stdout",
          "text": [
            "0.09063359845012164\n",
            "0.2806794533682995 0.014617109058167693\n"
          ]
        }
      ]
    },
    {
      "cell_type": "code",
      "source": [
        "print('Mean:', np.mean(np.array(total)))\n",
        "print('Std:', np.std(np.array(total)))"
      ],
      "metadata": {
        "colab": {
          "base_uri": "https://localhost:8080/"
        },
        "id": "NfVPsB935Z2M",
        "outputId": "60b9852c-926e-49f0-81ad-dfe0373f567e"
      },
      "execution_count": null,
      "outputs": [
        {
          "output_type": "stream",
          "name": "stdout",
          "text": [
            "Mean: 0.14217500245242054\n",
            "Std: 0.09279746977378847\n"
          ]
        }
      ]
    },
    {
      "cell_type": "code",
      "source": [
        "max(total)"
      ],
      "metadata": {
        "colab": {
          "base_uri": "https://localhost:8080/"
        },
        "id": "04gm6f4k5z9C",
        "outputId": "3e63ea9b-ba66-4d47-fcb4-5d48fec0c7c4"
      },
      "execution_count": null,
      "outputs": [
        {
          "output_type": "execute_result",
          "data": {
            "text/plain": [
              "0.6721373227986831"
            ]
          },
          "metadata": {},
          "execution_count": 42
        }
      ]
    },
    {
      "cell_type": "code",
      "source": [],
      "metadata": {
        "id": "sUYuY6_rBLhA"
      },
      "execution_count": null,
      "outputs": []
    }
  ],
  "metadata": {
    "colab": {
      "provenance": []
    },
    "kernelspec": {
      "display_name": "Python 3",
      "language": "python",
      "name": "python3"
    },
    "language_info": {
      "codemirror_mode": {
        "name": "ipython",
        "version": 3
      },
      "file_extension": ".py",
      "mimetype": "text/x-python",
      "name": "python",
      "nbconvert_exporter": "python",
      "pygments_lexer": "ipython3",
      "version": "3.7.4"
    }
  },
  "nbformat": 4,
  "nbformat_minor": 0
}