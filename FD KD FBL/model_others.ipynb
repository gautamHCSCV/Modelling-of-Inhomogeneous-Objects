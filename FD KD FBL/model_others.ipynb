{
  "cells": [
    {
      "cell_type": "code",
      "source": [
        "!pip install catboost"
      ],
      "metadata": {
        "colab": {
          "base_uri": "https://localhost:8080/"
        },
        "id": "LnsEmHULy0sz",
        "outputId": "7554a3fa-a338-48eb-938b-ab1d20ebf2ef"
      },
      "execution_count": null,
      "outputs": [
        {
          "output_type": "stream",
          "name": "stdout",
          "text": [
            "Looking in indexes: https://pypi.org/simple, https://us-python.pkg.dev/colab-wheels/public/simple/\n",
            "Collecting catboost\n",
            "  Downloading catboost-1.2-cp310-cp310-manylinux2014_x86_64.whl (98.6 MB)\n",
            "\u001b[2K     \u001b[90m━━━━━━━━━━━━━━━━━━━━━━━━━━━━━━━━━━━━━━━━\u001b[0m \u001b[32m98.6/98.6 MB\u001b[0m \u001b[31m8.8 MB/s\u001b[0m eta \u001b[36m0:00:00\u001b[0m\n",
            "\u001b[?25hRequirement already satisfied: graphviz in /usr/local/lib/python3.10/dist-packages (from catboost) (0.20.1)\n",
            "Requirement already satisfied: matplotlib in /usr/local/lib/python3.10/dist-packages (from catboost) (3.7.1)\n",
            "Requirement already satisfied: numpy>=1.16.0 in /usr/local/lib/python3.10/dist-packages (from catboost) (1.22.4)\n",
            "Requirement already satisfied: pandas>=0.24 in /usr/local/lib/python3.10/dist-packages (from catboost) (1.5.3)\n",
            "Requirement already satisfied: scipy in /usr/local/lib/python3.10/dist-packages (from catboost) (1.10.1)\n",
            "Requirement already satisfied: plotly in /usr/local/lib/python3.10/dist-packages (from catboost) (5.13.1)\n",
            "Requirement already satisfied: six in /usr/local/lib/python3.10/dist-packages (from catboost) (1.16.0)\n",
            "Requirement already satisfied: python-dateutil>=2.8.1 in /usr/local/lib/python3.10/dist-packages (from pandas>=0.24->catboost) (2.8.2)\n",
            "Requirement already satisfied: pytz>=2020.1 in /usr/local/lib/python3.10/dist-packages (from pandas>=0.24->catboost) (2022.7.1)\n",
            "Requirement already satisfied: contourpy>=1.0.1 in /usr/local/lib/python3.10/dist-packages (from matplotlib->catboost) (1.0.7)\n",
            "Requirement already satisfied: cycler>=0.10 in /usr/local/lib/python3.10/dist-packages (from matplotlib->catboost) (0.11.0)\n",
            "Requirement already satisfied: fonttools>=4.22.0 in /usr/local/lib/python3.10/dist-packages (from matplotlib->catboost) (4.39.3)\n",
            "Requirement already satisfied: kiwisolver>=1.0.1 in /usr/local/lib/python3.10/dist-packages (from matplotlib->catboost) (1.4.4)\n",
            "Requirement already satisfied: packaging>=20.0 in /usr/local/lib/python3.10/dist-packages (from matplotlib->catboost) (23.1)\n",
            "Requirement already satisfied: pillow>=6.2.0 in /usr/local/lib/python3.10/dist-packages (from matplotlib->catboost) (8.4.0)\n",
            "Requirement already satisfied: pyparsing>=2.3.1 in /usr/local/lib/python3.10/dist-packages (from matplotlib->catboost) (3.0.9)\n",
            "Requirement already satisfied: tenacity>=6.2.0 in /usr/local/lib/python3.10/dist-packages (from plotly->catboost) (8.2.2)\n",
            "Installing collected packages: catboost\n",
            "Successfully installed catboost-1.2\n"
          ]
        }
      ]
    },
    {
      "cell_type": "code",
      "execution_count": null,
      "metadata": {
        "id": "-VjuA1WW4ond"
      },
      "outputs": [],
      "source": [
        "import pandas as pd\n",
        "import numpy as np\n",
        "import os\n",
        "import csv\n",
        "from datetime import datetime\n",
        "from catboost import CatBoostRegressor\n",
        "import matplotlib.pyplot as plt\n",
        "from sklearn.ensemble import RandomForestRegressor\n",
        "from sklearn.linear_model import LinearRegression\n",
        "from sklearn.metrics import mean_squared_error\n",
        "from sklearn.model_selection import train_test_split\n",
        "\n",
        "import warnings\n",
        "warnings.filterwarnings('ignore')"
      ]
    },
    {
      "cell_type": "code",
      "execution_count": null,
      "metadata": {
        "colab": {
          "base_uri": "https://localhost:8080/"
        },
        "id": "yUMtK4IG4pAT",
        "outputId": "75cf34cf-1d2c-467f-f185-d2e905116060"
      },
      "outputs": [
        {
          "output_type": "stream",
          "name": "stdout",
          "text": [
            "Mounted at /content/drive\n"
          ]
        }
      ],
      "source": [
        "from google.colab import drive\n",
        "drive.mount('/content/drive')"
      ]
    },
    {
      "cell_type": "markdown",
      "metadata": {
        "id": "HfwZrWmClg6r"
      },
      "source": [
        "# Models Estimation"
      ]
    },
    {
      "cell_type": "code",
      "source": [
        "path = '/content/drive/MyDrive/Virtual env/z_inhomogenous_modeling/ecoflex_181221_rf_rd_data/'\n",
        "path1 = '/content/drive/MyDrive/Virtual env/z_inhomogenous_modeling/x_y_data_all_points/'\n",
        "train_path = '/content/drive/MyDrive/Virtual env/z_inhomogenous_modeling/percep_fbl_rf_rd_seperately_data/'\n",
        "print(len(sorted(os.listdir(train_path))))\n",
        "rnd_idx = np.array([2,8,27,32,33,97,104,105,109,116,131,136,143,148,154,158,164,170,186,199])"
      ],
      "metadata": {
        "id": "3SE2Bftc-VrO",
        "colab": {
          "base_uri": "https://localhost:8080/"
        },
        "outputId": "58453f5f-cd6c-45ed-9412-f8f2a596aebb"
      },
      "execution_count": 44,
      "outputs": [
        {
          "output_type": "stream",
          "name": "stdout",
          "text": [
            "40\n"
          ]
        }
      ]
    },
    {
      "cell_type": "code",
      "source": [
        "arr = np.array(pd.read_csv(path1+f'{rnd_idx[0]}_x_y_pos_vel_ecoflex_181221_data.csv'))[:,:2]\n",
        "arr.shape"
      ],
      "metadata": {
        "colab": {
          "base_uri": "https://localhost:8080/"
        },
        "id": "xoYpoLitGNnB",
        "outputId": "84342121-cf13-44d9-90a4-43623854bdd2"
      },
      "execution_count": 45,
      "outputs": [
        {
          "output_type": "execute_result",
          "data": {
            "text/plain": [
              "(27234, 2)"
            ]
          },
          "metadata": {},
          "execution_count": 45
        }
      ]
    },
    {
      "cell_type": "code",
      "source": [
        "y = np.array(pd.read_csv(train_path+f'{rnd_idx[0]}_percep_force_ecoflex_181221_data.csv'))\n",
        "x2 = np.array(pd.read_csv(train_path+f'{rnd_idx[0]}_percep_pos_ecoflex_181221_data.csv'))\n",
        "l = len(y)\n",
        "x2.shape, y.shape"
      ],
      "metadata": {
        "colab": {
          "base_uri": "https://localhost:8080/"
        },
        "id": "eKB3r3w-wiM2",
        "outputId": "d0b75d16-e4dc-4b3a-a9c0-3c0abe1a1199"
      },
      "execution_count": 46,
      "outputs": [
        {
          "output_type": "execute_result",
          "data": {
            "text/plain": [
              "((1520, 10), (1520, 1))"
            ]
          },
          "metadata": {},
          "execution_count": 46
        }
      ]
    },
    {
      "cell_type": "code",
      "source": [
        "kd = np.array(pd.read_csv('/content/drive/MyDrive/Virtual env/z_inhomogenous_modeling/KD_data.csv'))\n",
        "ar = np.array([list(kd[rnd_idx[0]-1])]*l)\n",
        "ar.shape"
      ],
      "metadata": {
        "colab": {
          "base_uri": "https://localhost:8080/"
        },
        "id": "peXNb9ylOJmZ",
        "outputId": "d31eeabc-ec22-4fb0-f411-28fdfab20662"
      },
      "execution_count": 47,
      "outputs": [
        {
          "output_type": "execute_result",
          "data": {
            "text/plain": [
              "(1520, 2)"
            ]
          },
          "metadata": {},
          "execution_count": 47
        }
      ]
    },
    {
      "cell_type": "code",
      "source": [
        "x = np.concatenate([x2,arr[:l,:],ar], axis = 1)\n",
        "x.shape"
      ],
      "metadata": {
        "colab": {
          "base_uri": "https://localhost:8080/"
        },
        "id": "vbygP1ybG0jZ",
        "outputId": "70408539-6359-43f3-fc6f-c48608575505"
      },
      "execution_count": 48,
      "outputs": [
        {
          "output_type": "execute_result",
          "data": {
            "text/plain": [
              "(1520, 14)"
            ]
          },
          "metadata": {},
          "execution_count": 48
        }
      ]
    },
    {
      "cell_type": "code",
      "source": [
        "for i in range(len(rnd_idx)-1):\n",
        "    x1 = np.array(pd.read_csv(train_path+f'{rnd_idx[i+1]}_percep_pos_ecoflex_181221_data.csv')) # fractional derivatives\n",
        "    y1 = np.array(pd.read_csv(train_path+f'{rnd_idx[i+1]}_percep_force_ecoflex_181221_data.csv'))\n",
        "    l = len(y1)\n",
        "    arr = np.array(pd.read_csv(path1+f'{rnd_idx[i+1]}_x_y_pos_vel_ecoflex_181221_data.csv'))[:l,:2] # x and y values\n",
        "    ar = np.array([list(kd[rnd_idx[i+1]-1])]*l) # K and D values\n",
        "    x2 = np.concatenate([x1,arr,ar], axis = 1)\n",
        "    x = np.concatenate([x,x2])\n",
        "    y = np.concatenate([y,y1])\n",
        "print(x.shape, y.shape)"
      ],
      "metadata": {
        "id": "z-q47w4rwpf3",
        "colab": {
          "base_uri": "https://localhost:8080/"
        },
        "outputId": "f593618e-0223-443a-ce9b-5a627160ddc1"
      },
      "execution_count": 49,
      "outputs": [
        {
          "output_type": "stream",
          "name": "stdout",
          "text": [
            "(28928, 14) (28928, 1)\n"
          ]
        }
      ]
    },
    {
      "cell_type": "code",
      "source": [
        "y_test = np.array(pd.read_csv(path+f'{rnd_idx[0]-1}_force_ecoflex_181221_derivative_data.csv'))\n",
        "x_t1 = np.array(pd.read_csv(path+f'{rnd_idx[0]-1}_pos_ecoflex_181221_derivative_data.csv'))\n",
        "arr = np.array(pd.read_csv(path1+f'{rnd_idx[0]-1}_x_y_pos_vel_ecoflex_181221_data.csv'))[:,:2]\n",
        "ar = np.array([list(kd[rnd_idx[0]-2])]*len(x_t1))\n",
        "x_test = np.concatenate([x_t1,arr,ar], axis = 1)\n",
        "\n",
        "x_test.shape, y_test.shape"
      ],
      "metadata": {
        "colab": {
          "base_uri": "https://localhost:8080/"
        },
        "id": "woaRyu8FyM_T",
        "outputId": "9765898a-f559-4d17-af5a-58e37868d6a8"
      },
      "execution_count": 55,
      "outputs": [
        {
          "output_type": "execute_result",
          "data": {
            "text/plain": [
              "((27237, 14), (27237, 1))"
            ]
          },
          "metadata": {},
          "execution_count": 55
        }
      ]
    },
    {
      "cell_type": "code",
      "source": [
        "for i in range(len(rnd_idx)//2):\n",
        "    arr = np.array(pd.read_csv(path1+f'{rnd_idx[i+1]-1}_x_y_pos_vel_ecoflex_181221_data.csv'))[:,:2] # x and y values\n",
        "    x1 = np.array(pd.read_csv(path+f'{rnd_idx[i+1]-1}_pos_ecoflex_181221_derivative_data.csv')) # fractional derivatives\n",
        "    y1 = np.array(pd.read_csv(path+f'{rnd_idx[i+1]-1}_force_ecoflex_181221_derivative_data.csv'))\n",
        "    ar = np.array([list(kd[rnd_idx[i+1]-2])]*len(y1))\n",
        "    x2 = np.concatenate([x1,arr,ar], axis = 1)\n",
        "    x_test = np.concatenate([x_test,x2])\n",
        "    y_test = np.concatenate([y_test,y1])\n",
        "print(x_test.shape, y_test.shape)"
      ],
      "metadata": {
        "colab": {
          "base_uri": "https://localhost:8080/"
        },
        "id": "OavWzOwSyNBw",
        "outputId": "8f2afad5-1780-4481-b9b9-df9959370b23"
      },
      "execution_count": 56,
      "outputs": [
        {
          "output_type": "stream",
          "name": "stdout",
          "text": [
            "(299599, 14) (299599, 1)\n"
          ]
        }
      ]
    },
    {
      "cell_type": "code",
      "source": [
        "cat = CatBoostRegressor()\n",
        "t1 = datetime.now()\n",
        "cat.fit(x,y)\n",
        "t2 = datetime.now()\n",
        "y_pred = cat.predict(x_test)"
      ],
      "metadata": {
        "id": "pVVu1cjHx51p"
      },
      "execution_count": null,
      "outputs": []
    },
    {
      "cell_type": "code",
      "source": [
        "print('RMSE:', mean_squared_error(y_pred, y_test)**0.5)\n",
        "print(t2-t1)"
      ],
      "metadata": {
        "colab": {
          "base_uri": "https://localhost:8080/"
        },
        "id": "NcH_bfoAyvCS",
        "outputId": "a31a500a-4ca5-4a26-afcd-c4e849528da9"
      },
      "execution_count": 58,
      "outputs": [
        {
          "output_type": "stream",
          "name": "stdout",
          "text": [
            "RMSE: 0.3931781698632256\n",
            "0:00:10.714594\n"
          ]
        }
      ]
    },
    {
      "cell_type": "code",
      "source": [
        "for i in range(74,82):\n",
        "    arr = np.array(pd.read_csv(path1+f'{i}_x_y_pos_vel_ecoflex_181221_data.csv'))[:,:2] # x and y values\n",
        "    x1 = np.array(pd.read_csv(path+f'{i}_pos_ecoflex_181221_derivative_data.csv')) # fractional derivatives\n",
        "    y1 = np.array(pd.read_csv(path+f'{i}_force_ecoflex_181221_derivative_data.csv'))\n",
        "    ar = np.array([list(kd[i-1])]*len(y1))\n",
        "    x2 = np.concatenate([x1,arr, ar], axis = 1)\n",
        "    y_pred = cat.predict(x2)\n",
        "    print(f'For point: {i}, Error: {mean_squared_error(y_pred, y1)**0.5}')"
      ],
      "metadata": {
        "colab": {
          "base_uri": "https://localhost:8080/"
        },
        "id": "X1Dmc-S9zXwP",
        "outputId": "b3929c31-7bdd-4723-86b1-774fa57cc6d7"
      },
      "execution_count": 59,
      "outputs": [
        {
          "output_type": "stream",
          "name": "stdout",
          "text": [
            "For point: 74, Error: 0.5187946194177204\n",
            "For point: 75, Error: 0.309790737858857\n",
            "For point: 76, Error: 0.3573230923252336\n",
            "For point: 77, Error: 0.20733394798424307\n",
            "For point: 78, Error: 0.3632131584732766\n",
            "For point: 79, Error: 0.6411062942110692\n",
            "For point: 80, Error: 0.3383149194627558\n",
            "For point: 81, Error: 0.3386099810727889\n"
          ]
        }
      ]
    },
    {
      "cell_type": "code",
      "source": [
        "error = []\n",
        "for i in range(1,201):\n",
        "    arr = np.array(pd.read_csv(path1+f'{i}_x_y_pos_vel_ecoflex_181221_data.csv'))[:,:2] # x and y values\n",
        "    x1 = np.array(pd.read_csv(path+f'{i}_pos_ecoflex_181221_derivative_data.csv')) # fractional derivatives\n",
        "    y1 = np.array(pd.read_csv(path+f'{i}_force_ecoflex_181221_derivative_data.csv'))\n",
        "    ar = np.array([list(kd[i-1])]*len(y1))\n",
        "    x2 = np.concatenate([x1,arr, ar], axis = 1)\n",
        "    y_pred = cat.predict(x2)\n",
        "    statement = f'For point: {i}, Error: {mean_squared_error(y_pred, y1)**0.5}\\n'\n",
        "    #print(f'For point: {i}, Error: {mean_squared_error(y_pred, y1)**0.5}')\n",
        "    error.append(mean_squared_error(y_pred, y1)**0.5)\n",
        "    with open('resuts.txt','a') as f:\n",
        "        f.write(statement)\n",
        "print(sum(error)/len(error))"
      ],
      "metadata": {
        "colab": {
          "base_uri": "https://localhost:8080/"
        },
        "id": "lpzYYSgDLFuA",
        "outputId": "dacc0066-a0a4-4931-fa34-16b710e5b4ad"
      },
      "execution_count": 60,
      "outputs": [
        {
          "output_type": "stream",
          "name": "stdout",
          "text": [
            "0.33104307750252154\n"
          ]
        }
      ]
    },
    {
      "cell_type": "code",
      "source": [
        "max(error), min(error)"
      ],
      "metadata": {
        "id": "0xBBbM0jzTur",
        "colab": {
          "base_uri": "https://localhost:8080/"
        },
        "outputId": "21e026f6-49ac-4de4-f0bb-b5468cc3cfed"
      },
      "execution_count": 61,
      "outputs": [
        {
          "output_type": "execute_result",
          "data": {
            "text/plain": [
              "(1.1124319119797366, 0.07139940236080235)"
            ]
          },
          "metadata": {},
          "execution_count": 61
        }
      ]
    },
    {
      "cell_type": "code",
      "source": [
        "def graph(i):\n",
        "    arr = np.array(pd.read_csv(path1+f'{i}_x_y_pos_vel_ecoflex_181221_data.csv'))[:,:2] # x and y values\n",
        "    x1 = np.array(pd.read_csv(path+f'{i}_pos_ecoflex_181221_derivative_data.csv')) # fractional derivatives\n",
        "    y1 = np.array(pd.read_csv(path+f'{i}_force_ecoflex_181221_derivative_data.csv'))\n",
        "    ar = np.array([list(kd[i-1])]*len(y1))\n",
        "    x2 = np.concatenate([x1,arr, ar], axis = 1)\n",
        "    y_pred = cat.predict(x2)\n",
        "    plt.plot(range(len(y1)), y1, label = 'actual')\n",
        "    plt.plot(range(len(y1)), y_pred, label = 'predicted')\n",
        "    plt.legend()\n",
        "    plt.title(f'Point {i}')\n",
        "    plt.show()\n",
        "\n",
        "graph(199)"
      ],
      "metadata": {
        "colab": {
          "base_uri": "https://localhost:8080/",
          "height": 452
        },
        "id": "xa-0y5r__5sP",
        "outputId": "059fe792-d4e2-43ba-ad04-130528022a88"
      },
      "execution_count": 63,
      "outputs": [
        {
          "output_type": "display_data",
          "data": {
            "text/plain": [
              "<Figure size 640x480 with 1 Axes>"
            ],
            "image/png": "[encoded data removed]"
          },
          "metadata": {}
        }
      ]
    },
    {
      "cell_type": "markdown",
      "source": [
        "# Random Forest"
      ],
      "metadata": {
        "id": "0gXdJIWRKA6l"
      }
    },
    {
      "cell_type": "code",
      "source": [
        "rf = RandomForestRegressor()\n",
        "t1 = datetime.now()\n",
        "rf.fit(x,y)\n",
        "t2 = datetime.now()\n",
        "y_pred = rf.predict(x_test)\n",
        "print('RMSE:', mean_squared_error(y_pred, y_test)**0.5)\n",
        "print(t2-t1)"
      ],
      "metadata": {
        "id": "-0OcdXoEA55i",
        "colab": {
          "base_uri": "https://localhost:8080/"
        },
        "outputId": "d433bef5-8b81-4940-e1d9-85033b4d223b"
      },
      "execution_count": 64,
      "outputs": [
        {
          "output_type": "stream",
          "name": "stdout",
          "text": [
            "RMSE: 0.37577875533027255\n",
            "0:00:36.523250\n"
          ]
        }
      ]
    },
    {
      "cell_type": "code",
      "source": [
        "for i in range(74,82):\n",
        "    arr = np.array(pd.read_csv(path1+f'{i}_x_y_pos_vel_ecoflex_181221_data.csv'))[:,:2] # x and y values\n",
        "    x1 = np.array(pd.read_csv(path+f'{i}_pos_ecoflex_181221_derivative_data.csv')) # fractional derivatives\n",
        "    y1 = np.array(pd.read_csv(path+f'{i}_force_ecoflex_181221_derivative_data.csv'))\n",
        "    ar = np.array([list(kd[i-1])]*len(y1))\n",
        "    x2 = np.concatenate([x1,arr, ar], axis = 1)\n",
        "    y_pred = rf.predict(x2)\n",
        "    print(f'For point: {i}, Error: {mean_squared_error(y_pred, y1)**0.5}')"
      ],
      "metadata": {
        "colab": {
          "base_uri": "https://localhost:8080/"
        },
        "id": "iZqcOLTZKODD",
        "outputId": "6a526cae-8b9d-4fcb-e932-97916072d5ca"
      },
      "execution_count": 65,
      "outputs": [
        {
          "output_type": "stream",
          "name": "stdout",
          "text": [
            "For point: 74, Error: 0.649835361266901\n",
            "For point: 75, Error: 0.15114617259951107\n",
            "For point: 76, Error: 0.5124807807101445\n",
            "For point: 77, Error: 0.19884998926887865\n",
            "For point: 78, Error: 0.1887681120705782\n",
            "For point: 79, Error: 0.3377284304144955\n",
            "For point: 80, Error: 0.44430789069506804\n",
            "For point: 81, Error: 0.21160526617568087\n"
          ]
        }
      ]
    },
    {
      "cell_type": "code",
      "source": [
        "error = []\n",
        "for i in range(1,201):\n",
        "    arr = np.array(pd.read_csv(path1+f'{i}_x_y_pos_vel_ecoflex_181221_data.csv'))[:,:2] # x and y values\n",
        "    x1 = np.array(pd.read_csv(path+f'{i}_pos_ecoflex_181221_derivative_data.csv')) # fractional derivatives\n",
        "    y1 = np.array(pd.read_csv(path+f'{i}_force_ecoflex_181221_derivative_data.csv'))\n",
        "    ar = np.array([list(kd[i-1])]*len(y1))\n",
        "    x2 = np.concatenate([x1,arr, ar], axis = 1)\n",
        "    y_pred = rf.predict(x2)\n",
        "    statement = f'For point: {i}, Error: {mean_squared_error(y_pred, y1)**0.5}\\n'\n",
        "    #print(f'For point: {i}, Error: {mean_squared_error(y_pred, y1)**0.5}')\n",
        "    error.append(mean_squared_error(y_pred, y1)**0.5)\n",
        "    with open('results.txt','a') as f:\n",
        "        f.write(statement)\n",
        "print(sum(error)/len(error))"
      ],
      "metadata": {
        "id": "pMivG2eKKY2E",
        "colab": {
          "base_uri": "https://localhost:8080/"
        },
        "outputId": "989661dd-44d8-41ad-9606-0d5ea5189f5d"
      },
      "execution_count": 66,
      "outputs": [
        {
          "output_type": "stream",
          "name": "stdout",
          "text": [
            "0.3283248817718604\n"
          ]
        }
      ]
    },
    {
      "cell_type": "code",
      "source": [
        "max(error), min(error)"
      ],
      "metadata": {
        "colab": {
          "base_uri": "https://localhost:8080/"
        },
        "id": "RNQrP6M7T8jm",
        "outputId": "2d3a76bc-d4cc-414f-ac93-a3261094fe5c"
      },
      "execution_count": 67,
      "outputs": [
        {
          "output_type": "execute_result",
          "data": {
            "text/plain": [
              "(1.2975884631804728, 0.07351974400710372)"
            ]
          },
          "metadata": {},
          "execution_count": 67
        }
      ]
    },
    {
      "cell_type": "code",
      "source": [],
      "metadata": {
        "id": "ngt4QjtmT_9l"
      },
      "execution_count": null,
      "outputs": []
    }
  ],
  "metadata": {
    "colab": {
      "provenance": []
    },
    "kernelspec": {
      "display_name": "Python 3",
      "language": "python",
      "name": "python3"
    },
    "language_info": {
      "codemirror_mode": {
        "name": "ipython",
        "version": 3
      },
      "file_extension": ".py",
      "mimetype": "text/x-python",
      "name": "python",
      "nbconvert_exporter": "python",
      "pygments_lexer": "ipython3",
      "version": "3.7.4"
    }
  },
  "nbformat": 4,
  "nbformat_minor": 0
}